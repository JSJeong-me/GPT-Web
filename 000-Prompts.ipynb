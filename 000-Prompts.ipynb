{
  "nbformat": 4,
  "nbformat_minor": 0,
  "metadata": {
    "colab": {
      "provenance": [],
      "gpuType": "T4",
      "authorship_tag": "ABX9TyMYIfWyoBvnZ2AEwjXUQWZR",
      "include_colab_link": true
    },
    "kernelspec": {
      "name": "python3",
      "display_name": "Python 3"
    },
    "language_info": {
      "name": "python"
    },
    "accelerator": "GPU"
  },
  "cells": [
    {
      "cell_type": "markdown",
      "metadata": {
        "id": "view-in-github",
        "colab_type": "text"
      },
      "source": [
        "<a href=\"https://colab.research.google.com/github/JSJeong-me/GPT-Web/blob/main/000-Prompts.ipynb\" target=\"_parent\"><img src=\"https://colab.research.google.com/assets/colab-badge.svg\" alt=\"Open In Colab\"/></a>"
      ]
    },
    {
      "cell_type": "code",
      "source": [
        "!pip install python-dotenv openai"
      ],
      "metadata": {
        "id": "M4Yp9Ni16Fq2"
      },
      "execution_count": null,
      "outputs": []
    },
    {
      "cell_type": "code",
      "source": [
        "!echo \"OPENAI_API_KEY=sk-\" >> .env\n",
        "import os\n",
        "import openai\n",
        "from dotenv import load_dotenv\n",
        "\n",
        "# Load environment variables from .env file\n",
        "load_dotenv()\n",
        "# Access the API key using the variable name defined in the .env file\n",
        "api_key = os.getenv(\"OPENAI_API_KEY\")"
      ],
      "metadata": {
        "id": "sl6lZqNf5_g2"
      },
      "execution_count": 6,
      "outputs": []
    },
    {
      "cell_type": "code",
      "source": [
        "!ls -al"
      ],
      "metadata": {
        "id": "zB19BHn37A0y"
      },
      "execution_count": null,
      "outputs": []
    },
    {
      "cell_type": "code",
      "source": [
        "client = openai.OpenAI()\n",
        "\n",
        "def get_completion(prompt, model=\"gpt-3.5-turbo\"):\n",
        "    messages = [{\"role\": \"user\", \"content\": prompt}]\n",
        "    response = client.chat.completions.create(\n",
        "        model=model,\n",
        "        messages=messages,\n",
        "        temperature=0\n",
        "    )\n",
        "    return response.choices[0].message.content"
      ],
      "metadata": {
        "id": "WYBh7M-p2kS_"
      },
      "execution_count": 7,
      "outputs": []
    },
    {
      "cell_type": "markdown",
      "source": [
        "## Prompting Principles\n",
        "- **Principle 1: Write clear and specific instructions**\n",
        "\n",
        "\n",
        "### Tactics\n",
        "\n",
        "#### Tactic 1: '입력의 구분을 명확히 하기 위해 구분자를 사용\n",
        "- 구분자: ```, \"\"\", < >, `<tag> </tag>`, `:`"
      ],
      "metadata": {
        "id": "S7BOhYF07KlD"
      }
    },
    {
      "cell_type": "code",
      "source": [
        "text = f\"\"\"\n",
        "모델이 수행해야 할 작업을 명확하고 구체적으로 설명해야 합니다.\n",
        "이는 모델이 원하는 출력으로 안내하고,\n",
        "부적절하거나 잘못된 응답을 받을 가능성을 줄여줍니다.\n",
        "명확한 프롬프트를 작성하는 것과 짧은 프롬프트를 작성하는 것을 혼동하지 마세요.\n",
        "많은 경우에, 긴 프롬프트가 모델에게 더 많은 명확성과 문맥을 제공하여\n",
        "더 상세하고 관련성 높은 출력을 도출할 수 있습니다.\n",
        "\"\"\"\n",
        "prompt = f\"\"\"\n",
        "세 개의' triple backticks''으로 구분된 텍스트를 한 문장으로 요약하세요.\\\n",
        "```{text}```\n",
        "\"\"\"\n",
        "response = get_completion(prompt)\n",
        "print(response)"
      ],
      "metadata": {
        "colab": {
          "base_uri": "https://localhost:8080/"
        },
        "id": "C-bxr-ln6pMZ",
        "outputId": "19d169b9-dfac-49de-96f9-91eb2afaa47f"
      },
      "execution_count": 9,
      "outputs": [
        {
          "output_type": "stream",
          "name": "stdout",
          "text": [
            "모델이 수행할 작업을 명확하게 설명하고, 적절한 출력을 유도하기 위해 명확하고 구체적인 프롬프트를 작성해야 합니다.\n"
          ]
        }
      ]
    },
    {
      "cell_type": "markdown",
      "source": [
        "#### Tactic 2: 구조화된 출력을 요청하세요.\n",
        "- JSON, HTML"
      ],
      "metadata": {
        "id": "YNopftCl8MCe"
      }
    },
    {
      "cell_type": "code",
      "source": [
        "prompt = f\"\"\"\n",
        "세 개의 가상의 책 제목과 저자 및 장르 목록을 생성하세요.\n",
        "다음 키를 사용하여 JSON 형식으로 제공하세요: book_id, title, author, genre.\n",
        "\"\"\"\n",
        "response = get_completion(prompt)\n",
        "print(response)"
      ],
      "metadata": {
        "colab": {
          "base_uri": "https://localhost:8080/"
        },
        "id": "JDIuyo1j8EWJ",
        "outputId": "40e3c5ec-4296-40f1-9fef-dcd48522e540"
      },
      "execution_count": 10,
      "outputs": [
        {
          "output_type": "stream",
          "name": "stdout",
          "text": [
            "[\n",
            "    {\n",
            "        \"book_id\": 1,\n",
            "        \"title\": \"The Midnight Library\",\n",
            "        \"author\": \"Matt Haig\",\n",
            "        \"genre\": \"Fiction\"\n",
            "    },\n",
            "    {\n",
            "        \"book_id\": 2,\n",
            "        \"title\": \"Educated\",\n",
            "        \"author\": \"Tara Westover\",\n",
            "        \"genre\": \"Memoir\"\n",
            "    },\n",
            "    {\n",
            "        \"book_id\": 3,\n",
            "        \"title\": \"Where the Crawdads Sing\",\n",
            "        \"author\": \"Delia Owens\",\n",
            "        \"genre\": \"Mystery\"\n",
            "    }\n",
            "]\n"
          ]
        }
      ]
    },
    {
      "cell_type": "markdown",
      "source": [
        "#### Tactic 3: 조건이 충족되는지 모델에게 확인하도록 요청하세요"
      ],
      "metadata": {
        "id": "E_ql1ML88ucI"
      }
    },
    {
      "cell_type": "code",
      "source": [
        "text_1 = f\"\"\"\n",
        "차 한 잔을 만드는 것은 쉽습니다! 먼저, 물을 끓여야 합니다. \\\n",
        "물이 끓는 동안 컵을 준비하고 티백을 넣습니다. 물이 충분히 뜨거워지면 티백 위에 물을 부어줍니다. \\\n",
        "차가 우러날 수 있도록 잠시 놔둡니다.\\\n",
        "몇 분 후에 티백을 꺼내십시오. 원하시면 설탕이나 우유를 기호에 맞게 추가할 수 있습니다. \\\n",
        "그리고 끝! 맛있는 차 한 잔이 완성되었습니다.\n",
        "\"\"\"\n",
        "prompt = f\"\"\"\n",
        "다음과 같이 세 개의 따옴표로 구분된 텍스트가 제공될 것입니다.\n",
        "만약 그 텍스트에 일련의 지시 사항이 포함되어 있다면,\n",
        "그 지시 사항을 다음 형식으로 다시 작성하세요:\n",
        "\n",
        "Step 1 - ...\n",
        "Step 2 - …\n",
        "…\n",
        "Step N - …\n",
        "\n",
        "텍스트에 명령어 시퀀스가 포함되어 있지 않으면, 단순히 \\\"No steps provided.\\\"라고 작성하세요.\n",
        "\n",
        "\\\"\\\"\\\"{text_1}\\\"\\\"\\\"\n",
        "\"\"\"\n",
        "response = get_completion(prompt)\n",
        "print(\"Completion for Text 1:\")\n",
        "print(response)"
      ],
      "metadata": {
        "colab": {
          "base_uri": "https://localhost:8080/"
        },
        "id": "2Xl7m-VZ8qBK",
        "outputId": "0c0ac3cd-b209-4e3f-d310-f7bf658587fa"
      },
      "execution_count": 11,
      "outputs": [
        {
          "output_type": "stream",
          "name": "stdout",
          "text": [
            "Completion for Text 1:\n",
            "Step 1 - 물을 끓입니다.\n",
            "Step 2 - 컵을 준비하고 티백을 넣습니다.\n",
            "Step 3 - 물을 티백 위에 부어줍니다.\n",
            "Step 4 - 차가 우러날 수 있도록 잠시 놔둡니다.\n",
            "Step 5 - 티백을 꺼냅니다.\n",
            "Step 6 - 설탕이나 우유를 추가할 수 있습니다.\n",
            "Step 7 - 즐기세요!\n"
          ]
        }
      ]
    },
    {
      "cell_type": "code",
      "source": [
        "text_2 = f\"\"\"\n",
        "오늘은 햇빛이 밝게 빛나고, 새들이 지저귀고 있습니다. \\\n",
        "공원에서 산책하기에 아주 좋은 날입니다. \\\n",
        "꽃들이 피어나고 나무들은 산들바람에 부드럽게 흔들리고 있습니다. \\\n",
        "사람들은 밖에 나와서 멋진 날씨를 즐기고 있습니다. \\\n",
        "어떤 사람들은 소풍을 하고 있고, 다른 사람들은 게임을 하거나 잔디에 앉아 단순히 휴식을 취하고 있습니다. \\\n",
        "야외에서 시간을 보내고 자연의 아름다움을 감상하기에 완벽한 날입니다.\n",
        "\"\"\"\n",
        "prompt = f\"\"\"\n",
        "다음과 같이 세 개의 따옴표로 구분된 텍스트가 제공될 것입니다.\n",
        "만약 그 텍스트에 일련의 지시 사항이 포함되어 있다면,\n",
        "그 지시 사항을 다음 형식으로 다시 작성하세요:\n",
        "\n",
        "Step 1 - ...\n",
        "Step 2 - …\n",
        "…\n",
        "Step N - …\n",
        "\n",
        "텍스트에 명령어 시퀀스가 포함되어 있지 않으면, 단순히 \\\"No steps provided.\\\"라고 작성하세요.\n",
        "\n",
        "\\\"\\\"\\\"{text_2}\\\"\\\"\\\"\n",
        "\"\"\"\n",
        "response = get_completion(prompt)\n",
        "print(\"Completion for Text 1:\")\n",
        "print(response)"
      ],
      "metadata": {
        "colab": {
          "base_uri": "https://localhost:8080/"
        },
        "id": "_yGxHpsZ95wS",
        "outputId": "34f16f0d-7f8d-4253-ade8-10e1df4c5477"
      },
      "execution_count": 13,
      "outputs": [
        {
          "output_type": "stream",
          "name": "stdout",
          "text": [
            "Completion for Text 1:\n",
            "No steps provided.\n"
          ]
        }
      ]
    },
    {
      "cell_type": "markdown",
      "source": [
        "#### Tactic 4: \"Few-shot\" prompting"
      ],
      "metadata": {
        "id": "pVG6-0pn-Y_3"
      }
    },
    {
      "cell_type": "code",
      "source": [
        "prompt = f\"\"\"\n",
        "당신의 임무는 일관된 스타일로 답하는 것입니다.\n",
        "\n",
        "<아이>: 인내심에 대해 가르쳐 주세요.\n",
        "\n",
        "<할아버지>: 가장 깊은 계곡을 만드는 강은 작은 샘에서 흐르며, \\\n",
        "가장 웅장한 교향곡은 하나의 음에서 시작되고, 가장 복잡한 태피스트리는 하나의 실에서 시작된단다.\n",
        "\n",
        "<아이>: 회복력에 대해 가르쳐 주세요.\n",
        "\n",
        "\"\"\"\n",
        "response = get_completion(prompt)\n",
        "print(response)"
      ],
      "metadata": {
        "colab": {
          "base_uri": "https://localhost:8080/"
        },
        "id": "c2MWNsTU-b3h",
        "outputId": "d3b569cf-81ec-4d88-b341-5f1978077020"
      },
      "execution_count": 14,
      "outputs": [
        {
          "output_type": "stream",
          "name": "stdout",
          "text": [
            "<할아버지>: 나무가 바람에 흔들리면 뿌리가 더 깊이 파고들어 더 튼튼해진다. 어려움을 이겨내고 성장하는 것도 마찬가지야. 어려운 시기를 극복하면 더 강해지고 성숙해진다는 걸 기억해둬.\n"
          ]
        }
      ]
    }
  ]
}