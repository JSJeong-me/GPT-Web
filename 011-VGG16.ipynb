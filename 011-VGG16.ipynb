{
  "nbformat": 4,
  "nbformat_minor": 0,
  "metadata": {
    "colab": {
      "provenance": [],
      "authorship_tag": "ABX9TyMtBtKtC0KgK224RCYSfyv8",
      "include_colab_link": true
    },
    "kernelspec": {
      "name": "python3",
      "display_name": "Python 3"
    },
    "language_info": {
      "name": "python"
    }
  },
  "cells": [
    {
      "cell_type": "markdown",
      "metadata": {
        "id": "view-in-github",
        "colab_type": "text"
      },
      "source": [
        "<a href=\"https://colab.research.google.com/github/JSJeong-me/GPT-Web/blob/main/011-VGG16.ipynb\" target=\"_parent\"><img src=\"https://colab.research.google.com/assets/colab-badge.svg\" alt=\"Open In Colab\"/></a>"
      ]
    },
    {
      "cell_type": "code",
      "execution_count": 6,
      "metadata": {
        "colab": {
          "base_uri": "https://localhost:8080/"
        },
        "id": "Ik_IaexyGc89",
        "outputId": "449dccec-4831-4e87-d5d1-f61155c350e6"
      },
      "outputs": [
        {
          "output_type": "stream",
          "name": "stdout",
          "text": [
            "1/1 [==============================] - 1s 1s/step\n",
            "Elephant Probability: 45.65%\n"
          ]
        }
      ],
      "source": [
        "from tensorflow.keras.applications.vgg16 import VGG16, preprocess_input, decode_predictions\n",
        "from tensorflow.keras.preprocessing import image\n",
        "import numpy as np\n",
        "\n",
        "# VGG16 모델을 완전 연결 레이어와 함께 로드합니다.\n",
        "model = VGG16(weights='imagenet')\n",
        "\n",
        "# 이미지를 로드하고 전처리합니다.\n",
        "img_path = 'elephant.jpg'\n",
        "img = image.load_img(img_path, target_size=(224, 224))\n",
        "x = image.img_to_array(img)\n",
        "x = np.expand_dims(x, axis=0)\n",
        "x = preprocess_input(x)\n",
        "\n",
        "# 이미지에 대한 예측을 수행합니다.\n",
        "predictions = model.predict(x)\n",
        "\n",
        "# 예측 결과를 해석합니다.\n",
        "decoded_predictions = decode_predictions(predictions, top=5)[0]\n",
        "for i, (imagenet_id, label, score) in enumerate(decoded_predictions):\n",
        "    if 'elephant' in label:\n",
        "        print(f\"Elephant Probability: {score*100:.2f}%\")\n",
        "        break\n",
        "else:\n",
        "    print(\"Elephant not found in the top-5 predictions\")\n"
      ]
    },
    {
      "cell_type": "code",
      "source": [
        "decoded_predictions"
      ],
      "metadata": {
        "id": "DEdlpVXGG4u6"
      },
      "execution_count": null,
      "outputs": []
    }
  ]
}