{
  "nbformat": 4,
  "nbformat_minor": 0,
  "metadata": {
    "colab": {
      "provenance": [],
      "gpuType": "T4",
      "authorship_tag": "ABX9TyNZTXttlucIayfcn87RDvyB",
      "include_colab_link": true
    },
    "kernelspec": {
      "name": "python3",
      "display_name": "Python 3"
    },
    "language_info": {
      "name": "python"
    },
    "accelerator": "GPU"
  },
  "cells": [
    {
      "cell_type": "markdown",
      "metadata": {
        "id": "view-in-github",
        "colab_type": "text"
      },
      "source": [
        "<a href=\"https://colab.research.google.com/github/JSJeong-me/GPT-Web/blob/main/011-VGG16.ipynb\" target=\"_parent\"><img src=\"https://colab.research.google.com/assets/colab-badge.svg\" alt=\"Open In Colab\"/></a>"
      ]
    },
    {
      "cell_type": "code",
      "source": [
        "!wget --no-check-certificate 'https://docs.google.com/uc?export=download&id=1IcBrgcx8NP85gYg5XrhPhr12GgGDPweu' -O elephant.jpg"
      ],
      "metadata": {
        "id": "cK41sthMpEMU"
      },
      "execution_count": null,
      "outputs": []
    },
    {
      "cell_type": "code",
      "execution_count": 2,
      "metadata": {
        "id": "Ik_IaexyGc89"
      },
      "outputs": [],
      "source": [
        "from tensorflow.keras.applications.vgg16 import VGG16, preprocess_input, decode_predictions\n",
        "from tensorflow.keras.preprocessing import image\n",
        "import numpy as np"
      ]
    },
    {
      "cell_type": "code",
      "source": [
        "# VGG16 모델을 완전 연결 레이어와 함께 로드합니다.\n",
        "model = VGG16(weights='imagenet')\n",
        "\n",
        "# 이미지를 로드하고 전처리합니다.\n",
        "img_path = 'elephant.jpg'\n",
        "img = image.load_img(img_path, target_size=(224, 224))\n",
        "x = image.img_to_array(img)\n",
        "x = np.expand_dims(x, axis=0)\n",
        "x = preprocess_input(x)\n",
        "\n",
        "# 이미지에 대한 예측을 수행합니다.\n",
        "predictions = model.predict(x)\n",
        "\n",
        "# 예측 결과를 해석합니다.\n",
        "decoded_predictions = decode_predictions(predictions, top=5)[0]\n",
        "for i, (imagenet_id, label, score) in enumerate(decoded_predictions):\n",
        "    if 'elephant' in label:\n",
        "        print(f\"Elephant Probability: {score*100:.2f}%\")\n",
        "        break\n",
        "else:\n",
        "    print(\"Elephant not found in the top-5 predictions\")\n"
      ],
      "metadata": {
        "id": "qJHd2l9mpWgj",
        "outputId": "f76625e6-51a4-4cfb-fea5-426b9e820670",
        "colab": {
          "base_uri": "https://localhost:8080/"
        }
      },
      "execution_count": 3,
      "outputs": [
        {
          "output_type": "stream",
          "name": "stdout",
          "text": [
            "Downloading data from https://storage.googleapis.com/tensorflow/keras-applications/vgg16/vgg16_weights_tf_dim_ordering_tf_kernels.h5\n",
            "553467096/553467096 [==============================] - 28s 0us/step\n",
            "1/1 [==============================] - 3s 3s/step\n",
            "Downloading data from https://storage.googleapis.com/download.tensorflow.org/data/imagenet_class_index.json\n",
            "35363/35363 [==============================] - 0s 0us/step\n",
            "Elephant Probability: 58.96%\n"
          ]
        }
      ]
    },
    {
      "cell_type": "code",
      "source": [
        "decoded_predictions"
      ],
      "metadata": {
        "id": "DEdlpVXGG4u6",
        "outputId": "01fcd3b1-417e-44c3-b59a-ba4d3a84176a",
        "colab": {
          "base_uri": "https://localhost:8080/"
        }
      },
      "execution_count": 4,
      "outputs": [
        {
          "output_type": "execute_result",
          "data": {
            "text/plain": [
              "[('n02504458', 'African_elephant', 0.58964443),\n",
              " ('n01871265', 'tusker', 0.39534792),\n",
              " ('n02504013', 'Indian_elephant', 0.014534739),\n",
              " ('n02437312', 'Arabian_camel', 0.0002635161),\n",
              " ('n02113799', 'standard_poodle', 4.4038385e-05)]"
            ]
          },
          "metadata": {},
          "execution_count": 4
        }
      ]
    }
  ]
}