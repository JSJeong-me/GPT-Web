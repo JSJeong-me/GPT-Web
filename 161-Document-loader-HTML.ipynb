{
  "nbformat": 4,
  "nbformat_minor": 0,
  "metadata": {
    "colab": {
      "provenance": [],
      "gpuType": "T4",
      "authorship_tag": "ABX9TyNSZMeWEGmjXTsq9MwdCYsY",
      "include_colab_link": true
    },
    "kernelspec": {
      "name": "python3",
      "display_name": "Python 3"
    },
    "language_info": {
      "name": "python"
    },
    "accelerator": "GPU"
  },
  "cells": [
    {
      "cell_type": "markdown",
      "metadata": {
        "id": "view-in-github",
        "colab_type": "text"
      },
      "source": [
        "<a href=\"https://colab.research.google.com/github/JSJeong-me/GPT-Web/blob/main/161-Document-loader-HTML.ipynb\" target=\"_parent\"><img src=\"https://colab.research.google.com/assets/colab-badge.svg\" alt=\"Open In Colab\"/></a>"
      ]
    },
    {
      "cell_type": "code",
      "source": [
        "!pip install langchain\n",
        "!pip install openai==0.28\n",
        "!pip install python-dotenv"
      ],
      "metadata": {
        "id": "lDa7ban8w3qj"
      },
      "execution_count": null,
      "outputs": []
    },
    {
      "cell_type": "code",
      "source": [
        "!echo \"OPENAI_API_KEY=sk-\" >> .env\n",
        "!source /content/.env"
      ],
      "metadata": {
        "id": "JZktrANFw5kN"
      },
      "execution_count": null,
      "outputs": []
    },
    {
      "cell_type": "code",
      "source": [
        "import os\n",
        "from dotenv import load_dotenv\n",
        "\n",
        "# Load environment variables from .env file\n",
        "load_dotenv()\n",
        "# Access the API key using the variable name defined in the .env file\n",
        "api_key = os.getenv(\"OPENAI_API_KEY\")"
      ],
      "metadata": {
        "id": "-lvbg_URw7i9"
      },
      "execution_count": null,
      "outputs": []
    },
    {
      "cell_type": "markdown",
      "source": [
        "여기서는 HTML 문서를 다운스트림에서 사용할 수 있는 문서 형식으로 로드하는 방법을 다룹니다."
      ],
      "metadata": {
        "id": "SB-HADN2htz-"
      }
    },
    {
      "cell_type": "code",
      "source": [
        "!pip install unstructured"
      ],
      "metadata": {
        "id": "2i6xYxBxxQ-m"
      },
      "execution_count": null,
      "outputs": []
    },
    {
      "cell_type": "code",
      "execution_count": null,
      "metadata": {
        "id": "ReFhoO7phjpv"
      },
      "outputs": [],
      "source": [
        "from langchain.document_loaders import UnstructuredHTMLLoader"
      ]
    },
    {
      "cell_type": "code",
      "source": [
        "loader = UnstructuredHTMLLoader(\"fake-content.html\")"
      ],
      "metadata": {
        "id": "3e7LSrF1hlm6"
      },
      "execution_count": null,
      "outputs": []
    },
    {
      "cell_type": "code",
      "source": [],
      "metadata": {
        "id": "Ask5_DxXwym_"
      },
      "execution_count": null,
      "outputs": []
    },
    {
      "cell_type": "code",
      "source": [
        "data = loader.load()"
      ],
      "metadata": {
        "id": "KNJAeuNWhoF4"
      },
      "execution_count": null,
      "outputs": []
    },
    {
      "cell_type": "code",
      "source": [
        "data"
      ],
      "metadata": {
        "id": "diB8pfzohpWP"
      },
      "execution_count": null,
      "outputs": []
    },
    {
      "cell_type": "code",
      "source": [
        "type(data)"
      ],
      "metadata": {
        "id": "CJQVs7XuyLDT"
      },
      "execution_count": null,
      "outputs": []
    },
    {
      "cell_type": "code",
      "source": [
        "len(data)"
      ],
      "metadata": {
        "id": "ZpzIUG0lyUdr"
      },
      "execution_count": null,
      "outputs": []
    },
    {
      "cell_type": "code",
      "source": [
        "data_str = data[0]"
      ],
      "metadata": {
        "id": "8qJpmUy1ya2c"
      },
      "execution_count": null,
      "outputs": []
    },
    {
      "cell_type": "code",
      "source": [
        "data_str"
      ],
      "metadata": {
        "id": "FIP86IvMyfSN"
      },
      "execution_count": null,
      "outputs": []
    },
    {
      "cell_type": "markdown",
      "source": [
        "BSHTMLLoader를 사용하여 HTML 문서를 로드하기 위해 BeautifulSoup4를 사용할 수도 있습니다. 그러면 HTML의 텍스트가 page_content로 추출되고 페이지 제목이 메타데이터로 추출됩니다."
      ],
      "metadata": {
        "id": "VDDEZ-3MhyX4"
      }
    },
    {
      "cell_type": "code",
      "source": [
        "from langchain.document_loaders import BSHTMLLoader"
      ],
      "metadata": {
        "id": "7cBKl7KAzdBJ"
      },
      "execution_count": null,
      "outputs": []
    },
    {
      "cell_type": "code",
      "source": [
        "loader = BSHTMLLoader(\"fake-content.html\")\n",
        "data = loader.load()"
      ],
      "metadata": {
        "id": "Qsbg1SKJh3Me"
      },
      "execution_count": null,
      "outputs": []
    },
    {
      "cell_type": "markdown",
      "source": [
        "HTML into page_content, and the page title as title into metadata\n"
      ],
      "metadata": {
        "id": "pl8B6BL6zurC"
      }
    },
    {
      "cell_type": "code",
      "source": [
        "data"
      ],
      "metadata": {
        "id": "fvhhuO7szhBF"
      },
      "execution_count": null,
      "outputs": []
    },
    {
      "cell_type": "code",
      "source": [
        "len(data)"
      ],
      "metadata": {
        "id": "JS2gFUrMzzVl"
      },
      "execution_count": null,
      "outputs": []
    },
    {
      "cell_type": "code",
      "source": [],
      "metadata": {
        "id": "8yf0cw5_0C8w"
      },
      "execution_count": null,
      "outputs": []
    }
  ]
}