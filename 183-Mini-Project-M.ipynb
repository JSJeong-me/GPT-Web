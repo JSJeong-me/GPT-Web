{
  "nbformat": 4,
  "nbformat_minor": 0,
  "metadata": {
    "colab": {
      "provenance": [],
      "authorship_tag": "ABX9TyMQdCwl5Cy8oOvBNvy7A+ZD",
      "include_colab_link": true
    },
    "kernelspec": {
      "name": "python3",
      "display_name": "Python 3"
    },
    "language_info": {
      "name": "python"
    }
  },
  "cells": [
    {
      "cell_type": "markdown",
      "metadata": {
        "id": "view-in-github",
        "colab_type": "text"
      },
      "source": [
        "<a href=\"https://colab.research.google.com/github/JSJeong-me/GPT-Web/blob/main/183-Mini-Project-M.ipynb\" target=\"_parent\"><img src=\"https://colab.research.google.com/assets/colab-badge.svg\" alt=\"Open In Colab\"/></a>"
      ]
    },
    {
      "cell_type": "code",
      "source": [
        "!pip install openai python-dotenv langchain langchain_openai langchain_community langchain_chroma langchain_text_splitters"
      ],
      "metadata": {
        "id": "zUJjGBp-f-44"
      },
      "execution_count": null,
      "outputs": []
    },
    {
      "cell_type": "code",
      "source": [
        "import os\n",
        "from dotenv import load_dotenv\n",
        "\n",
        "# Load environment variables from .env file\n",
        "load_dotenv()\n",
        "# Access the API key using the variable name defined in the .env file\n",
        "api_key = os.getenv(\"OPENAI_API_KEY\")"
      ],
      "metadata": {
        "id": "j9W7vQ5SZTpe"
      },
      "execution_count": null,
      "outputs": []
    },
    {
      "cell_type": "code",
      "source": [
        "from langchain.embeddings import OpenAIEmbeddings\n",
        "from langchain.text_splitter import CharacterTextSplitter\n",
        "from langchain.vectorstores import Chroma\n",
        "from langchain.docstore.document import Document  # Import the Document class\n",
        "\n",
        "# Sample texts\n",
        "texts = [\n",
        "    \"광대버섯(Amanita phalloides)은 크고 인상적인 후성(위) 자실체(담자과체)를 가지고 있습니다.\",\n",
        "    \"큰 자실체를 가진 버섯은 Amanita phalloides입니다. 일부 품종은 모두 흰색입니다.\",\n",
        "    \"A. phalloides, 일명 Death Cap은 알려진 모든 버섯 중에서 가장 독성이 강한 버섯 중 하나입니다.\",\n",
        "]\n",
        "\n",
        "# Custom text loader function\n",
        "def load_texts(text_list):\n",
        "    documents = []\n",
        "    for text in text_list:\n",
        "        documents.append(Document(page_content=text, metadata={}))  # Create Document objects\n",
        "    return documents\n",
        "\n",
        "# Load the documents\n",
        "raw_documents = load_texts(texts)\n",
        "\n",
        "# Initialize the text splitter and embeddings\n",
        "text_splitter = CharacterTextSplitter(chunk_size=100, chunk_overlap=0)\n",
        "embeddings = OpenAIEmbeddings()\n",
        "\n",
        "# Split the documents into chunks\n",
        "chunks = []\n",
        "for doc in raw_documents:\n",
        "    chunks.extend(text_splitter.split_text(doc.page_content))\n",
        "\n",
        "# Embed each chunk\n",
        "embedded_chunks = embeddings.embed_documents([chunk for chunk in chunks])  # Pass list of strings\n",
        "\n",
        "# Initialize the vector store with embedded chunks\n",
        "vector_store = Chroma.from_documents(\n",
        "    [Document(page_content=chunk, metadata={}) for chunk in chunks],\n",
        "    embeddings\n",
        ")\n"
      ],
      "metadata": {
        "colab": {
          "base_uri": "https://localhost:8080/"
        },
        "id": "E8Twmg9fkqMF",
        "outputId": "ba4caea8-d2bd-4138-eda5-6ef2450346d9"
      },
      "execution_count": null,
      "outputs": [
        {
          "output_type": "stream",
          "name": "stderr",
          "text": [
            "/usr/local/lib/python3.10/dist-packages/langchain_core/_api/deprecation.py:119: LangChainDeprecationWarning: The class `OpenAIEmbeddings` was deprecated in LangChain 0.0.9 and will be removed in 0.3.0. An updated version of the class exists in the langchain-openai package and should be used instead. To use it run `pip install -U langchain-openai` and import as `from langchain_openai import OpenAIEmbeddings`.\n",
            "  warn_deprecated(\n"
          ]
        }
      ]
    },
    {
      "cell_type": "code",
      "source": [
        "def dynamic_search(question):\n",
        "    try:\n",
        "        k = int(input(\"원하는 검색 결과의 수를 입력하세요 (1-3): \"))\n",
        "        if k < 1 or k > 3:\n",
        "            raise ValueError(\"검색 결과의 수는 1에서 3 사이여야 합니다.\")\n",
        "    except ValueError as e:\n",
        "        print(f\"잘못된 입력입니다: {e}\")\n",
        "        return []\n",
        "\n",
        "    # Ensure vector_store is properly initialized and accessible\n",
        "    return vector_store.similarity_search_with_score(query=question, k=k)\n",
        "\n",
        "# 사용자 질문에 따른 검색\n",
        "question = \"큰 자실체를 가진 순백색 버섯에 대해 알려주세요\"\n",
        "search_results = dynamic_search(question)\n",
        "print(\"검색 결과:\", search_results)\n"
      ],
      "metadata": {
        "colab": {
          "base_uri": "https://localhost:8080/"
        },
        "id": "QL-JWoS3mrV6",
        "outputId": "3cbd381b-07e5-4ec3-c501-611a2fa5864b"
      },
      "execution_count": null,
      "outputs": [
        {
          "output_type": "stream",
          "name": "stdout",
          "text": [
            "원하는 검색 결과의 수를 입력하세요 (1-3): 3\n",
            "검색 결과: [(Document(page_content='큰 자실체를 가진 버섯은 Amanita phalloides입니다. 일부 품종은 모두 흰색입니다.'), 0.20683683454990387), (Document(page_content='A. phalloides, 일명 Death Cap은 알려진 모든 버섯 중에서 가장 독성이 강한 버섯 중 하나입니다.'), 0.3165876865386963), (Document(page_content='광대버섯(Amanita phalloides)은 크고 인상적인 후성(위) 자실체(담자과체)를 가지고 있습니다.'), 0.31780287623405457)]\n"
          ]
        }
      ]
    }
  ]
}