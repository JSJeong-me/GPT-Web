{
  "cells": [
    {
      "cell_type": "markdown",
      "metadata": {
        "id": "view-in-github",
        "colab_type": "text"
      },
      "source": [
        "<a href=\"https://colab.research.google.com/github/JSJeong-me/GPT-Web/blob/main/061-OpenAI-API.ipynb\" target=\"_parent\"><img src=\"https://colab.research.google.com/assets/colab-badge.svg\" alt=\"Open In Colab\"/></a>"
      ]
    },
    {
      "cell_type": "code",
      "source": [
        "!pip install openai==0.28"
      ],
      "metadata": {
        "id": "4Qo84hLqKDB8"
      },
      "id": "4Qo84hLqKDB8",
      "execution_count": null,
      "outputs": []
    },
    {
      "cell_type": "markdown",
      "source": [
        "### API Key 관리"
      ],
      "metadata": {
        "id": "n1EZkpSjOHhc"
      },
      "id": "n1EZkpSjOHhc"
    },
    {
      "cell_type": "code",
      "source": [
        "!pip install python-dotenv"
      ],
      "metadata": {
        "colab": {
          "base_uri": "https://localhost:8080/"
        },
        "id": "-KtGPIrNLQvT",
        "outputId": "89fdede2-99d7-4408-95ee-c5ebc7e3b27c"
      },
      "id": "-KtGPIrNLQvT",
      "execution_count": 2,
      "outputs": [
        {
          "output_type": "stream",
          "name": "stdout",
          "text": [
            "Requirement already satisfied: python-dotenv in /usr/local/lib/python3.10/dist-packages (1.0.0)\n"
          ]
        }
      ]
    },
    {
      "cell_type": "code",
      "source": [
        "!echo \"OPENAI_API_KEY=sk-\" >> .env"
      ],
      "metadata": {
        "id": "6WcDFbMjMY2d"
      },
      "id": "6WcDFbMjMY2d",
      "execution_count": 3,
      "outputs": []
    },
    {
      "cell_type": "code",
      "source": [
        "!ls -al"
      ],
      "metadata": {
        "id": "KeamM7FJNW38"
      },
      "id": "KeamM7FJNW38",
      "execution_count": null,
      "outputs": []
    },
    {
      "cell_type": "code",
      "source": [
        "!source /content/.env"
      ],
      "metadata": {
        "id": "P_6RnJjbMwde"
      },
      "id": "P_6RnJjbMwde",
      "execution_count": 6,
      "outputs": []
    },
    {
      "cell_type": "code",
      "source": [
        "import os\n",
        "from dotenv import load_dotenv\n",
        "\n",
        "# Load environment variables from .env file\n",
        "load_dotenv()\n",
        "# Access the API key using the variable name defined in the .env file\n",
        "api_key = os.getenv(\"OPENAI_API_KEY\")"
      ],
      "metadata": {
        "id": "2I3Qh6-GNlRy"
      },
      "id": "2I3Qh6-GNlRy",
      "execution_count": 8,
      "outputs": []
    },
    {
      "cell_type": "code",
      "execution_count": 9,
      "id": "fb0a2acc-ddb1-40a3-9bb1-8c1043765ca8",
      "metadata": {
        "colab": {
          "base_uri": "https://localhost:8080/"
        },
        "id": "fb0a2acc-ddb1-40a3-9bb1-8c1043765ca8",
        "outputId": "1754f4cd-68b4-4596-b3f1-49ee77550fcd"
      },
      "outputs": [
        {
          "output_type": "stream",
          "name": "stdout",
          "text": [
            "\n",
            "\n",
            "こんにちは！今日の天気は本当に良いですね！\n"
          ]
        }
      ],
      "source": [
        "# Completion mode, 지시와 명령을 하나의 prompt로 전달\n",
        "import os\n",
        "import openai\n",
        "\n",
        "openai.api_key = os.getenv(\"OPENAI_API_KEY\")\n",
        "# 텍스트 생성 요청을 보냅니다.\n",
        "response = openai.Completion.create(\n",
        "    engine=\"text-davinci-003\",\n",
        "    prompt=\"다음을 일본어로 번역하세요: 안녕하세요? 오늘 날씨가 참 좋군요!\",\n",
        "    max_tokens=256,  # 생성된 텍스트의 최대 길이를 설정합니다.\n",
        ")\n",
        "\n",
        "# 생성된 텍스트를 출력합니다.\n",
        "print(response.choices[0].text)"
      ]
    },
    {
      "cell_type": "code",
      "execution_count": 10,
      "id": "f88cb156-ca06-489f-bfba-ac009ce3282d",
      "metadata": {
        "colab": {
          "base_uri": "https://localhost:8080/"
        },
        "id": "f88cb156-ca06-489f-bfba-ac009ce3282d",
        "outputId": "2c7262aa-605f-4e1d-a97c-e59daf7fca54"
      },
      "outputs": [
        {
          "output_type": "stream",
          "name": "stdout",
          "text": [
            "{\n",
            "  \"warning\": \"This model version is deprecated. Migrate before January 4, 2024 to avoid disruption of service. Learn more https://platform.openai.com/docs/deprecations\",\n",
            "  \"id\": \"cmpl-8ShQbFSN4MqyfY5WCcl3Td8CvE0jC\",\n",
            "  \"object\": \"text_completion\",\n",
            "  \"created\": 1701850813,\n",
            "  \"model\": \"text-davinci-003\",\n",
            "  \"choices\": [\n",
            "    {\n",
            "      \"text\": \"\\n\\n\\u3053\\u3093\\u306b\\u3061\\u306f\\uff01\\u4eca\\u65e5\\u306e\\u5929\\u6c17\\u306f\\u672c\\u5f53\\u306b\\u826f\\u3044\\u3067\\u3059\\u306d\\uff01\",\n",
            "      \"index\": 0,\n",
            "      \"logprobs\": null,\n",
            "      \"finish_reason\": \"stop\"\n",
            "    }\n",
            "  ],\n",
            "  \"usage\": {\n",
            "    \"prompt_tokens\": 76,\n",
            "    \"completion_tokens\": 36,\n",
            "    \"total_tokens\": 112\n",
            "  }\n",
            "}\n"
          ]
        }
      ],
      "source": [
        "print(response)"
      ]
    },
    {
      "cell_type": "code",
      "execution_count": 11,
      "id": "05033272-a0dd-4806-8b19-762587718e55",
      "metadata": {
        "colab": {
          "base_uri": "https://localhost:8080/"
        },
        "id": "05033272-a0dd-4806-8b19-762587718e55",
        "outputId": "ea9f613e-356b-4b0d-9c17-bf692792f309"
      },
      "outputs": [
        {
          "output_type": "stream",
          "name": "stdout",
          "text": [
            "\n",
            "\n",
            "근육이 커지려면 적절한 운동과 영양가학 관리를 통해 정기적으로 운동하고, 단백질 섭취량을 고려한 영양소를 적절하게 보충해야 합니다. 특히 단백질은 근육보다 2~3배 더 많은 섭취량이 필요할 수 있습니다. 또한 적당한 휴식과 수면을 가져주는 것도 지금 당신의 근육 증진보다는 도움이 됩니다.\n"
          ]
        }
      ],
      "source": [
        "# Completion mode, 문장을 이어서 완성하게 함\n",
        "import os\n",
        "import openai\n",
        "\n",
        "openai.api_key = os.getenv(\"OPENAI_API_KEY\")\n",
        "# 텍스트 생성 요청을 보냅니다.\n",
        "response = openai.Completion.create(\n",
        "    engine=\"text-davinci-003\",\n",
        "    prompt=\"근육이 커지려면\",\n",
        "    max_tokens=512,  # 생성된 텍스트의 최대 길이를 설정합니다.\n",
        ")\n",
        "\n",
        "# 생성된 텍스트를 출력합니다.\n",
        "print(response.choices[0].text)"
      ]
    },
    {
      "cell_type": "code",
      "execution_count": 12,
      "id": "1907bd48-2671-4a1f-bf99-d4c0970b3554",
      "metadata": {
        "colab": {
          "base_uri": "https://localhost:8080/"
        },
        "id": "1907bd48-2671-4a1f-bf99-d4c0970b3554",
        "outputId": "112b21e8-e412-4425-e01c-2f019a6c4f93"
      },
      "outputs": [
        {
          "output_type": "stream",
          "name": "stdout",
          "text": [
            "아버지 가방에 들어가신다. 아버지가 방에 들어가신다.\n",
            "\n"
          ]
        }
      ],
      "source": [
        "# Edit mode, 입력된 데이터를 수정\n",
        "\n",
        "import os\n",
        "import openai\n",
        "\n",
        "openai.api_key = os.getenv(\"OPENAI_API_KEY\")\n",
        "\n",
        "response = openai.Edit.create(\n",
        "  model=\"text-davinci-edit-001\",\n",
        "  input=\"아버지 가방에 들어가신다.\",\n",
        "  instruction=\"문법을 고쳐줘.\",\n",
        "  temperature=0,\n",
        "  top_p=1\n",
        ")\n",
        "\n",
        "print(response.choices[0].text)"
      ]
    },
    {
      "cell_type": "code",
      "execution_count": 13,
      "id": "5b74d5c7-caab-4632-ac69-2f420969f13f",
      "metadata": {
        "colab": {
          "base_uri": "https://localhost:8080/"
        },
        "id": "5b74d5c7-caab-4632-ac69-2f420969f13f",
        "outputId": "26b900c3-39a9-4077-f834-821c86516ebe"
      },
      "outputs": [
        {
          "output_type": "stream",
          "name": "stdout",
          "text": [
            "こんにちは？今日の天気は本当にいいですね！\n"
          ]
        }
      ],
      "source": [
        "# 표준적인 Chat completion mode\n",
        "\n",
        "import openai\n",
        "\n",
        "res = openai.ChatCompletion.create(\n",
        "  model=\"gpt-3.5-turbo\",\n",
        "  messages=[{\"role\": \"user\", \"content\": \"다음을 일본어로 번역하세요: 안녕하세요? 오늘 날씨가 참 좋군요!\"}]\n",
        ")\n",
        "print(res['choices'][0]['message']['content'])"
      ]
    },
    {
      "cell_type": "code",
      "execution_count": 14,
      "id": "b02d0eef-20b7-449a-b893-ae51f4da32ff",
      "metadata": {
        "colab": {
          "base_uri": "https://localhost:8080/"
        },
        "id": "b02d0eef-20b7-449a-b893-ae51f4da32ff",
        "outputId": "679219c8-1aa9-4c7a-8c7b-1b8abad8897d"
      },
      "outputs": [
        {
          "output_type": "stream",
          "name": "stdout",
          "text": [
            "{\n",
            "  \"id\": \"chatcmpl-8ShSAVWpefTho8cFOgvxtQFOgzADU\",\n",
            "  \"object\": \"chat.completion\",\n",
            "  \"created\": 1701850910,\n",
            "  \"model\": \"gpt-3.5-turbo-0613\",\n",
            "  \"choices\": [\n",
            "    {\n",
            "      \"index\": 0,\n",
            "      \"message\": {\n",
            "        \"role\": \"assistant\",\n",
            "        \"content\": \"\\u3053\\u3093\\u306b\\u3061\\u306f\\uff1f\\u4eca\\u65e5\\u306e\\u5929\\u6c17\\u306f\\u672c\\u5f53\\u306b\\u3044\\u3044\\u3067\\u3059\\u306d\\uff01\"\n",
            "      },\n",
            "      \"finish_reason\": \"stop\"\n",
            "    }\n",
            "  ],\n",
            "  \"usage\": {\n",
            "    \"prompt_tokens\": 42,\n",
            "    \"completion_tokens\": 17,\n",
            "    \"total_tokens\": 59\n",
            "  },\n",
            "  \"system_fingerprint\": null\n",
            "}\n"
          ]
        }
      ],
      "source": [
        "print(res)"
      ]
    },
    {
      "cell_type": "code",
      "execution_count": null,
      "id": "9db8d0ac-1324-4565-9cda-172f337b34bf",
      "metadata": {
        "id": "9db8d0ac-1324-4565-9cda-172f337b34bf"
      },
      "outputs": [],
      "source": []
    }
  ],
  "metadata": {
    "kernelspec": {
      "display_name": "Python 3 (ipykernel)",
      "language": "python",
      "name": "python3"
    },
    "language_info": {
      "codemirror_mode": {
        "name": "ipython",
        "version": 3
      },
      "file_extension": ".py",
      "mimetype": "text/x-python",
      "name": "python",
      "nbconvert_exporter": "python",
      "pygments_lexer": "ipython3",
      "version": "3.10.12"
    },
    "colab": {
      "provenance": [],
      "include_colab_link": true
    }
  },
  "nbformat": 4,
  "nbformat_minor": 5
}