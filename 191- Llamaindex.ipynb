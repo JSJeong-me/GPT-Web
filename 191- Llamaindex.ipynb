{
  "nbformat": 4,
  "nbformat_minor": 0,
  "metadata": {
    "colab": {
      "provenance": [],
      "gpuType": "T4",
      "authorship_tag": "ABX9TyP1dBjRD+4NhqDNZcw9tdyH",
      "include_colab_link": true
    },
    "kernelspec": {
      "name": "python3",
      "display_name": "Python 3"
    },
    "language_info": {
      "name": "python"
    },
    "accelerator": "GPU"
  },
  "cells": [
    {
      "cell_type": "markdown",
      "metadata": {
        "id": "view-in-github",
        "colab_type": "text"
      },
      "source": [
        "<a href=\"https://colab.research.google.com/github/JSJeong-me/GPT-Web/blob/main/191-%20Llamaindex.ipynb\" target=\"_parent\"><img src=\"https://colab.research.google.com/assets/colab-badge.svg\" alt=\"Open In Colab\"/></a>"
      ]
    },
    {
      "cell_type": "code",
      "execution_count": 1,
      "metadata": {
        "id": "xkYpfBvE9BZu"
      },
      "outputs": [],
      "source": [
        "!pip install llama-index html2text"
      ]
    },
    {
      "cell_type": "code",
      "source": [
        "import os\n",
        "# from llama_index import VectorStoreIndex, SimpleWebPageReader\n",
        "# Enter your OpenAI key below:\n",
        "os.environ[\"OPENAI_API_KEY\"] = \"sk-\""
      ],
      "metadata": {
        "id": "38Y18hGLZwPw"
      },
      "execution_count": 2,
      "outputs": []
    },
    {
      "cell_type": "code",
      "source": [
        "from llama_index import VectorStoreIndex, download_loader\n",
        "\n",
        "SimpleWebPageReader = download_loader(\"SimpleWebPageReader\")\n",
        "\n",
        "loader = SimpleWebPageReader()"
      ],
      "metadata": {
        "id": "gkCXVef3_V7L"
      },
      "execution_count": 3,
      "outputs": []
    },
    {
      "cell_type": "code",
      "source": [
        "# URL you want to load into your vector store here:\n",
        "url = \"http://www.paulgraham.com/fr.html\"\n",
        "# Load the URL into documents (multiple documents possible)\n",
        "documents = SimpleWebPageReader(html_to_text=True).load_data([url])\n",
        "# Create vector store from documents\n",
        "index = VectorStoreIndex.from_documents(documents)\n",
        "# Create query engine so we can ask it questions:\n",
        "query_engine = index.as_query_engine()\n",
        "# Ask as many questions as you want against the loaded data:\n",
        "response = query_engine.query(\"What are the 3 best advise by Paul to raise money?\")\n"
      ],
      "metadata": {
        "id": "7iLrcjQb-HS7"
      },
      "execution_count": 4,
      "outputs": []
    },
    {
      "cell_type": "code",
      "source": [
        "print(response)"
      ],
      "metadata": {
        "id": "VqnzET-Abt5D",
        "outputId": "0e594596-aa84-4f64-a53f-c5bc6047013a",
        "colab": {
          "base_uri": "https://localhost:8080/"
        }
      },
      "execution_count": 5,
      "outputs": [
        {
          "output_type": "stream",
          "name": "stdout",
          "text": [
            "1. Have multiple plans depending on how much you can raise and tailor your pitch to match different investors.\n",
            "2. Underestimate the amount you hope to raise initially to create a sense of urgency and show progress.\n",
            "3. Aim to be profitable without raising additional money, as it puts you in a stronger position and makes you less desperate in the eyes of investors.\n"
          ]
        }
      ]
    },
    {
      "cell_type": "markdown",
      "source": [
        "LangChain\n"
      ],
      "metadata": {
        "id": "Nzzu7Q3NDOtA"
      }
    },
    {
      "cell_type": "code",
      "source": [
        "!pip install openai\n",
        "!pip install python-dotenv\n",
        "!pip install langchain"
      ],
      "metadata": {
        "id": "r-L1n1jUDVk3"
      },
      "execution_count": 6,
      "outputs": []
    },
    {
      "cell_type": "code",
      "source": [
        "!echo \"OPENAI_API_KEY=sk-z\" >> .env\n",
        "!source /content/.env"
      ],
      "metadata": {
        "id": "JmJvV8ZCD20e"
      },
      "execution_count": 1,
      "outputs": []
    },
    {
      "cell_type": "code",
      "source": [
        "import os\n",
        "import openai\n",
        "import sys\n",
        "\n",
        "from dotenv import load_dotenv, find_dotenv\n",
        "_ = load_dotenv(find_dotenv()) # read local .env file\n",
        "\n",
        "openai.api_key  = os.environ['OPENAI_API_KEY']"
      ],
      "metadata": {
        "id": "QSRY4NARD5P3"
      },
      "execution_count": 2,
      "outputs": []
    },
    {
      "cell_type": "code",
      "source": [
        "from llama_index import VectorStoreIndex, download_loader\n",
        "from langchain.agents import initialize_agent, Tool\n",
        "from langchain.llms import OpenAI\n",
        "from langchain.chains.conversation.memory import ConversationBufferMemory\n",
        "\n",
        "SimpleWebPageReader = download_loader(\"SimpleWebPageReader\")"
      ],
      "metadata": {
        "id": "1NLDLi9dcb-U"
      },
      "execution_count": 3,
      "outputs": []
    },
    {
      "cell_type": "code",
      "source": [
        "\n",
        "\n",
        "loader = SimpleWebPageReader()\n",
        "documents = loader.load_data(urls=['http://www.paulgraham.com/fr.html'])\n",
        "index = VectorStoreIndex.from_documents(documents)"
      ],
      "metadata": {
        "id": "VZ0rVLIWGqx-"
      },
      "execution_count": 4,
      "outputs": []
    },
    {
      "cell_type": "code",
      "source": [
        "index.as_query_engine().query(\"What are the 3 best advise by Paul to raise money?\")"
      ],
      "metadata": {
        "id": "MAnsQkV4chvH"
      },
      "execution_count": null,
      "outputs": []
    },
    {
      "cell_type": "code",
      "source": [
        "tools = [\n",
        "    Tool(\n",
        "        name=\"Website Index\",\n",
        "        func=lambda q: index.as_query_engine(),\n",
        "        description=f\"Useful when you want answer questions about the text on websites.\",\n",
        "    ),\n",
        "]"
      ],
      "metadata": {
        "id": "aZ6SzscIGwEw"
      },
      "execution_count": 7,
      "outputs": []
    },
    {
      "cell_type": "code",
      "source": [
        "llm = OpenAI(temperature=1)\n",
        "memory = ConversationBufferMemory(memory_key=\"chat_history\")\n",
        "agent_chain = initialize_agent(\n",
        "    tools, llm, agent=\"zero-shot-react-description\", memory=memory\n",
        ")\n",
        "\n",
        "output = agent_chain.run(input=\"What are the 3 best advise by Paul to raise money?\")"
      ],
      "metadata": {
        "id": "D8Z65-kSDLOq"
      },
      "execution_count": 10,
      "outputs": []
    },
    {
      "cell_type": "code",
      "source": [
        "output"
      ],
      "metadata": {
        "id": "C-bUPtb6IBGk",
        "outputId": "68d40caf-172b-459c-ed13-ba3ddcbcdc96",
        "colab": {
          "base_uri": "https://localhost:8080/",
          "height": 35
        }
      },
      "execution_count": 11,
      "outputs": [
        {
          "output_type": "execute_result",
          "data": {
            "text/plain": [
              "'The top 3 pieces of advice from Paul on raising money are: [insert top 3 advice here].'"
            ],
            "application/vnd.google.colaboratory.intrinsic+json": {
              "type": "string"
            }
          },
          "metadata": {},
          "execution_count": 11
        }
      ]
    }
  ]
}