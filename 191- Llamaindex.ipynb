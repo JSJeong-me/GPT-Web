{
  "nbformat": 4,
  "nbformat_minor": 0,
  "metadata": {
    "colab": {
      "provenance": [],
      "gpuType": "T4",
      "authorship_tag": "ABX9TyP+pNdlDZUS//MKFDTV+C3x",
      "include_colab_link": true
    },
    "kernelspec": {
      "name": "python3",
      "display_name": "Python 3"
    },
    "language_info": {
      "name": "python"
    },
    "accelerator": "GPU"
  },
  "cells": [
    {
      "cell_type": "markdown",
      "metadata": {
        "id": "view-in-github",
        "colab_type": "text"
      },
      "source": [
        "<a href=\"https://colab.research.google.com/github/JSJeong-me/GPT-Web/blob/main/191-%20Llamaindex.ipynb\" target=\"_parent\"><img src=\"https://colab.research.google.com/assets/colab-badge.svg\" alt=\"Open In Colab\"/></a>"
      ]
    },
    {
      "cell_type": "code",
      "execution_count": null,
      "metadata": {
        "id": "xkYpfBvE9BZu"
      },
      "outputs": [],
      "source": [
        "!pip install llama-index html2text"
      ]
    },
    {
      "cell_type": "code",
      "source": [
        "from llama_index import download_loader\n",
        "\n",
        "SimpleWebPageReader = download_loader(\"SimpleWebPageReader\")\n",
        "\n",
        "loader = SimpleWebPageReader()"
      ],
      "metadata": {
        "id": "gkCXVef3_V7L"
      },
      "execution_count": 4,
      "outputs": []
    },
    {
      "cell_type": "code",
      "source": [
        "import os\n",
        "# from llama_index import VectorStoreIndex, SimpleWebPageReader\n",
        "# Enter your OpenAI key below:\n",
        "os.environ[\"OPENAI_API_KEY\"] = \"sk-\""
      ],
      "metadata": {
        "id": "mz_lph9T-PBw"
      },
      "execution_count": 5,
      "outputs": []
    },
    {
      "cell_type": "code",
      "source": [
        "# URL you want to load into your vector store here:\n",
        "url = \"http://www.paulgraham.com/fr.html\"\n",
        "# Load the URL into documents (multiple documents possible)\n",
        "documents = SimpleWebPageReader(html_to_text=True).load_data([url])\n",
        "# Create vector store from documents\n",
        "index = VectorStoreIndex.from_documents(documents)\n",
        "# Create query engine so we can ask it questions:\n",
        "query_engine = index.as_query_engine()\n",
        "# Ask as many questions as you want against the loaded data:\n",
        "response = query_engine.query(\"What are the 3 best advise by Paul to raise money?\")\n",
        "print(response)"
      ],
      "metadata": {
        "colab": {
          "base_uri": "https://localhost:8080/"
        },
        "id": "7iLrcjQb-HS7",
        "outputId": "a8fc44f4-a90d-406f-be23-21bede837f01"
      },
      "execution_count": 6,
      "outputs": [
        {
          "output_type": "stream",
          "name": "stdout",
          "text": [
            "1. Have multiple plans depending on how much you can raise and tailor your pitch to match different investors.\n",
            "2. Underestimate the amount you hope to raise initially to create a sense of urgency and increase investor interest.\n",
            "3. Aim to be profitable without raising additional money if possible, as it puts you in a stronger position and makes you less desperate in the eyes of investors.\n"
          ]
        }
      ]
    }
  ]
}