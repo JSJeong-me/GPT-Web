{
  "nbformat": 4,
  "nbformat_minor": 0,
  "metadata": {
    "kernelspec": {
      "display_name": "Python 3",
      "language": "python",
      "name": "python3"
    },
    "colab": {
      "name": "tip_visualization.ipynb",
      "provenance": [],
      "include_colab_link": true
    }
  },
  "cells": [
    {
      "cell_type": "markdown",
      "metadata": {
        "id": "view-in-github",
        "colab_type": "text"
      },
      "source": [
        "<a href=\"https://colab.research.google.com/github/JSJeong-me/GPT-Web/blob/main/041-tips_visualization.ipynb\" target=\"_parent\"><img src=\"https://colab.research.google.com/assets/colab-badge.svg\" alt=\"Open In Colab\"/></a>"
      ]
    },
    {
      "cell_type": "markdown",
      "metadata": {
        "id": "QF8EbFDsfvZW"
      },
      "source": [
        "# Python Assignment"
      ]
    },
    {
      "cell_type": "code",
      "metadata": {
        "trusted": true,
        "id": "_La5BazrfvZY"
      },
      "source": [
        "import pandas as pd\n",
        "import matplotlib.pyplot as plt\n",
        "import seaborn as sns\n",
        "import numpy as np"
      ],
      "execution_count": null,
      "outputs": []
    },
    {
      "cell_type": "code",
      "metadata": {
        "trusted": true,
        "id": "J5bfmUfEfvZa"
      },
      "source": [
        "data = pd.read_csv(\"tips.csv\")"
      ],
      "execution_count": null,
      "outputs": []
    },
    {
      "cell_type": "markdown",
      "metadata": {
        "id": "KcsjTI1VfvZb"
      },
      "source": [
        "## Tips Data"
      ]
    },
    {
      "cell_type": "code",
      "metadata": {
        "trusted": true,
        "id": "nigeoEOQfvZc"
      },
      "source": [
        "data.head()"
      ],
      "execution_count": null,
      "outputs": []
    },
    {
      "cell_type": "code",
      "metadata": {
        "id": "KHVXh6yujZuY"
      },
      "source": [
        "data['sex'] = data['sex'].replace({'Female': 0, 'Male': 1})\n",
        "data['smoker'] = data['smoker'].replace({'No': 0, 'Yes': 1})\n",
        "data['time'] = data['time'].replace({'Lunch': 0, 'Dinner': 1})\n",
        "\n",
        "# Ordinal encoding\n",
        "data['day'] = data['day'].replace({'Thur': 0, 'Fri': 1, 'Sat': 2, 'Sun': 3})"
      ],
      "execution_count": null,
      "outputs": []
    },
    {
      "cell_type": "code",
      "metadata": {
        "id": "miQ7FSO-lYTX"
      },
      "source": [
        "data.describe()"
      ],
      "execution_count": null,
      "outputs": []
    },
    {
      "cell_type": "markdown",
      "metadata": {
        "id": "fbRpaIV8fvZd"
      },
      "source": [
        "### 1. 평균 팁 구하기"
      ]
    },
    {
      "cell_type": "code",
      "metadata": {
        "trusted": true,
        "id": "xz3IDmXlfvZe"
      },
      "source": [
        "data['tip'].mean()"
      ],
      "execution_count": null,
      "outputs": []
    },
    {
      "cell_type": "markdown",
      "metadata": {
        "id": "wr9u6ve7fvZf"
      },
      "source": [
        "### 2.'팁'에 대한 수치 요약을 확인하세요. 중앙값과 평균이 매우 다른가요? 이것이 현장에 대해 무엇을 말해주는가?"
      ]
    },
    {
      "cell_type": "code",
      "metadata": {
        "trusted": true,
        "id": "kgS_fTNSfvZg"
      },
      "source": [
        "data['tip'].median()"
      ],
      "execution_count": null,
      "outputs": []
    },
    {
      "cell_type": "markdown",
      "metadata": {
        "id": "USNbtSmFfvZi"
      },
      "source": [
        "따라서 중앙값과 평균은 거의 동일합니다."
      ]
    },
    {
      "cell_type": "markdown",
      "metadata": {
        "id": "tH2BN15nfvZj"
      },
      "source": [
        "분포가 대칭이면 평균은 중앙값과 같고 분포의 왜도는 0입니다."
      ]
    },
    {
      "cell_type": "markdown",
      "metadata": {
        "id": "55zzy96RfvZk"
      },
      "source": [
        "### 3.'팁'에 대한 상자 그림을 준비합니다. 특이치가 있습니까?"
      ]
    },
    {
      "cell_type": "code",
      "metadata": {
        "trusted": true,
        "id": "3_giyUAzfvZl"
      },
      "source": [
        "sns.boxplot(x=\"tip\", data=data)"
      ],
      "execution_count": null,
      "outputs": []
    },
    {
      "cell_type": "code",
      "metadata": {
        "trusted": true,
        "id": "FtFCwBdCfvZm"
      },
      "source": [
        "q3, q1 = np.percentile(data.tip, [75,25])\n",
        "\n",
        "iqr = q3 - q1\n",
        "iqr = round(iqr,2)\n",
        "\n",
        "print (\"Lower Quatile:- \", q1 )\n",
        "print (\"Lower Quatile:- \", q3 )\n",
        "print (\"IQR:- \", iqr )\n",
        "l = q1 - (1.5*iqr)\n",
        "u = q1 + (1.5*iqr)\n",
        "l = round(l,2)\n",
        "u = round(u,2)\n",
        "print(\"Lower range in boxplot is {}, & the upper range is, {}\".format(l,u))"
      ],
      "execution_count": null,
      "outputs": []
    },
    {
      "cell_type": "markdown",
      "metadata": {
        "id": "7Kc4igQZfvZm"
      },
      "source": [
        "### 4.'total_bill'에 대한 상자 그림을 준비하세요. 이상값이 있나요?\n"
      ]
    },
    {
      "cell_type": "code",
      "metadata": {
        "trusted": true,
        "id": "yDjfnenrfvZn"
      },
      "source": [
        "sns.boxplot(x=\"total_bill\", data = data)"
      ],
      "execution_count": null,
      "outputs": []
    },
    {
      "cell_type": "code",
      "metadata": {
        "trusted": true,
        "id": "8cwNvw-DfvZn"
      },
      "source": [
        "q3, q1 = np.percentile(data.total_bill, [75,25])\n",
        "\n",
        "iqr = q3 - q1\n",
        "iqr = round(iqr,2)\n",
        "\n",
        "print (\"Lower Quatile:- \", q1 )\n",
        "print (\"Lower Quatile:- \", q3 )\n",
        "print (\"IQR:- \", iqr )\n",
        "l = q1 - (1.5*iqr)\n",
        "u = q1 + (1.5*iqr)\n",
        "l = round(l,2)\n",
        "u = round(u,2)\n",
        "print(\"Lower range in boxplot is {}, & the upper range is, {}\".format(l,u))"
      ],
      "execution_count": null,
      "outputs": []
    },
    {
      "cell_type": "markdown",
      "metadata": {
        "id": "g9Wes2M7fvZo"
      },
      "source": [
        "### 5. 성별: 데이터에서 여성의 비율은 얼마입니까?"
      ]
    },
    {
      "cell_type": "code",
      "metadata": {
        "scrolled": true,
        "trusted": true,
        "id": "RrEoKGo0fvZo"
      },
      "source": [
        "data.groupby('sex').size()"
      ],
      "execution_count": null,
      "outputs": []
    },
    {
      "cell_type": "code",
      "metadata": {
        "trusted": true,
        "id": "_TWoTo2SfvZp"
      },
      "source": [
        "x = data.groupby(\"sex\").size()\n",
        "t = data[\"sex\"].count()\n",
        "p = x/t * 100\n",
        "p[0]"
      ],
      "execution_count": null,
      "outputs": []
    },
    {
      "cell_type": "markdown",
      "metadata": {
        "id": "gjjxjCLofvZp"
      },
      "source": [
        "### 6. 각 성별에 대한 기록의 백분율을 나타내는 막대가 포함된 막대 그래프를 준비합니다."
      ]
    },
    {
      "cell_type": "code",
      "metadata": {
        "trusted": true,
        "id": "fRY_8k1VfvZq"
      },
      "source": [
        "cnt = data.groupby(['sex']).count().reset_index()\n",
        "cnt"
      ],
      "execution_count": null,
      "outputs": []
    },
    {
      "cell_type": "code",
      "metadata": {
        "trusted": true,
        "id": "L7L3UpWHfvZq"
      },
      "source": [
        "cnt['count_perc'] = (cnt['total_bill']/ len(data)) *100\n",
        "cnt"
      ],
      "execution_count": null,
      "outputs": []
    },
    {
      "cell_type": "code",
      "metadata": {
        "trusted": true,
        "id": "o1f7D1JFfvZr"
      },
      "source": [
        "sns.barplot(x=\"sex\",y='count_perc',\n",
        "            hue = 'count_perc'\n",
        "            ,data = cnt)"
      ],
      "execution_count": null,
      "outputs": []
    },
    {
      "cell_type": "code",
      "metadata": {
        "trusted": true,
        "id": "Wp1IpyX8fvZr"
      },
      "source": [
        "cnt = data.groupby(['sex']).count().reset_index()\n",
        "cnt\n",
        "cnt['count_perc'] = (cnt['total_bill']/ len(data)) *100\n",
        "\n",
        "plt.pie(x='count_perc',data=cnt,labels=['Female', 'Male'], autopct='%1.1f%%',\n",
        "       shadow=True, startangle=90)\n"
      ],
      "execution_count": null,
      "outputs": []
    },
    {
      "cell_type": "markdown",
      "metadata": {
        "id": "OJArs7nUfvZr"
      },
      "source": [
        "### 7. 평균 팁은 성별에 따라 다른가요? 한 성별이 다른 성별보다 팁을 더 많이 주나요?"
      ]
    },
    {
      "cell_type": "code",
      "metadata": {
        "trusted": true,
        "id": "CrNC2YuAfvZs"
      },
      "source": [
        "data.groupby([\"sex\"]).mean()['tip']"
      ],
      "execution_count": null,
      "outputs": []
    },
    {
      "cell_type": "markdown",
      "metadata": {
        "id": "0xWdNcEnfvZs"
      },
      "source": [
        "네, 남성 팁의 평균값이 여성 팁보다 큽니다."
      ]
    },
    {
      "cell_type": "markdown",
      "metadata": {
        "id": "cjyqO2frfvZs"
      },
      "source": [
        "### 8. 평균 팁은 시간대에 따라 다릅니까?"
      ]
    },
    {
      "cell_type": "code",
      "metadata": {
        "trusted": true,
        "id": "zITXxRssfvZt"
      },
      "source": [
        "data.groupby([\"day\",\"time\"]).mean()['tip']"
      ],
      "execution_count": null,
      "outputs": []
    },
    {
      "cell_type": "code",
      "metadata": {
        "trusted": true,
        "id": "jgaafzhlfvZt"
      },
      "source": [
        "data.groupby([\"day\"]).mean()['tip']"
      ],
      "execution_count": null,
      "outputs": []
    },
    {
      "cell_type": "code",
      "metadata": {
        "trusted": true,
        "id": "7sLX7-HIfvZt"
      },
      "source": [
        "data.groupby([\"time\"]).mean()['tip']"
      ],
      "execution_count": null,
      "outputs": []
    },
    {
      "cell_type": "markdown",
      "metadata": {
        "id": "c8HvvmVPfvZt"
      },
      "source": [
        "### 9. 평균 팁은 크기(테이블에 앉은 사람 수)에 따라 다른가요?"
      ]
    },
    {
      "cell_type": "code",
      "metadata": {
        "trusted": true,
        "id": "bjhASwnxfvZu"
      },
      "source": [
        "data.groupby('size').mean()['tip']"
      ],
      "execution_count": null,
      "outputs": []
    },
    {
      "cell_type": "markdown",
      "metadata": {
        "id": "S24f7m1OfvZu"
      },
      "source": [
        "### 10. 흡연자가 비흡연자보다 팁을 더 많이 주나요?"
      ]
    },
    {
      "cell_type": "code",
      "metadata": {
        "trusted": true,
        "id": "SEbd4hAIfvZu"
      },
      "source": [
        "data.groupby('smoker').sum()['tip']"
      ],
      "execution_count": null,
      "outputs": []
    },
    {
      "cell_type": "markdown",
      "metadata": {
        "id": "CP4MLCAXfvZu"
      },
      "source": [
        "### 11. 성별 대 흡연자/비흡연자 및 팁 크기 - 2x2를 만들고 평균 팁 크기를 구합니다. 팁을 가장 많이 주는 그룹은 어디인가요?"
      ]
    },
    {
      "cell_type": "code",
      "metadata": {
        "trusted": true,
        "id": "eHer-DqVfvZu"
      },
      "source": [
        "data.groupby(['sex','smoker']).mean()['tip']"
      ],
      "execution_count": null,
      "outputs": []
    },
    {
      "cell_type": "markdown",
      "metadata": {
        "id": "P67uP_GMfvZv"
      },
      "source": [
        "### 12. 'pct_tip' = 팁/total_bill이라는 새로운 측정항목을 만듭니다. 이는 팁 제공 비율이며 팁 행동을 더 잘 측정하는 데 사용됩니다."
      ]
    },
    {
      "cell_type": "code",
      "metadata": {
        "trusted": true,
        "id": "6BQgrbmwfvZv"
      },
      "source": [
        "data['pct_tip'] = data['tip']/data['total_bill']"
      ],
      "execution_count": null,
      "outputs": []
    },
    {
      "cell_type": "markdown",
      "metadata": {
        "id": "nBtBKkHYfvZv"
      },
      "source": [
        "### 13. pct_tip은 성별에 따라 다른가요? 한 성별이 다른 성별보다 팁을 더 많이 주나요?"
      ]
    },
    {
      "cell_type": "code",
      "metadata": {
        "trusted": true,
        "id": "NsaoY-AjfvZv"
      },
      "source": [
        "data.groupby([\"sex\"]).sum()['pct_tip']"
      ],
      "execution_count": null,
      "outputs": []
    },
    {
      "cell_type": "markdown",
      "metadata": {
        "id": "Eia8vTPqfvZw"
      },
      "source": [
        "### 14. pct_tip은 크기(테이블에 앉은 사람 수)에 따라 다릅니까?"
      ]
    },
    {
      "cell_type": "code",
      "metadata": {
        "trusted": true,
        "id": "xqQbVUPefvZw"
      },
      "source": [
        "data.groupby([\"size\"]).sum()['pct_tip']"
      ],
      "execution_count": null,
      "outputs": []
    },
    {
      "cell_type": "markdown",
      "metadata": {
        "id": "QjhpvbsffvZw"
      },
      "source": [
        "### 15. pct_tip을 사용하여 성별과 흡연자 보기를 만드세요. 추론이 바뀌나요?"
      ]
    },
    {
      "cell_type": "code",
      "metadata": {
        "trusted": true,
        "id": "cxwC9TMRfvZw"
      },
      "source": [
        "data['sex'].groupby(data[\"smoker\"]).value_counts(normalize=True).rename('pct_tip').reset_index()\n",
        "\n",
        "\n",
        "# x,y,hue = 'sex','pct_tip','smoker'\n",
        "\n",
        "# sns.barplot(x,y,hue,data=data)\n",
        "\n",
        "x, y, hue = 'sex', 'pct_tip', 'smoker'\n",
        "sns.barplot(x=x, y=y, hue=hue, data=data)\n"
      ],
      "execution_count": null,
      "outputs": []
    },
    {
      "cell_type": "markdown",
      "metadata": {
        "id": "LjBRHbZzfvZx"
      },
      "source": [
        "### 16. total_bill 대 팁의 산점도를 만듭니다."
      ]
    },
    {
      "cell_type": "code",
      "metadata": {
        "trusted": true,
        "id": "FBDDtoGCfvZx"
      },
      "source": [
        "sns.scatterplot(x=\"total_bill\", y = \"tip\",\n",
        "               data = data)"
      ],
      "execution_count": null,
      "outputs": []
    },
    {
      "cell_type": "markdown",
      "metadata": {
        "id": "Nhqgt57FfvZx"
      },
      "source": [
        "### 17. total_bill 대 pct_tip의 산점도를 만듭니다."
      ]
    },
    {
      "cell_type": "code",
      "metadata": {
        "trusted": true,
        "id": "P6KOnksafvZx"
      },
      "source": [
        "sns.scatterplot(x=\"total_bill\", y = \"pct_tip\",\n",
        "               data = data)"
      ],
      "execution_count": null,
      "outputs": []
    },
    {
      "cell_type": "code",
      "metadata": {
        "trusted": true,
        "id": "weSY7c45fvZx"
      },
      "source": [
        "data[\"smoker\"].count()"
      ],
      "execution_count": null,
      "outputs": []
    },
    {
      "cell_type": "markdown",
      "metadata": {
        "id": "WxCG02yXiMaQ"
      },
      "source": [
        "### 18. 쌍을 이루는 플롯(Paired Plot)"
      ]
    },
    {
      "cell_type": "code",
      "metadata": {
        "id": "3Y40c4VJh_aP"
      },
      "source": [
        "sns.pairplot(data.loc[:, ['total_bill', 'tip']])"
      ],
      "execution_count": null,
      "outputs": []
    },
    {
      "cell_type": "code",
      "metadata": {
        "id": "KMv-os_KmuCu"
      },
      "source": [
        "#sns.pairplot(data.loc[:, ['total_bill', 'day']])"
      ],
      "execution_count": null,
      "outputs": []
    },
    {
      "cell_type": "markdown",
      "metadata": {
        "id": "sgxgk1gIm1ru"
      },
      "source": [
        "### 19. 총 청구서 및 팁 비율"
      ]
    },
    {
      "cell_type": "code",
      "metadata": {
        "id": "8JMg_eeom9Yv"
      },
      "source": [
        "#data['tip_rate'] = (data['tip']/data['total_bill'])*100"
      ],
      "execution_count": null,
      "outputs": []
    },
    {
      "cell_type": "code",
      "metadata": {
        "id": "uOv6OGDpijNd"
      },
      "source": [
        "plt.figure(figsize=(12, 10))\n",
        "sns.heatmap(data.corr(), annot=True, vmin=-1.0, cmap='mako')\n",
        "plt.title(\"Correlation Matrix\")\n",
        "plt.show()"
      ],
      "execution_count": null,
      "outputs": []
    },
    {
      "cell_type": "code",
      "metadata": {
        "id": "g2eedkl2wO7h"
      },
      "source": [],
      "execution_count": null,
      "outputs": []
    }
  ]
}