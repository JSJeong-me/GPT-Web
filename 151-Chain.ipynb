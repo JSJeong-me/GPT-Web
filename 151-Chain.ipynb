{
  "nbformat": 4,
  "nbformat_minor": 0,
  "metadata": {
    "colab": {
      "provenance": [],
      "gpuType": "T4",
      "authorship_tag": "ABX9TyMpj5sAmkMAG8kvNTDx31aj",
      "include_colab_link": true
    },
    "kernelspec": {
      "name": "python3",
      "display_name": "Python 3"
    },
    "language_info": {
      "name": "python"
    },
    "accelerator": "GPU"
  },
  "cells": [
    {
      "cell_type": "markdown",
      "metadata": {
        "id": "view-in-github",
        "colab_type": "text"
      },
      "source": [
        "<a href=\"https://colab.research.google.com/github/JSJeong-me/GPT-Web/blob/main/151-Chain.ipynb\" target=\"_parent\"><img src=\"https://colab.research.google.com/assets/colab-badge.svg\" alt=\"Open In Colab\"/></a>"
      ]
    },
    {
      "cell_type": "code",
      "source": [
        "!pip install langchain langchain-core langchain-community python-dotenv\n",
        "!pip install openai==0.28"
      ],
      "metadata": {
        "id": "7iUrFuB5CBzt"
      },
      "execution_count": null,
      "outputs": []
    },
    {
      "cell_type": "code",
      "source": [
        "!echo \"OPENAI_API_KEY=sk\" >> .env\n",
        "!source /content/.env"
      ],
      "metadata": {
        "id": "77XZwo9KCKZp"
      },
      "execution_count": 2,
      "outputs": []
    },
    {
      "cell_type": "code",
      "source": [
        "import os\n",
        "from dotenv import load_dotenv\n",
        "\n",
        "# Load environment variables from .env file\n",
        "load_dotenv()\n",
        "# Access the API key using the variable name defined in the .env file\n",
        "api_key = os.getenv(\"OPENAI_API_KEY\")"
      ],
      "metadata": {
        "id": "FJH3GtIjCUAn"
      },
      "execution_count": 3,
      "outputs": []
    },
    {
      "cell_type": "markdown",
      "source": [
        "Pipeline = prompt + model + output parser"
      ],
      "metadata": {
        "id": "E6YZlZZsBlmU"
      }
    },
    {
      "cell_type": "code",
      "source": [
        "topic = \"고래를 주제로\""
      ],
      "metadata": {
        "id": "0T1LYfEiBsVm"
      },
      "execution_count": 4,
      "outputs": []
    },
    {
      "cell_type": "code",
      "execution_count": 5,
      "metadata": {
        "colab": {
          "base_uri": "https://localhost:8080/",
          "height": 128
        },
        "id": "1RzsfJV7BjjJ",
        "outputId": "98f7d70a-3c34-4ff1-9b54-3a8afbc08937"
      },
      "outputs": [
        {
          "output_type": "stream",
          "name": "stderr",
          "text": [
            "/usr/local/lib/python3.10/dist-packages/langchain_core/_api/deprecation.py:119: LangChainDeprecationWarning: The class `ChatOpenAI` was deprecated in LangChain 0.0.10 and will be removed in 0.3.0. An updated version of the class exists in the langchain-openai package and should be used instead. To use it run `pip install -U langchain-openai` and import as `from langchain_openai import ChatOpenAI`.\n",
            "  warn_deprecated(\n"
          ]
        },
        {
          "output_type": "execute_result",
          "data": {
            "text/plain": [
              "'어느 날, 바닷속에서 살아가는 고래가 인간의 도움을 받아 실족한 상어를 구해주는 모습이 인터넷에 올라와 화제가 되었다. 이를 본 사람들은 고래가 예상치 못한 행동을 하는 것에 놀라며 더 많은 이야기를 알고 싶어했다. 그렇게 고래의 친절한 행동이 전 세계에 알려지면서 고래는 인기 동물로 부상하게 되었다.'"
            ],
            "application/vnd.google.colaboratory.intrinsic+json": {
              "type": "string"
            }
          },
          "metadata": {},
          "execution_count": 5
        }
      ],
      "source": [
        "from langchain.chat_models import ChatOpenAI\n",
        "from langchain.prompts import ChatPromptTemplate\n",
        "from langchain_core.output_parsers import StrOutputParser\n",
        "\n",
        "prompt = ChatPromptTemplate.from_template(\"재미난 이야기 3줄 작성 {topic}\")\n",
        "model = ChatOpenAI()\n",
        "output_parser = StrOutputParser()\n",
        "\n",
        "chain = prompt | model | output_parser\n",
        "\n",
        "chain.invoke({\"topic\": topic})"
      ]
    },
    {
      "cell_type": "code",
      "source": [],
      "metadata": {
        "id": "aj_UYQcEBrAj"
      },
      "execution_count": null,
      "outputs": []
    },
    {
      "cell_type": "markdown",
      "source": [
        "Prompt"
      ],
      "metadata": {
        "id": "COq-V7A5C-RF"
      }
    },
    {
      "cell_type": "code",
      "source": [
        "prompt_value = prompt.invoke({\"topic\": topic})\n",
        "prompt_value"
      ],
      "metadata": {
        "colab": {
          "base_uri": "https://localhost:8080/"
        },
        "id": "udJc8DBVC5xl",
        "outputId": "da064350-0bfe-47f6-ed5a-e78f9b2cce3d"
      },
      "execution_count": 6,
      "outputs": [
        {
          "output_type": "execute_result",
          "data": {
            "text/plain": [
              "ChatPromptValue(messages=[HumanMessage(content='재미난 이야기 3줄 작성 고래를 주제로')])"
            ]
          },
          "metadata": {},
          "execution_count": 6
        }
      ]
    },
    {
      "cell_type": "code",
      "source": [
        "prompt_value.to_messages()"
      ],
      "metadata": {
        "colab": {
          "base_uri": "https://localhost:8080/"
        },
        "id": "FHFsk4zkDW6T",
        "outputId": "687a1789-b624-4b36-ce1d-d53e5a3a9ee5"
      },
      "execution_count": 7,
      "outputs": [
        {
          "output_type": "execute_result",
          "data": {
            "text/plain": [
              "[HumanMessage(content='재미난 이야기 3줄 작성 고래를 주제로')]"
            ]
          },
          "metadata": {},
          "execution_count": 7
        }
      ]
    },
    {
      "cell_type": "code",
      "source": [
        "prompt_value.to_string()"
      ],
      "metadata": {
        "colab": {
          "base_uri": "https://localhost:8080/",
          "height": 35
        },
        "id": "CSyPq6AaD9wn",
        "outputId": "d08b3f5a-3f2f-4925-cee6-193167a2dfb6"
      },
      "execution_count": 8,
      "outputs": [
        {
          "output_type": "execute_result",
          "data": {
            "text/plain": [
              "'Human: 재미난 이야기 3줄 작성 고래를 주제로'"
            ],
            "application/vnd.google.colaboratory.intrinsic+json": {
              "type": "string"
            }
          },
          "metadata": {},
          "execution_count": 8
        }
      ]
    },
    {
      "cell_type": "markdown",
      "source": [
        "Model"
      ],
      "metadata": {
        "id": "68mYPhQXEBNU"
      }
    },
    {
      "cell_type": "code",
      "source": [
        "message = model.invoke(prompt_value)\n",
        "message"
      ],
      "metadata": {
        "colab": {
          "base_uri": "https://localhost:8080/"
        },
        "id": "TsgwYuOKEDhT",
        "outputId": "66d845c9-7368-4373-e1c2-5ffe87e70de2"
      },
      "execution_count": 9,
      "outputs": [
        {
          "output_type": "execute_result",
          "data": {
            "text/plain": [
              "AIMessage(content='한 마리의 고래가 바닷속을 헤엄치며 작은 물방울을 만들었어요. 그 물방울은 무지개처럼 반짝반짝 빛나며 바닷속을 아름답게 수놓았죠. 이 모습을 보던 작은 물고기들은 신나게 춤을 추며 고래와 함께 신나는 물의 축제를 즐겼습니다.', response_metadata={'token_usage': <OpenAIObject at 0x7825db574d10> JSON: {\n",
              "  \"prompt_tokens\": 27,\n",
              "  \"completion_tokens\": 143,\n",
              "  \"total_tokens\": 170\n",
              "}, 'model_name': 'gpt-3.5-turbo', 'system_fingerprint': None, 'finish_reason': 'stop', 'logprobs': None}, id='run-0736e603-1c9e-4506-98f5-b86fb961d6b6-0')"
            ]
          },
          "metadata": {},
          "execution_count": 9
        }
      ]
    },
    {
      "cell_type": "code",
      "source": [
        "from langchain.llms import OpenAI\n",
        "\n",
        "llm = OpenAI(model=\"gpt-3.5-turbo-instruct\")\n",
        "llm.invoke(prompt_value)"
      ],
      "metadata": {
        "colab": {
          "base_uri": "https://localhost:8080/",
          "height": 128
        },
        "id": "eZp-nYzRELl-",
        "outputId": "87b86abe-7fc9-45df-9cb4-09f09bc77041"
      },
      "execution_count": 10,
      "outputs": [
        {
          "output_type": "stream",
          "name": "stderr",
          "text": [
            "/usr/local/lib/python3.10/dist-packages/langchain_core/_api/deprecation.py:119: LangChainDeprecationWarning: The class `OpenAI` was deprecated in LangChain 0.0.10 and will be removed in 0.3.0. An updated version of the class exists in the langchain-openai package and should be used instead. To use it run `pip install -U langchain-openai` and import as `from langchain_openai import OpenAI`.\n",
            "  warn_deprecated(\n"
          ]
        },
        {
          "output_type": "execute_result",
          "data": {
            "text/plain": [
              "'\\n\\n1. 어느 날, 바다 속에서 작은 고래가 태어났어요. 그 고래는 다른 고래들과는 달리 머리에 작은 뿔이 하나 있었어요.\\n2. 이 작은 뿔은 다른 고래들에게는 신기한 것이었지만, 그 고래에게는 평생 혼자 있는 것이 참 힘들었어요.\\n3. 하지만 어느 날, 그 고래는 또 다른 뿔을 가진 친구를 만나게 되었고, 이제는 함께 놀 수 있게 되어서 행복했던 것이에요.'"
            ],
            "application/vnd.google.colaboratory.intrinsic+json": {
              "type": "string"
            }
          },
          "metadata": {},
          "execution_count": 10
        }
      ]
    },
    {
      "cell_type": "markdown",
      "source": [
        "Output parser"
      ],
      "metadata": {
        "id": "4XV9yxiEERvt"
      }
    },
    {
      "cell_type": "code",
      "source": [
        "output_parser.invoke(message)"
      ],
      "metadata": {
        "colab": {
          "base_uri": "https://localhost:8080/",
          "height": 54
        },
        "id": "7yCAItt2ERXV",
        "outputId": "106de003-bd43-4d02-b200-6d20fc2fc434"
      },
      "execution_count": 11,
      "outputs": [
        {
          "output_type": "execute_result",
          "data": {
            "text/plain": [
              "'한 마리의 고래가 바닷속을 헤엄치며 작은 물방울을 만들었어요. 그 물방울은 무지개처럼 반짝반짝 빛나며 바닷속을 아름답게 수놓았죠. 이 모습을 보던 작은 물고기들은 신나게 춤을 추며 고래와 함께 신나는 물의 축제를 즐겼습니다.'"
            ],
            "application/vnd.google.colaboratory.intrinsic+json": {
              "type": "string"
            }
          },
          "metadata": {},
          "execution_count": 11
        }
      ]
    },
    {
      "cell_type": "markdown",
      "source": [
        "Entire Pipeline"
      ],
      "metadata": {
        "id": "OvF7IVmREYS7"
      }
    },
    {
      "cell_type": "code",
      "source": [
        "input = {\"topic\": topic}\n",
        "\n",
        "prompt.invoke(input)\n",
        "# > ChatPromptValue(messages=[HumanMessage(content='tell me a short joke about ice cream')])\n",
        "\n",
        "(prompt | model).invoke(input)\n",
        "# > AIMessage(content=\"Why did the ice cream go to therapy?\\nBecause it had too many toppings and couldn't cone-trol itself!\")"
      ],
      "metadata": {
        "colab": {
          "base_uri": "https://localhost:8080/"
        },
        "id": "1YLBKkOmEZFK",
        "outputId": "70ffa06a-297d-4230-bc7a-76f1c9ba1f7e"
      },
      "execution_count": 12,
      "outputs": [
        {
          "output_type": "execute_result",
          "data": {
            "text/plain": [
              "AIMessage(content='어느 날, 바닷속에 사는 고래가 인간들을 만나러 육지로 올라왔다. 인간들은 고래를 보고 큰 충격을 받았지만, 고래는 친절하게 손을 흔들며 인사를 했다. 이후 고래는 인간들과 함께 놀이공원을 방문하고 물놀이를 즐기며 즐거운 하루를 보냈다. 함께한 시간이 끝나고 고래는 바닷속으로 돌아가면서 인간들에게 작별 인사를 전했다. 인간들은 고래와의 만남을 잊을 수 없을 것 같았다.', response_metadata={'token_usage': <OpenAIObject at 0x7825db323830> JSON: {\n",
              "  \"prompt_tokens\": 27,\n",
              "  \"completion_tokens\": 209,\n",
              "  \"total_tokens\": 236\n",
              "}, 'model_name': 'gpt-3.5-turbo', 'system_fingerprint': None, 'finish_reason': 'stop', 'logprobs': None}, id='run-1945032e-61a9-4ebe-ac34-d3562640d930-0')"
            ]
          },
          "metadata": {},
          "execution_count": 12
        }
      ]
    }
  ]
}