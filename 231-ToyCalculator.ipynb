{
  "nbformat": 4,
  "nbformat_minor": 0,
  "metadata": {
    "colab": {
      "provenance": [],
      "authorship_tag": "ABX9TyNuxAQ01A5mODqoLAmXvRaK",
      "include_colab_link": true
    },
    "kernelspec": {
      "name": "python3",
      "display_name": "Python 3"
    },
    "language_info": {
      "name": "python"
    }
  },
  "cells": [
    {
      "cell_type": "markdown",
      "metadata": {
        "id": "view-in-github",
        "colab_type": "text"
      },
      "source": [
        "<a href=\"https://colab.research.google.com/github/JSJeong-me/GPT-Web/blob/main/231-ToyCalculator.ipynb\" target=\"_parent\"><img src=\"https://colab.research.google.com/assets/colab-badge.svg\" alt=\"Open In Colab\"/></a>"
      ]
    },
    {
      "cell_type": "code",
      "execution_count": null,
      "metadata": {
        "id": "FSv9FxodFefq"
      },
      "outputs": [],
      "source": [
        "!pip install gradio"
      ]
    },
    {
      "cell_type": "code",
      "source": [
        "import gradio as gr\n",
        "#from foo import BAR\n",
        "#\n",
        "def calculator(num1, operation, num2):\n",
        "    if operation == \"add\":\n",
        "        return num1 + num2\n",
        "    elif operation == \"subtract\":\n",
        "        return num1 - num2\n",
        "    elif operation == \"multiply\":\n",
        "        return num1 * num2\n",
        "    elif operation == \"divide\":\n",
        "        if num2 == 0:\n",
        "            raise gr.Error(\"Cannot divide by zero!\")\n",
        "        return num1 / num2\n",
        "\n",
        "demo = gr.Interface(\n",
        "    calculator,\n",
        "    [\n",
        "        \"number\",\n",
        "        gr.Radio([\"add\", \"subtract\", \"multiply\", \"divide\"]),\n",
        "        \"number\"\n",
        "    ],\n",
        "    \"number\",\n",
        "    examples=[\n",
        "        [45, \"add\", 3],\n",
        "        [3.14, \"divide\", 2],\n",
        "        [144, \"multiply\", 2.5],\n",
        "        [0, \"subtract\", 1.2],\n",
        "    ],\n",
        "    title=\"Toy Calculator\",\n",
        "    description=\"Here's a sample toy calculator. Allows you to calculate things like $2+2=4$\",\n",
        ")\n",
        "\n",
        "demo.launch()\n"
      ],
      "metadata": {
        "colab": {
          "base_uri": "https://localhost:8080/",
          "height": 651
        },
        "id": "AhplbTnKFfIZ",
        "outputId": "d51e9937-9f79-44d1-e748-452b731c7cc5"
      },
      "execution_count": 2,
      "outputs": [
        {
          "output_type": "stream",
          "name": "stdout",
          "text": [
            "Setting queue=True in a Colab notebook requires sharing enabled. Setting `share=True` (you can turn this off by setting `share=False` in `launch()` explicitly).\n",
            "\n",
            "Colab notebook detected. To show errors in colab notebook, set debug=True in launch()\n",
            "Running on public URL: https://f90a022e569e7ede97.gradio.live\n",
            "\n",
            "This share link expires in 72 hours. For free permanent hosting and GPU upgrades, run `gradio deploy` from Terminal to deploy to Spaces (https://huggingface.co/spaces)\n"
          ]
        },
        {
          "output_type": "display_data",
          "data": {
            "text/plain": [
              "<IPython.core.display.HTML object>"
            ],
            "text/html": [
              "<div><iframe src=\"https://f90a022e569e7ede97.gradio.live\" width=\"100%\" height=\"500\" allow=\"autoplay; camera; microphone; clipboard-read; clipboard-write;\" frameborder=\"0\" allowfullscreen></iframe></div>"
            ]
          },
          "metadata": {}
        },
        {
          "output_type": "execute_result",
          "data": {
            "text/plain": []
          },
          "metadata": {},
          "execution_count": 2
        }
      ]
    }
  ]
}