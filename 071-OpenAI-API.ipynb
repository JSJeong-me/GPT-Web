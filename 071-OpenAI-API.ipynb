{
  "cells": [
    {
      "cell_type": "markdown",
      "metadata": {
        "id": "view-in-github",
        "colab_type": "text"
      },
      "source": [
        "<a href=\"https://colab.research.google.com/github/JSJeong-me/GPT-Web/blob/main/071-OpenAI-API.ipynb\" target=\"_parent\"><img src=\"https://colab.research.google.com/assets/colab-badge.svg\" alt=\"Open In Colab\"/></a>"
      ]
    },
    {
      "cell_type": "code",
      "source": [
        "!pip install openai==0.28"
      ],
      "metadata": {
        "id": "4Qo84hLqKDB8"
      },
      "id": "4Qo84hLqKDB8",
      "execution_count": null,
      "outputs": []
    },
    {
      "cell_type": "markdown",
      "source": [
        "### API Key 관리"
      ],
      "metadata": {
        "id": "n1EZkpSjOHhc"
      },
      "id": "n1EZkpSjOHhc"
    },
    {
      "cell_type": "markdown",
      "source": [
        "### https://medium.com/nerd-for-tech/safeguarding-your-ai-best-practices-for-securing-your-openai-api-key-67e5e585c59a"
      ],
      "metadata": {
        "id": "AsJ71B9uO7Jb"
      },
      "id": "AsJ71B9uO7Jb"
    },
    {
      "cell_type": "code",
      "source": [
        "!pip install python-dotenv"
      ],
      "metadata": {
        "colab": {
          "base_uri": "https://localhost:8080/"
        },
        "id": "-KtGPIrNLQvT",
        "outputId": "6c8bba28-1b3a-4a95-d25a-f9af565450f2"
      },
      "id": "-KtGPIrNLQvT",
      "execution_count": null,
      "outputs": [
        {
          "output_type": "stream",
          "name": "stdout",
          "text": [
            "Collecting python-dotenv\n",
            "  Downloading python_dotenv-1.0.0-py3-none-any.whl (19 kB)\n",
            "Installing collected packages: python-dotenv\n",
            "Successfully installed python-dotenv-1.0.0\n"
          ]
        }
      ]
    },
    {
      "cell_type": "code",
      "source": [
        "!echo \"OPENAI_API_KEY=sk-\" >> .env"
      ],
      "metadata": {
        "id": "6WcDFbMjMY2d"
      },
      "id": "6WcDFbMjMY2d",
      "execution_count": null,
      "outputs": []
    },
    {
      "cell_type": "code",
      "source": [
        "!ls -al"
      ],
      "metadata": {
        "id": "KeamM7FJNW38"
      },
      "id": "KeamM7FJNW38",
      "execution_count": null,
      "outputs": []
    },
    {
      "cell_type": "code",
      "source": [
        "!source /content/.env"
      ],
      "metadata": {
        "id": "P_6RnJjbMwde"
      },
      "id": "P_6RnJjbMwde",
      "execution_count": null,
      "outputs": []
    },
    {
      "cell_type": "code",
      "source": [
        "import os\n",
        "from dotenv import load_dotenv\n",
        "\n",
        "# Load environment variables from .env file\n",
        "load_dotenv()\n",
        "# Access the API key using the variable name defined in the .env file\n",
        "api_key = os.getenv(\"OPENAI_API_KEY\")"
      ],
      "metadata": {
        "id": "2I3Qh6-GNlRy"
      },
      "id": "2I3Qh6-GNlRy",
      "execution_count": null,
      "outputs": []
    },
    {
      "cell_type": "code",
      "execution_count": null,
      "id": "fb0a2acc-ddb1-40a3-9bb1-8c1043765ca8",
      "metadata": {
        "colab": {
          "base_uri": "https://localhost:8080/"
        },
        "id": "fb0a2acc-ddb1-40a3-9bb1-8c1043765ca8",
        "outputId": "031552c1-2163-4afe-d335-a6885b4f675c"
      },
      "outputs": [
        {
          "output_type": "stream",
          "name": "stdout",
          "text": [
            "\n",
            "\n",
            "Hello? Today's weather is really nice!\n"
          ]
        }
      ],
      "source": [
        "# Completion mode, 지시와 명령을 하나의 prompt로 전달\n",
        "import os\n",
        "import openai\n",
        "\n",
        "openai.api_key = os.getenv(\"OPENAI_API_KEY\")\n",
        "# 텍스트 생성 요청을 보냅니다.\n",
        "response = openai.Completion.create(\n",
        "    engine=\"gpt-3.5-turbo-instruct\",\n",
        "    prompt=\"다음을 영어로 번역하세요: 안녕하세요? 오늘 날씨가 참 좋군요!\",\n",
        "    max_tokens=256,  # 생성된 텍스트의 최대 길이를 설정합니다.\n",
        ")\n",
        "\n",
        "# 생성된 텍스트를 출력합니다.\n",
        "print(response.choices[0].text)"
      ]
    },
    {
      "cell_type": "code",
      "execution_count": null,
      "id": "f88cb156-ca06-489f-bfba-ac009ce3282d",
      "metadata": {
        "colab": {
          "base_uri": "https://localhost:8080/"
        },
        "id": "f88cb156-ca06-489f-bfba-ac009ce3282d",
        "outputId": "f354eb6f-e5ba-479b-ae53-5e52dad63681"
      },
      "outputs": [
        {
          "output_type": "stream",
          "name": "stdout",
          "text": [
            "{\n",
            "  \"id\": \"cmpl-8V20lfBJHerKLmYMOBa4dE2DmxtHR\",\n",
            "  \"object\": \"text_completion\",\n",
            "  \"created\": 1702406591,\n",
            "  \"model\": \"gpt-3.5-turbo-instruct\",\n",
            "  \"choices\": [\n",
            "    {\n",
            "      \"text\": \"\\n\\nHello? Today's weather is really nice!\",\n",
            "      \"index\": 0,\n",
            "      \"logprobs\": null,\n",
            "      \"finish_reason\": \"stop\"\n",
            "    }\n",
            "  ],\n",
            "  \"usage\": {\n",
            "    \"prompt_tokens\": 34,\n",
            "    \"completion_tokens\": 10,\n",
            "    \"total_tokens\": 44\n",
            "  }\n",
            "}\n"
          ]
        }
      ],
      "source": [
        "print(response)"
      ]
    },
    {
      "cell_type": "code",
      "execution_count": null,
      "id": "05033272-a0dd-4806-8b19-762587718e55",
      "metadata": {
        "id": "05033272-a0dd-4806-8b19-762587718e55"
      },
      "outputs": [],
      "source": [
        "# Completion mode, 문장을 이어서 완성하게 함\n",
        "import os\n",
        "import openai\n",
        "\n",
        "openai.api_key = os.getenv(\"OPENAI_API_KEY\")\n",
        "# 텍스트 생성 요청을 보냅니다.\n",
        "response = openai.Completion.create(\n",
        "    engine=\"gpt-3.5-turbo-instruct\",\n",
        "    prompt=\"고래를 주제로 재미난 이야기 3개의 문장\",\n",
        "    max_tokens=512,  # 생성된 텍스트의 최대 길이를 설정합니다.\n",
        ")\n",
        "\n",
        "# 생성된 텍스트를 출력합니다.\n",
        "print(response.choices[0].text)"
      ]
    },
    {
      "cell_type": "code",
      "source": [
        "print(response)"
      ],
      "metadata": {
        "id": "_MlL0IWWWWnm"
      },
      "id": "_MlL0IWWWWnm",
      "execution_count": null,
      "outputs": []
    },
    {
      "cell_type": "code",
      "source": [],
      "metadata": {
        "id": "qjhY3lLtWTm9"
      },
      "id": "qjhY3lLtWTm9",
      "execution_count": null,
      "outputs": []
    },
    {
      "cell_type": "code",
      "execution_count": null,
      "id": "1907bd48-2671-4a1f-bf99-d4c0970b3554",
      "metadata": {
        "colab": {
          "base_uri": "https://localhost:8080/"
        },
        "id": "1907bd48-2671-4a1f-bf99-d4c0970b3554",
        "outputId": "b5c993c8-5632-4f77-ecbb-9e29ff1585c5"
      },
      "outputs": [
        {
          "output_type": "stream",
          "name": "stdout",
          "text": [
            "아버지 가방에 들어가신다. 아버지가 방에 들어가신다.\n",
            "\n"
          ]
        }
      ],
      "source": [
        "# Edit mode, 입력된 데이터를 수정\n",
        "\n",
        "import os\n",
        "import openai\n",
        "\n",
        "openai.api_key = os.getenv(\"OPENAI_API_KEY\")\n",
        "\n",
        "response = openai.Edit.create(\n",
        "  model=\"text-davinci-edit-001\",\n",
        "  input=\"아버지 가방에 들어가신다.\",\n",
        "  instruction=\"문법을 고쳐줘.\",\n",
        "  temperature=0,\n",
        "  top_p=1\n",
        ")\n",
        "\n",
        "print(response.choices[0].text)"
      ]
    },
    {
      "cell_type": "code",
      "execution_count": null,
      "id": "5b74d5c7-caab-4632-ac69-2f420969f13f",
      "metadata": {
        "colab": {
          "base_uri": "https://localhost:8080/"
        },
        "id": "5b74d5c7-caab-4632-ac69-2f420969f13f",
        "outputId": "da9c9210-3d57-45d7-bfd8-7d17a3982025"
      },
      "outputs": [
        {
          "output_type": "stream",
          "name": "stdout",
          "text": [
            "Hello? The weather is really nice today!\n"
          ]
        }
      ],
      "source": [
        "# 표준적인 Chat completion mode\n",
        "\n",
        "import openai\n",
        "\n",
        "res = openai.ChatCompletion.create(\n",
        "  model=\"gpt-3.5-turbo\",\n",
        "  messages=[{\"role\": \"user\", \"content\": \"다음을 영어로 번역하세요: 안녕하세요? 오늘 날씨가 참 좋군요!\"}]\n",
        ")\n",
        "print(res['choices'][0]['message']['content'])"
      ]
    },
    {
      "cell_type": "code",
      "execution_count": null,
      "id": "b02d0eef-20b7-449a-b893-ae51f4da32ff",
      "metadata": {
        "colab": {
          "base_uri": "https://localhost:8080/"
        },
        "id": "b02d0eef-20b7-449a-b893-ae51f4da32ff",
        "outputId": "f389b317-6d23-479e-b856-74a15c463b2f"
      },
      "outputs": [
        {
          "output_type": "stream",
          "name": "stdout",
          "text": [
            "{\n",
            "  \"id\": \"chatcmpl-8V24gzkMIuT4KWhM4gfYRc4sGSVBC\",\n",
            "  \"object\": \"chat.completion\",\n",
            "  \"created\": 1702406834,\n",
            "  \"model\": \"gpt-3.5-turbo-0613\",\n",
            "  \"choices\": [\n",
            "    {\n",
            "      \"index\": 0,\n",
            "      \"message\": {\n",
            "        \"role\": \"assistant\",\n",
            "        \"content\": \"Hello? The weather is really nice today!\"\n",
            "      },\n",
            "      \"finish_reason\": \"stop\"\n",
            "    }\n",
            "  ],\n",
            "  \"usage\": {\n",
            "    \"prompt_tokens\": 41,\n",
            "    \"completion_tokens\": 9,\n",
            "    \"total_tokens\": 50\n",
            "  },\n",
            "  \"system_fingerprint\": null\n",
            "}\n"
          ]
        }
      ],
      "source": [
        "print(res)"
      ]
    },
    {
      "cell_type": "code",
      "execution_count": null,
      "id": "9db8d0ac-1324-4565-9cda-172f337b34bf",
      "metadata": {
        "id": "9db8d0ac-1324-4565-9cda-172f337b34bf"
      },
      "outputs": [],
      "source": []
    }
  ],
  "metadata": {
    "kernelspec": {
      "display_name": "Python 3 (ipykernel)",
      "language": "python",
      "name": "python3"
    },
    "language_info": {
      "codemirror_mode": {
        "name": "ipython",
        "version": 3
      },
      "file_extension": ".py",
      "mimetype": "text/x-python",
      "name": "python",
      "nbconvert_exporter": "python",
      "pygments_lexer": "ipython3",
      "version": "3.10.12"
    },
    "colab": {
      "provenance": [],
      "include_colab_link": true
    }
  },
  "nbformat": 4,
  "nbformat_minor": 5
}