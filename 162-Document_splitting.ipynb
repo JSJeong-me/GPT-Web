{
  "cells": [
    {
      "cell_type": "markdown",
      "metadata": {
        "id": "view-in-github",
        "colab_type": "text"
      },
      "source": [
        "<a href=\"https://colab.research.google.com/github/JSJeong-me/GPT-Web/blob/main/162-Document_splitting.ipynb\" target=\"_parent\"><img src=\"https://colab.research.google.com/assets/colab-badge.svg\" alt=\"Open In Colab\"/></a>"
      ]
    },
    {
      "cell_type": "markdown",
      "id": "bafb515b",
      "metadata": {
        "id": "bafb515b"
      },
      "source": [
        "# Document Splitting"
      ]
    },
    {
      "cell_type": "code",
      "source": [
        "!pip install openai==0.28\n",
        "!pip install python-dotenv\n",
        "!pip install langchain"
      ],
      "metadata": {
        "id": "7Uz3RLEdDZOe"
      },
      "id": "7Uz3RLEdDZOe",
      "execution_count": null,
      "outputs": []
    },
    {
      "cell_type": "code",
      "source": [
        "!echo \"OPENAI_API_KEY=sk-\" >> .env\n",
        "!source /content/.env"
      ],
      "metadata": {
        "id": "trY1j2EDDjUu"
      },
      "id": "trY1j2EDDjUu",
      "execution_count": null,
      "outputs": []
    },
    {
      "cell_type": "code",
      "source": [
        "import os\n",
        "from dotenv import load_dotenv\n",
        "\n",
        "# Load environment variables from .env file\n",
        "load_dotenv()\n",
        "# Access the API key using the variable name defined in the .env file\n",
        "api_key = os.getenv(\"OPENAI_API_KEY\")"
      ],
      "metadata": {
        "id": "M0nK6XbeDw_0"
      },
      "id": "M0nK6XbeDw_0",
      "execution_count": null,
      "outputs": []
    },
    {
      "cell_type": "code",
      "execution_count": null,
      "id": "06ea702c",
      "metadata": {
        "tags": [],
        "id": "06ea702c"
      },
      "outputs": [],
      "source": [
        "from langchain.text_splitter import RecursiveCharacterTextSplitter, CharacterTextSplitter"
      ]
    },
    {
      "cell_type": "code",
      "execution_count": null,
      "id": "2d587fb0",
      "metadata": {
        "tags": [],
        "id": "2d587fb0"
      },
      "outputs": [],
      "source": [
        "chunk_size =26\n",
        "chunk_overlap = 4"
      ]
    },
    {
      "cell_type": "code",
      "execution_count": null,
      "id": "2723bf02",
      "metadata": {
        "tags": [],
        "id": "2723bf02"
      },
      "outputs": [],
      "source": [
        "r_splitter = RecursiveCharacterTextSplitter(\n",
        "    chunk_size=chunk_size,\n",
        "    chunk_overlap=chunk_overlap\n",
        ")\n",
        "c_splitter = CharacterTextSplitter(\n",
        "    chunk_size=chunk_size,\n",
        "    chunk_overlap=chunk_overlap\n",
        ")"
      ]
    },
    {
      "cell_type": "markdown",
      "id": "a61167fc",
      "metadata": {
        "id": "a61167fc"
      },
      "source": [
        "Why doesn't this split the string below?"
      ]
    },
    {
      "cell_type": "code",
      "execution_count": null,
      "id": "dd21401b",
      "metadata": {
        "tags": [],
        "id": "dd21401b"
      },
      "outputs": [],
      "source": [
        "text1 = 'abcdefghijklmnopqrstuvwxyz'"
      ]
    },
    {
      "cell_type": "code",
      "execution_count": null,
      "id": "fa92a860",
      "metadata": {
        "tags": [],
        "id": "fa92a860"
      },
      "outputs": [],
      "source": [
        "r_splitter.split_text(text1)"
      ]
    },
    {
      "cell_type": "code",
      "execution_count": null,
      "id": "8b5da0f9",
      "metadata": {
        "tags": [],
        "id": "8b5da0f9"
      },
      "outputs": [],
      "source": [
        "text2 = 'abcdefghijklmnopqrstuvwxyzabcdefg'"
      ]
    },
    {
      "cell_type": "code",
      "execution_count": null,
      "id": "4ea0d456",
      "metadata": {
        "tags": [],
        "id": "4ea0d456"
      },
      "outputs": [],
      "source": [
        "r_splitter.split_text(text2)"
      ]
    },
    {
      "cell_type": "code",
      "source": [],
      "metadata": {
        "id": "DR0EcZNiHPHE"
      },
      "id": "DR0EcZNiHPHE",
      "execution_count": null,
      "outputs": []
    },
    {
      "cell_type": "markdown",
      "id": "87200022",
      "metadata": {
        "id": "87200022"
      },
      "source": [
        "Ok, this splits the string but we have an overlap specified as 5, but it looks like 3? (try an even number)"
      ]
    },
    {
      "cell_type": "code",
      "execution_count": null,
      "id": "dce39d64",
      "metadata": {
        "tags": [],
        "id": "dce39d64"
      },
      "outputs": [],
      "source": [
        "text3 = \"a b c d e f g h i j k l m n o p q r s t u v w x y z\""
      ]
    },
    {
      "cell_type": "code",
      "execution_count": null,
      "id": "d96c0ab9",
      "metadata": {
        "tags": [],
        "id": "d96c0ab9"
      },
      "outputs": [],
      "source": [
        "r_splitter.split_text(text3)"
      ]
    },
    {
      "cell_type": "code",
      "execution_count": null,
      "id": "0dbea42c",
      "metadata": {
        "tags": [],
        "id": "0dbea42c"
      },
      "outputs": [],
      "source": [
        "c_splitter.split_text(text3)"
      ]
    },
    {
      "cell_type": "code",
      "execution_count": null,
      "id": "63e71644",
      "metadata": {
        "tags": [],
        "id": "63e71644"
      },
      "outputs": [],
      "source": [
        "c_splitter = CharacterTextSplitter(\n",
        "    chunk_size=chunk_size,\n",
        "    chunk_overlap=chunk_overlap,\n",
        "    separator = ' '\n",
        ")\n",
        "c_splitter.split_text(text3)"
      ]
    },
    {
      "cell_type": "markdown",
      "id": "8b613ee6-6d34-4504-b00d-bb0dbf414cfe",
      "metadata": {
        "id": "8b613ee6-6d34-4504-b00d-bb0dbf414cfe"
      },
      "source": [
        "Try your own examples!"
      ]
    },
    {
      "cell_type": "markdown",
      "id": "c1a4d0ed",
      "metadata": {
        "id": "c1a4d0ed"
      },
      "source": [
        "## Recursive splitting details\n",
        "\n",
        "`RecursiveCharacterTextSplitter` is recommended for generic text."
      ]
    },
    {
      "cell_type": "code",
      "execution_count": null,
      "id": "96926a42-92e6-4ad4-9946-908a075fb32d",
      "metadata": {
        "tags": [],
        "id": "96926a42-92e6-4ad4-9946-908a075fb32d"
      },
      "outputs": [],
      "source": [
        "some_text = \"\"\"When writing documents, writers will use document structure to group content. \\\n",
        "This can convey to the reader, which idea's are related. For example, closely related ideas \\\n",
        "are in sentances. Similar ideas are in paragraphs. Paragraphs form a document. \\n\\n  \\\n",
        "Paragraphs are often delimited with a carriage return or two carriage returns. \\\n",
        "Carriage returns are the \"backslash n\" you see embedded in this string. \\\n",
        "Sentences have a period at the end, but also, have a space.\\\n",
        "and words are separated by space.\"\"\""
      ]
    },
    {
      "cell_type": "code",
      "execution_count": null,
      "id": "18706d73",
      "metadata": {
        "tags": [],
        "id": "18706d73"
      },
      "outputs": [],
      "source": [
        "len(some_text)"
      ]
    },
    {
      "cell_type": "code",
      "execution_count": null,
      "id": "5083a172-ba0a-4d9f-b561-18f0d2e6d9ce",
      "metadata": {
        "tags": [],
        "id": "5083a172-ba0a-4d9f-b561-18f0d2e6d9ce"
      },
      "outputs": [],
      "source": [
        "c_splitter = CharacterTextSplitter(\n",
        "    chunk_size=450,\n",
        "    chunk_overlap=0,\n",
        "    separator = ' '\n",
        ")\n",
        "r_splitter = RecursiveCharacterTextSplitter(\n",
        "    chunk_size=450,\n",
        "    chunk_overlap=0,\n",
        "    separators=[\"\\n\\n\", \"\\n\", \" \", \"\"]\n",
        ")"
      ]
    },
    {
      "cell_type": "code",
      "execution_count": null,
      "id": "7f8aa4ed-5347-4819-b3c1-d15696832a65",
      "metadata": {
        "tags": [],
        "id": "7f8aa4ed-5347-4819-b3c1-d15696832a65"
      },
      "outputs": [],
      "source": [
        "c_splitter.split_text(some_text)"
      ]
    },
    {
      "cell_type": "code",
      "execution_count": null,
      "id": "6af907f2-4110-4e40-a831-593f8592bd83",
      "metadata": {
        "tags": [],
        "id": "6af907f2-4110-4e40-a831-593f8592bd83"
      },
      "outputs": [],
      "source": [
        "r_splitter.split_text(some_text)"
      ]
    },
    {
      "cell_type": "markdown",
      "id": "3b3720ef-2a97-4e0f-a2da-660b274b2f00",
      "metadata": {
        "tags": [],
        "id": "3b3720ef-2a97-4e0f-a2da-660b274b2f00"
      },
      "source": [
        "Let's reduce the chunk size a bit and add a period to our separators:"
      ]
    },
    {
      "cell_type": "code",
      "execution_count": null,
      "id": "1e5496ea-d34e-4ed9-8f68-9dadd86e8da7",
      "metadata": {
        "tags": [],
        "id": "1e5496ea-d34e-4ed9-8f68-9dadd86e8da7"
      },
      "outputs": [],
      "source": [
        "r_splitter = RecursiveCharacterTextSplitter(\n",
        "    chunk_size=150,\n",
        "    chunk_overlap=0,\n",
        "    separators=[\"\\n\\n\", \"\\n\", \"\\. \", \" \", \"\"]\n",
        ")\n",
        "r_splitter.split_text(some_text)"
      ]
    },
    {
      "cell_type": "code",
      "execution_count": null,
      "id": "31da7561",
      "metadata": {
        "tags": [],
        "id": "31da7561"
      },
      "outputs": [],
      "source": [
        "r_splitter = RecursiveCharacterTextSplitter(\n",
        "    chunk_size=150,\n",
        "    chunk_overlap=0,\n",
        "    separators=[\"\\n\\n\", \"\\n\", \"(?<=\\. )\", \" \", \"\"]\n",
        ")\n",
        "r_splitter.split_text(some_text)"
      ]
    },
    {
      "cell_type": "code",
      "source": [
        "!pip install pypdf"
      ],
      "metadata": {
        "id": "zZBWiJi1E3fY"
      },
      "id": "zZBWiJi1E3fY",
      "execution_count": null,
      "outputs": []
    },
    {
      "cell_type": "code",
      "execution_count": null,
      "id": "a469e07d",
      "metadata": {
        "tags": [],
        "id": "a469e07d"
      },
      "outputs": [],
      "source": [
        "from langchain.document_loaders import PyPDFLoader\n",
        "loader = PyPDFLoader(\"MachineLearning-Lecture01.pdf\")\n",
        "pages = loader.load()"
      ]
    },
    {
      "cell_type": "code",
      "execution_count": null,
      "id": "bba6f05d",
      "metadata": {
        "tags": [],
        "id": "bba6f05d"
      },
      "outputs": [],
      "source": [
        "from langchain.text_splitter import CharacterTextSplitter\n",
        "text_splitter = CharacterTextSplitter(\n",
        "    separator=\"\\n\",\n",
        "    chunk_size=1000,\n",
        "    chunk_overlap=150,\n",
        "    length_function=len\n",
        ")"
      ]
    },
    {
      "cell_type": "code",
      "execution_count": null,
      "id": "c752a663-896b-4a24-9ffb-7640642b7a3f",
      "metadata": {
        "tags": [],
        "id": "c752a663-896b-4a24-9ffb-7640642b7a3f"
      },
      "outputs": [],
      "source": [
        "docs = text_splitter.split_documents(pages)"
      ]
    },
    {
      "cell_type": "code",
      "execution_count": null,
      "id": "7474a52c",
      "metadata": {
        "tags": [],
        "id": "7474a52c"
      },
      "outputs": [],
      "source": [
        "len(docs)"
      ]
    },
    {
      "cell_type": "code",
      "execution_count": null,
      "id": "d16046b2",
      "metadata": {
        "tags": [],
        "id": "d16046b2"
      },
      "outputs": [],
      "source": [
        "len(pages)"
      ]
    },
    {
      "cell_type": "code",
      "source": [
        "docs[0]"
      ],
      "metadata": {
        "id": "fHVQzesQFFiO"
      },
      "id": "fHVQzesQFFiO",
      "execution_count": null,
      "outputs": []
    },
    {
      "cell_type": "markdown",
      "id": "68f720db",
      "metadata": {
        "id": "68f720db"
      },
      "source": [
        "## Token splitting\n",
        "\n",
        "원한다면 명시적으로 토큰 수를 분할할 수도 있습니다.\n",
        "\n",
        "LLM에는 토큰에 지정된 컨텍스트 창이 있는 경우가 많기 때문에 이는 유용할 수 있습니다.\n",
        "\n",
        "토큰은 대개 최대 4자입니다.\n",
        "\n",
        "https://platform.openai.com/tokenizer"
      ]
    },
    {
      "cell_type": "code",
      "source": [
        "!pip install tiktoken"
      ],
      "metadata": {
        "id": "AebbmHn8FWsj"
      },
      "id": "AebbmHn8FWsj",
      "execution_count": null,
      "outputs": []
    },
    {
      "cell_type": "code",
      "execution_count": null,
      "id": "da0bcc05",
      "metadata": {
        "tags": [],
        "id": "da0bcc05"
      },
      "outputs": [],
      "source": [
        "from langchain.text_splitter import TokenTextSplitter"
      ]
    },
    {
      "cell_type": "code",
      "execution_count": null,
      "id": "0116b01b-2b0b-47a7-a107-bbc497029713",
      "metadata": {
        "tags": [],
        "id": "0116b01b-2b0b-47a7-a107-bbc497029713"
      },
      "outputs": [],
      "source": [
        "text_splitter = TokenTextSplitter(chunk_size=1, chunk_overlap=0)"
      ]
    },
    {
      "cell_type": "code",
      "execution_count": null,
      "id": "07a95e78",
      "metadata": {
        "tags": [],
        "id": "07a95e78"
      },
      "outputs": [],
      "source": [
        "text1 = \"foo bar bazzyfoo\""
      ]
    },
    {
      "cell_type": "code",
      "source": [
        "text2 = \"강풍 몰아친 제주…국내·국제선 항공편 무더기 결항\""
      ],
      "metadata": {
        "id": "0LWoJnAMHUNQ"
      },
      "id": "0LWoJnAMHUNQ",
      "execution_count": null,
      "outputs": []
    },
    {
      "cell_type": "code",
      "execution_count": null,
      "id": "8eec0912",
      "metadata": {
        "tags": [],
        "id": "8eec0912"
      },
      "outputs": [],
      "source": [
        "text_splitter.split_text(text1)"
      ]
    },
    {
      "cell_type": "code",
      "source": [
        "text_splitter.split_text(text2)"
      ],
      "metadata": {
        "id": "JwR28O5PHdxG",
        "outputId": "af927384-a98a-4849-bbbd-6f14a75a394c",
        "colab": {
          "base_uri": "https://localhost:8080/"
        }
      },
      "id": "JwR28O5PHdxG",
      "execution_count": null,
      "outputs": [
        {
          "output_type": "execute_result",
          "data": {
            "text/plain": [
              "['강풍 몰�', '��친 제�', '�…국내·�', '��제선 �', '�공편 무', '더기 결', '항']"
            ]
          },
          "metadata": {},
          "execution_count": 46
        }
      ]
    },
    {
      "cell_type": "code",
      "execution_count": null,
      "id": "ffa29d43",
      "metadata": {
        "tags": [],
        "id": "ffa29d43"
      },
      "outputs": [],
      "source": [
        "text_splitter = TokenTextSplitter(chunk_size=10, chunk_overlap=0)"
      ]
    },
    {
      "cell_type": "code",
      "execution_count": null,
      "id": "e53e203a",
      "metadata": {
        "tags": [],
        "id": "e53e203a"
      },
      "outputs": [],
      "source": [
        "docs = text_splitter.split_documents(pages)"
      ]
    },
    {
      "cell_type": "code",
      "execution_count": null,
      "id": "3b186c5f",
      "metadata": {
        "tags": [],
        "id": "3b186c5f"
      },
      "outputs": [],
      "source": [
        "docs[0]"
      ]
    },
    {
      "cell_type": "code",
      "execution_count": null,
      "id": "9f97c85a-78e8-4c63-bd45-ce585e26b63a",
      "metadata": {
        "id": "9f97c85a-78e8-4c63-bd45-ce585e26b63a"
      },
      "outputs": [],
      "source": []
    }
  ],
  "metadata": {
    "kernelspec": {
      "display_name": "Python 3 (ipykernel)",
      "language": "python",
      "name": "python3"
    },
    "language_info": {
      "codemirror_mode": {
        "name": "ipython",
        "version": 3
      },
      "file_extension": ".py",
      "mimetype": "text/x-python",
      "name": "python",
      "nbconvert_exporter": "python",
      "pygments_lexer": "ipython3",
      "version": "3.8.10"
    },
    "colab": {
      "provenance": [],
      "include_colab_link": true
    }
  },
  "nbformat": 4,
  "nbformat_minor": 5
}