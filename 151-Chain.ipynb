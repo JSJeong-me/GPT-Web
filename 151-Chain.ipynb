{
  "nbformat": 4,
  "nbformat_minor": 0,
  "metadata": {
    "colab": {
      "provenance": [],
      "authorship_tag": "ABX9TyOv/TrDBGvqDJoMU/Z+s9Q2",
      "include_colab_link": true
    },
    "kernelspec": {
      "name": "python3",
      "display_name": "Python 3"
    },
    "language_info": {
      "name": "python"
    }
  },
  "cells": [
    {
      "cell_type": "markdown",
      "metadata": {
        "id": "view-in-github",
        "colab_type": "text"
      },
      "source": [
        "<a href=\"https://colab.research.google.com/github/JSJeong-me/GPT-Web/blob/main/151-Chain.ipynb\" target=\"_parent\"><img src=\"https://colab.research.google.com/assets/colab-badge.svg\" alt=\"Open In Colab\"/></a>"
      ]
    },
    {
      "cell_type": "code",
      "source": [
        "!pip install langchain\n",
        "!pip install openai==0.28\n",
        "!pip install python-dotenv"
      ],
      "metadata": {
        "id": "7iUrFuB5CBzt"
      },
      "execution_count": null,
      "outputs": []
    },
    {
      "cell_type": "code",
      "source": [
        "!echo \"OPENAI_API_KEY=sk-h\" >> .env\n",
        "!source /content/.env"
      ],
      "metadata": {
        "id": "77XZwo9KCKZp"
      },
      "execution_count": 2,
      "outputs": []
    },
    {
      "cell_type": "code",
      "source": [
        "import os\n",
        "from dotenv import load_dotenv\n",
        "\n",
        "# Load environment variables from .env file\n",
        "load_dotenv()\n",
        "# Access the API key using the variable name defined in the .env file\n",
        "api_key = os.getenv(\"OPENAI_API_KEY\")"
      ],
      "metadata": {
        "id": "FJH3GtIjCUAn"
      },
      "execution_count": 3,
      "outputs": []
    },
    {
      "cell_type": "markdown",
      "source": [
        "Pipeline = prompt + model + output parser"
      ],
      "metadata": {
        "id": "E6YZlZZsBlmU"
      }
    },
    {
      "cell_type": "code",
      "source": [
        "topic = \"고래를 주제로\""
      ],
      "metadata": {
        "id": "0T1LYfEiBsVm"
      },
      "execution_count": 4,
      "outputs": []
    },
    {
      "cell_type": "code",
      "execution_count": 6,
      "metadata": {
        "colab": {
          "base_uri": "https://localhost:8080/",
          "height": 72
        },
        "id": "1RzsfJV7BjjJ",
        "outputId": "543ae8ee-603a-4e1d-a479-ecfbe7ce584f"
      },
      "outputs": [
        {
          "output_type": "execute_result",
          "data": {
            "text/plain": [
              "'한 번 고래를 타고 바다를 헤엄쳐 보자는 친구들의 제안에 동의한 나는 신나게 고래 등에 올라탔다. 그러나 고래가 갑자기 미끄러져 내려오자 나는 놀라서 비명을 지르고 말았다. 그리고 그 고래는 나를 자신의 물고기 친구들과 함께 놀이공원으로 데려가주었다.'"
            ],
            "application/vnd.google.colaboratory.intrinsic+json": {
              "type": "string"
            }
          },
          "metadata": {},
          "execution_count": 6
        }
      ],
      "source": [
        "from langchain.chat_models import ChatOpenAI\n",
        "from langchain.prompts import ChatPromptTemplate\n",
        "from langchain_core.output_parsers import StrOutputParser\n",
        "\n",
        "prompt = ChatPromptTemplate.from_template(\"재미난 이야기 3줄 작성 {topic}\")\n",
        "model = ChatOpenAI()\n",
        "output_parser = StrOutputParser()\n",
        "\n",
        "chain = prompt | model | output_parser\n",
        "\n",
        "chain.invoke({\"topic\": topic})"
      ]
    },
    {
      "cell_type": "code",
      "source": [],
      "metadata": {
        "id": "aj_UYQcEBrAj"
      },
      "execution_count": null,
      "outputs": []
    },
    {
      "cell_type": "markdown",
      "source": [
        "Prompt"
      ],
      "metadata": {
        "id": "COq-V7A5C-RF"
      }
    },
    {
      "cell_type": "code",
      "source": [
        "prompt_value = prompt.invoke({\"topic\": topic})\n",
        "prompt_value"
      ],
      "metadata": {
        "colab": {
          "base_uri": "https://localhost:8080/"
        },
        "id": "udJc8DBVC5xl",
        "outputId": "5eaf1b51-b4ef-4e5c-89e6-a06121fa61c9"
      },
      "execution_count": 10,
      "outputs": [
        {
          "output_type": "execute_result",
          "data": {
            "text/plain": [
              "ChatPromptValue(messages=[HumanMessage(content='재미난 이야기 3줄 작성 고래를 주제로')])"
            ]
          },
          "metadata": {},
          "execution_count": 10
        }
      ]
    },
    {
      "cell_type": "code",
      "source": [
        "prompt_value.to_messages()"
      ],
      "metadata": {
        "colab": {
          "base_uri": "https://localhost:8080/"
        },
        "id": "FHFsk4zkDW6T",
        "outputId": "e440a990-0af5-442f-9d33-1c7b2065333f"
      },
      "execution_count": 11,
      "outputs": [
        {
          "output_type": "execute_result",
          "data": {
            "text/plain": [
              "[HumanMessage(content='재미난 이야기 3줄 작성 고래를 주제로')]"
            ]
          },
          "metadata": {},
          "execution_count": 11
        }
      ]
    },
    {
      "cell_type": "code",
      "source": [
        "prompt_value.to_string()"
      ],
      "metadata": {
        "colab": {
          "base_uri": "https://localhost:8080/",
          "height": 35
        },
        "id": "CSyPq6AaD9wn",
        "outputId": "5d970b76-4a42-4dbe-8007-70a2c974a6c5"
      },
      "execution_count": 12,
      "outputs": [
        {
          "output_type": "execute_result",
          "data": {
            "text/plain": [
              "'Human: 재미난 이야기 3줄 작성 고래를 주제로'"
            ],
            "application/vnd.google.colaboratory.intrinsic+json": {
              "type": "string"
            }
          },
          "metadata": {},
          "execution_count": 12
        }
      ]
    },
    {
      "cell_type": "markdown",
      "source": [
        "Model"
      ],
      "metadata": {
        "id": "68mYPhQXEBNU"
      }
    },
    {
      "cell_type": "code",
      "source": [
        "message = model.invoke(prompt_value)\n",
        "message"
      ],
      "metadata": {
        "colab": {
          "base_uri": "https://localhost:8080/"
        },
        "id": "TsgwYuOKEDhT",
        "outputId": "6f35a7d1-bcb6-406e-875e-aa8e567f034a"
      },
      "execution_count": 13,
      "outputs": [
        {
          "output_type": "execute_result",
          "data": {
            "text/plain": [
              "AIMessage(content='한 날, 고래가 도시에서 물을 뿜어내며 걷는 모습이 보였다. 사람들은 놀라고 궁금해하며 고래의 이유를 알아보았는데, 고래는 도시 생활에 지치고 힐링이 필요해서 그랬던 것이었다. 그리고 그날부터 고래는 도시에서 힐링 투어를 시작했다.')"
            ]
          },
          "metadata": {},
          "execution_count": 13
        }
      ]
    },
    {
      "cell_type": "code",
      "source": [
        "from langchain.llms import OpenAI\n",
        "\n",
        "llm = OpenAI(model=\"gpt-3.5-turbo-instruct\")\n",
        "llm.invoke(prompt_value)"
      ],
      "metadata": {
        "colab": {
          "base_uri": "https://localhost:8080/",
          "height": 108
        },
        "id": "eZp-nYzRELl-",
        "outputId": "9b0cc50f-ebb3-470b-98ad-1cffa0e4a6d4"
      },
      "execution_count": 14,
      "outputs": [
        {
          "output_type": "execute_result",
          "data": {
            "text/plain": [
              "'\\n\\n1. 바다 깊은 곳에서 살고 있는 고래는 언제나 호기심이 많았다. 그래서 그는 인간들과의 교류를 꿈꿨고, 어느 날 그 꿈이 이루어졌다.\\n2. 어부들의 그물에 걸려 숨어 있던 고래는 인간들에게 구조되어 바다 위로 나왔다. 하지만 인간들은 그를 보자마자 새 친구로 반겨주었다.\\n3. 그 날부터 고래는 인간들과 함께 유쾌한 여행을 즐기며, 그들의 이야기를 듣고 꿈꾸지 못했던 다양한 경험을 하게 되었다. 그리고 이제는 인간들을 자신의 가족처럼 생각하며 바다에서'"
            ],
            "application/vnd.google.colaboratory.intrinsic+json": {
              "type": "string"
            }
          },
          "metadata": {},
          "execution_count": 14
        }
      ]
    },
    {
      "cell_type": "markdown",
      "source": [
        "Output parser"
      ],
      "metadata": {
        "id": "4XV9yxiEERvt"
      }
    },
    {
      "cell_type": "code",
      "source": [
        "output_parser.invoke(message)"
      ],
      "metadata": {
        "colab": {
          "base_uri": "https://localhost:8080/",
          "height": 72
        },
        "id": "7yCAItt2ERXV",
        "outputId": "6334551f-d1aa-429d-f00e-705be841f6f6"
      },
      "execution_count": 15,
      "outputs": [
        {
          "output_type": "execute_result",
          "data": {
            "text/plain": [
              "'한 날, 고래가 도시에서 물을 뿜어내며 걷는 모습이 보였다. 사람들은 놀라고 궁금해하며 고래의 이유를 알아보았는데, 고래는 도시 생활에 지치고 힐링이 필요해서 그랬던 것이었다. 그리고 그날부터 고래는 도시에서 힐링 투어를 시작했다.'"
            ],
            "application/vnd.google.colaboratory.intrinsic+json": {
              "type": "string"
            }
          },
          "metadata": {},
          "execution_count": 15
        }
      ]
    },
    {
      "cell_type": "markdown",
      "source": [
        "Entire Pipeline"
      ],
      "metadata": {
        "id": "OvF7IVmREYS7"
      }
    },
    {
      "cell_type": "code",
      "source": [
        "input = {\"topic\": topic}\n",
        "\n",
        "prompt.invoke(input)\n",
        "# > ChatPromptValue(messages=[HumanMessage(content='tell me a short joke about ice cream')])\n",
        "\n",
        "(prompt | model).invoke(input)\n",
        "# > AIMessage(content=\"Why did the ice cream go to therapy?\\nBecause it had too many toppings and couldn't cone-trol itself!\")"
      ],
      "metadata": {
        "colab": {
          "base_uri": "https://localhost:8080/"
        },
        "id": "1YLBKkOmEZFK",
        "outputId": "e37810a0-4d3f-4452-8ecf-713e6676f388"
      },
      "execution_count": 16,
      "outputs": [
        {
          "output_type": "execute_result",
          "data": {
            "text/plain": [
              "AIMessage(content='한 번은 바다 속 깊은 고래의 마음을 읽을 수 있는 소녀가 있었다. 그녀는 고래와 대화하는 것을 즐겼고, 고래도 그녀와의 시간을 즐기며 행복했다. 어느 날, 그녀는 고래에게 바다 속에서의 모험을 제안했고, 함께 헤엄쳐 바다 안의 비밀스러운 세계를 탐험하게 되었다.')"
            ]
          },
          "metadata": {},
          "execution_count": 16
        }
      ]
    }
  ]
}