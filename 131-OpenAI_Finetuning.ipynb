{
  "nbformat": 4,
  "nbformat_minor": 0,
  "metadata": {
    "colab": {
      "provenance": [],
      "gpuType": "T4",
      "include_colab_link": true
    },
    "kernelspec": {
      "name": "python3",
      "display_name": "Python 3"
    },
    "language_info": {
      "name": "python"
    },
    "accelerator": "GPU"
  },
  "cells": [
    {
      "cell_type": "markdown",
      "metadata": {
        "id": "view-in-github",
        "colab_type": "text"
      },
      "source": [
        "<a href=\"https://colab.research.google.com/github/JSJeong-me/GPT-Web/blob/main/131-OpenAI_Finetuning.ipynb\" target=\"_parent\"><img src=\"https://colab.research.google.com/assets/colab-badge.svg\" alt=\"Open In Colab\"/></a>"
      ]
    },
    {
      "cell_type": "code",
      "source": [
        "!pip install python-dotenv\n",
        "!pip install openai==0.28\n",
        "!pip install datasets"
      ],
      "metadata": {
        "id": "1judd9krSiFG"
      },
      "execution_count": null,
      "outputs": []
    },
    {
      "cell_type": "code",
      "source": [],
      "metadata": {
        "id": "-lgkMXpVj75b"
      },
      "execution_count": null,
      "outputs": []
    },
    {
      "cell_type": "markdown",
      "source": [
        "# OpenAI API Key 설정"
      ],
      "metadata": {
        "id": "RfTT7awXHSA1"
      }
    },
    {
      "cell_type": "code",
      "source": [
        "!echo \"OPENAI_API_KEY=sk-\" >> .env"
      ],
      "metadata": {
        "id": "3pL06p-wkCzV"
      },
      "execution_count": null,
      "outputs": []
    },
    {
      "cell_type": "code",
      "source": [
        "!source /content/.env"
      ],
      "metadata": {
        "id": "W_HXthYLkH7_"
      },
      "execution_count": null,
      "outputs": []
    },
    {
      "cell_type": "code",
      "source": [
        "import os\n",
        "from dotenv import load_dotenv\n",
        "\n",
        "# Load environment variables from .env file\n",
        "load_dotenv()\n",
        "# Access the API key using the variable name defined in the .env file\n",
        "api_key = os.getenv(\"OPENAI_API_KEY\")"
      ],
      "metadata": {
        "id": "0EEHtl8ASg4A"
      },
      "execution_count": null,
      "outputs": []
    },
    {
      "cell_type": "markdown",
      "source": [
        "# 학습 데이터"
      ],
      "metadata": {
        "id": "LUvwgw7lvLhj"
      }
    },
    {
      "cell_type": "code",
      "source": [
        "dataset ={\n",
        "    \"train\": [\n",
        "        {\n",
        "            \"instruction\": \"방콕의 현재 기온은 어떻게 되나요?\",\n",
        "            \"output\": \"방콕의 현재 기온은 약 28°C입니다.\"\n",
        "        },\n",
        "        {\n",
        "            \"instruction\": \"부에노스아이레스의 현재 기온은 어떻게 되나요?\",\n",
        "            \"output\": \"부에노스아이레스의 현재 기온은 약 28°C입니다.\"\n",
        "        },\n",
        "        {\n",
        "            \"instruction\": \"델리의 현재 기온은 어떻게 되나요?\",\n",
        "            \"output\": \"델리의 현재 기온은 약 10°C입니다.\"\n",
        "        },\n",
        "        {\n",
        "            \"instruction\": \"이스탄불의 현재 기온은 어떻게 되나요?\",\n",
        "            \"output\": \"이스탄불의 현재 기온은 약 13°C입니다.\"\n",
        "        },\n",
        "        {\n",
        "            \"instruction\": \"자카르타의 현재 기온은 어떻게 되나요?\",\n",
        "            \"output\": \"자카르타의 현재 기온은 약 30°C입니다.\"\n",
        "        },\n",
        "        {\n",
        "            \"instruction\": \"멕시코시티의 현재 기온은 어떻게 되나요?\",\n",
        "            \"output\": \"멕시코시티의 현재 기온은 약 15°C입니다.\"\n",
        "        },\n",
        "        {\n",
        "            \"instruction\": \"모스크바의 현재 기온은 어떻게 되나요?\",\n",
        "            \"output\": \"모스크바의 현재 기온은 약 -12°C입니다.\"\n",
        "        },\n",
        "        {\n",
        "            \"instruction\": \"상파울루의 현재 기온은 어떻게 되나요?\",\n",
        "            \"output\": \"상파울루의 현재 기온은 약 27°C입니다.\"\n",
        "        },\n",
        "        {\n",
        "            \"instruction\": \"상하이의 현재 기온은 어떻게 되나요?\",\n",
        "            \"output\": \"상하이의 현재 기온은 약 14°C입니다.\"\n",
        "        },\n",
        "        {\n",
        "            \"instruction\": \"토론토의 현재 기온은 어떻게 되나요?\",\n",
        "            \"output\": \"토론토의 현재 기온은 약 2°C입니다.\"\n",
        "        },\n",
        "        {\n",
        "            \"instruction\": \"방콕의 현재 기온은 어떻게 되나요?\",\n",
        "            \"output\": \"방콕의 현재 기온은 82°F입니다.\"\n",
        "        },\n",
        "        {\n",
        "            \"instruction\": \"부에노스아이레스의 현재 기온은 어떻게 되나요?\",\n",
        "            \"output\": \"부에노스아이레스의 현재 기온은 82°F입니다.\"\n",
        "        },\n",
        "        {\n",
        "            \"instruction\": \"델리의 현재 기온은 어떻게 되나요?\",\n",
        "            \"output\": \"델리의 현재 기온은 50°F입니다.\"\n",
        "        },\n",
        "        {\n",
        "            \"instruction\": \"이스탄불의 현재 기온은 어떻게 되나요?\",\n",
        "            \"output\": \"이스탄불의 현재 기온은 55°F입니다.\"\n",
        "        },\n",
        "        {\n",
        "            \"instruction\": \"자카르타의 현재 기온은 어떻게 되나요?\",\n",
        "            \"output\": \"자카르타의 현재 기온은 86°F입니다.\"\n",
        "        },\n",
        "        {\n",
        "            \"instruction\": \"멕시코시티의 현재 기온은 어떻게 되나요?\",\n",
        "            \"output\": \"멕시코시티의 현재 기온은 59°F입니다.\"\n",
        "        },\n",
        "        {\n",
        "            \"instruction\": \"모스크바의 현재 기온은 어떻게 되나요?\",\n",
        "            \"output\": \"모스크바의 현재 기온은 11°F입니다.\"\n",
        "        },\n",
        "        {\n",
        "            \"instruction\": \"상파울루의 현재 기온은 어떻게 되나요?\",\n",
        "            \"output\": \"상파울루의 현재 기온은 81°F입니다.\"\n",
        "        },\n",
        "        {\n",
        "            \"instruction\": \"상하이의 현재 기온은 어떻게 되나요?\",\n",
        "            \"output\": \"상하이의 현재 기온은 57°F입니다.\"\n",
        "        },\n",
        "        {\n",
        "            \"instruction\": \"토론토의 현재 기온은 어떻게 되나요?\",\n",
        "            \"output\": \"토론토의 현재 기온은 36°F입니다.\"\n",
        "        }\n",
        "    ]\n",
        "}"
      ],
      "metadata": {
        "id": "EsLnKBbJHUr0"
      },
      "execution_count": null,
      "outputs": []
    },
    {
      "cell_type": "markdown",
      "source": [
        "# 학습데이터 생성"
      ],
      "metadata": {
        "id": "Ex_wxluuGNjt"
      }
    },
    {
      "cell_type": "code",
      "source": [
        "import json\n",
        "\n",
        "list_message = []\n",
        "num_data = len(dataset[\"train\"])  # 데이터셋의 길이를 사용\n",
        "\n",
        "for i in range(num_data):\n",
        "    instruction = dataset[\"train\"][i][\"instruction\"]\n",
        "    output = dataset[\"train\"][i][\"output\"]\n",
        "    print(\"질문:\", instruction)\n",
        "    print(\"답변:\", output)\n",
        "    message = [\n",
        "        {\"role\": \"user\", \"content\": instruction},\n",
        "        {\"role\": \"assistant\", \"content\": output},\n",
        "    ]\n",
        "    list_message.append(message)\n",
        "\n",
        "with open(\"output1.jsonl\", \"w\") as file:\n",
        "    for messages in list_message:\n",
        "        json_line = json.dumps({\"messages\": messages})\n",
        "        file.write(json_line + '\\n')"
      ],
      "metadata": {
        "id": "eTnCCUsslAlH"
      },
      "execution_count": null,
      "outputs": []
    },
    {
      "cell_type": "markdown",
      "source": [
        "# jsonl파일 업로드"
      ],
      "metadata": {
        "id": "n9JhMeALJlAU"
      }
    },
    {
      "cell_type": "code",
      "source": [
        "import openai\n",
        "\n",
        "upload_file = openai.File.create(\n",
        "  file=open(\"output1.jsonl\", \"rb\"),\n",
        "  purpose='fine-tune'\n",
        ")"
      ],
      "metadata": {
        "id": "TX6gK0QnKhpH"
      },
      "execution_count": null,
      "outputs": []
    },
    {
      "cell_type": "code",
      "source": [
        "\n",
        "try:\n",
        "    upload_file = openai.File.retrieve(\"file-HldgLsxIMzwvSdCgbWUqKwI3\")\n",
        "    print(upload_file)\n",
        "except openai.error.InvalidRequestError as e:\n",
        "    print(\"Error occurred:\", e)\n",
        "\n"
      ],
      "metadata": {
        "id": "7CO4cxXPlfqY"
      },
      "execution_count": null,
      "outputs": []
    },
    {
      "cell_type": "markdown",
      "source": [
        "# 모델 학습"
      ],
      "metadata": {
        "id": "QviKVXnOGD6m"
      }
    },
    {
      "cell_type": "code",
      "source": [
        "start_train = openai.FineTuningJob.create(training_file=upload_file[\"id\"],model=\"gpt-3.5-turbo\")"
      ],
      "metadata": {
        "id": "zHoOsgszRxBX"
      },
      "execution_count": null,
      "outputs": []
    },
    {
      "cell_type": "code",
      "source": [
        "# upload_file의 상태 확인\n",
        "upload_file = openai.File.retrieve(\"file-HldgLsxIMzwvSdCgbWUqKwI3\")\n",
        "print(upload_file)"
      ],
      "metadata": {
        "id": "AhmYmO-2x1-V"
      },
      "execution_count": null,
      "outputs": []
    },
    {
      "cell_type": "code",
      "source": [
        "start_train = openai.FineTuningJob.create(\n",
        "    training_file=\"file-HldgLsxIMzwvSdCgbWUqKwI3\",\n",
        "    model=\"gpt-3.5-turbo\"\n",
        ")"
      ],
      "metadata": {
        "id": "pKKZcJlwynto"
      },
      "execution_count": null,
      "outputs": []
    },
    {
      "cell_type": "code",
      "source": [
        "# Fine-tuning 작업 상태 확인\n",
        "status = openai.FineTuningJob.list(limit=10)\n",
        "status[\"data\"][0]"
      ],
      "metadata": {
        "id": "YD_wWa56JioG"
      },
      "execution_count": null,
      "outputs": []
    },
    {
      "cell_type": "code",
      "source": [
        "# 모델 이름 얻기\n",
        "fine_tuned_model = status[\"data\"][0][\"fine_tuned_model\"]\n",
        "print(fine_tuned_model)"
      ],
      "metadata": {
        "id": "h5q_gKNmzEdG"
      },
      "execution_count": null,
      "outputs": []
    },
    {
      "cell_type": "code",
      "source": [
        "completion = openai.ChatCompletion.create(\n",
        "  model=status[\"data\"][0][\"fine_tuned_model\"],\n",
        "  messages=[\n",
        "    {\"role\": \"user\", \"content\": \"델리의 현재 기온은 어떻게 되나요?\"}\n",
        "  ]\n",
        ")"
      ],
      "metadata": {
        "id": "2jefHfZhGGSt"
      },
      "execution_count": null,
      "outputs": []
    },
    {
      "cell_type": "code",
      "source": [
        "print(completion.choices[0].message[\"content\"])"
      ],
      "metadata": {
        "id": "FFuRGtjyJhbr"
      },
      "execution_count": null,
      "outputs": []
    },
    {
      "cell_type": "code",
      "source": [],
      "metadata": {
        "id": "F1srrPcXGICS"
      },
      "execution_count": null,
      "outputs": []
    }
  ]
}