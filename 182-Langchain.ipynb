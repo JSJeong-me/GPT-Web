{
  "nbformat": 4,
  "nbformat_minor": 0,
  "metadata": {
    "colab": {
      "provenance": [],
      "gpuType": "T4",
      "include_colab_link": true
    },
    "kernelspec": {
      "name": "python3",
      "display_name": "Python 3"
    },
    "language_info": {
      "name": "python"
    }
  },
  "cells": [
    {
      "cell_type": "markdown",
      "metadata": {
        "id": "view-in-github",
        "colab_type": "text"
      },
      "source": [
        "<a href=\"https://colab.research.google.com/github/JSJeong-me/GPT-Web/blob/main/182-Langchain.ipynb\" target=\"_parent\"><img src=\"https://colab.research.google.com/assets/colab-badge.svg\" alt=\"Open In Colab\"/></a>"
      ]
    },
    {
      "cell_type": "markdown",
      "source": [
        "# LangChain이란?\n",
        "* Language : Large Language Model의 Language\n",
        "* Chain: 모듈들을 체인으로 연결하여 다른 툴의 출력을 다음 툴의 입력으로 연결하는 방식\n",
        "  * 예: 검색 -> OpenAI(LLM) -> 계산\n",
        "* LLM(Large Language Model)을 이용해서 뭔가 만들때 쓸수 있는 툴/라이브러리 모음.\n",
        "* 파이썬과 자바스크립트 라이브러리를 제공.\n",
        "* 검색, 메모리, 계산, 요약, 색인, Agent(에이전트) 등의 기능을 제공\n",
        "* 모듈화로 쉽게 부품을 갈아끼울수 있음\n",
        "* LLM은 기본 OpenAI (text-davinci-003) 이용\n",
        "\n",
        "---\n",
        "참고 자료:\n",
        "* 파이썬 문서: https://python.langchain.com/en/latest/index.html\n",
        "* 개념 문서: https://docs.langchain.com/docs/\n",
        "* 소스: https://github.com/hwchase17/langchain\n",
        "\n",
        "---"
      ],
      "metadata": {
        "id": "tXNJbsfQExSI"
      }
    },
    {
      "cell_type": "code",
      "execution_count": null,
      "metadata": {
        "id": "MeRu2hV6sCyv"
      },
      "outputs": [],
      "source": [
        "#@title 기본 패키지(openai, langchain) 설치\n",
        "!pip install openai\n",
        "!pip install langchain"
      ]
    },
    {
      "cell_type": "code",
      "source": [
        "#@title 기타 패키지 설치 (구글검색, 위키피디아, VectorStore, HuggingFace Embedding)\n",
        "!pip install google-search-results\n",
        "!pip install wikipedia\n",
        "!pip install faiss-cpu # 오픈소스 벡터DB (Facebook, MIT license)\n",
        "!pip install sentence_transformers # HuggingFace Embedding 사용 위해서 필요\n",
        "!pip install tiktoken # Summarization 할때 필요"
      ],
      "metadata": {
        "id": "bz4Q7yF1-gZu"
      },
      "execution_count": null,
      "outputs": []
    },
    {
      "cell_type": "code",
      "source": [
        "#@title 0. API 키 설정\n",
        "import os\n",
        "#@markdown https://platform.openai.com/account/api-keys\n",
        "OPENAI_API_KEY = \"sk-\" #@param {type:\"string\"}\n",
        "\n",
        "#@markdown https://huggingface.co/settings/tokens\n",
        "#@markdown HuggingFace에서 모델 다운로드나 클라우드 모델 사용하기 위해서 필요 (무료)\n",
        "HUGGINGFACEHUB_API_TOKEN = \"hf_\" #@param {type:\"string\"}\n",
        "\n",
        "#@markdown https://serpapi.com/manage-api-key\n",
        "#@markdown 구글 검색하기 위해서 필요 (월 100회 무료)\n",
        "SERPAPI_API_KEY = \"\" #@param {type:\"string\"}\n",
        "\n",
        "os.environ[\"OPENAI_API_KEY\"] = OPENAI_API_KEY\n",
        "os.environ[\"HUGGINGFACEHUB_API_TOKEN\"] = HUGGINGFACEHUB_API_TOKEN\n",
        "os.environ[\"SERPAPI_API_KEY\"] = SERPAPI_API_KEY\n"
      ],
      "metadata": {
        "id": "XRO6i4Myseen"
      },
      "execution_count": null,
      "outputs": []
    },
    {
      "cell_type": "code",
      "source": [
        "#@title 1. OpenAI LLM (text-davinci-003)\n",
        "\n",
        "from langchain.llms import OpenAI"
      ],
      "metadata": {
        "id": "eV3cP6GtJe-i"
      },
      "execution_count": null,
      "outputs": []
    },
    {
      "cell_type": "code",
      "source": [
        "#@title 1. OpenAI LLM (text-davinci-003)\n",
        "\n",
        "from langchain.llms import OpenAI\n",
        "\n",
        "llm = OpenAI(model_name='text-davinci-003', temperature=0.9)\n",
        "\n"
      ],
      "metadata": {
        "id": "HfdZjHHrsoX0"
      },
      "execution_count": null,
      "outputs": []
    },
    {
      "cell_type": "code",
      "source": [
        "type(llm)"
      ],
      "metadata": {
        "id": "no_md6DZJ2oE"
      },
      "execution_count": null,
      "outputs": []
    },
    {
      "cell_type": "code",
      "source": [
        "#@title 1. ChatOpenAI LLM (gpt-3.5-turbo)\n",
        "\n",
        "from langchain.chat_models import ChatOpenAI\n",
        "from langchain.schema import (\n",
        "    AIMessage,\n",
        "    HumanMessage,\n",
        "    SystemMessage\n",
        ")"
      ],
      "metadata": {
        "id": "tYME_S2JK4ye"
      },
      "execution_count": null,
      "outputs": []
    },
    {
      "cell_type": "code",
      "source": [],
      "metadata": {
        "id": "2Ha7LTLrhStf"
      },
      "execution_count": null,
      "outputs": []
    },
    {
      "cell_type": "code",
      "source": [
        "#@title 2. ChatPromptTemplate & chain\n",
        "\n",
        "from langchain.chat_models import ChatOpenAI\n",
        "from langchain.prompts.chat import (\n",
        "    ChatPromptTemplate,\n",
        "    SystemMessagePromptTemplate,\n",
        "    HumanMessagePromptTemplate,\n",
        ")\n"
      ],
      "metadata": {
        "id": "0ydAlKtpNDJu"
      },
      "execution_count": null,
      "outputs": []
    },
    {
      "cell_type": "code",
      "source": [
        "from langchain.prompts import PromptTemplate"
      ],
      "metadata": {
        "id": "ISTAu0BMiWUI"
      },
      "execution_count": null,
      "outputs": []
    },
    {
      "cell_type": "code",
      "source": [
        "prompt = PromptTemplate(\n",
        "    input_variables=[\"상품\"],\n",
        "    template=\"{상품} 만드는 회사 이름 추천해줘. 기억에 남는 한글 이름으로\",\n",
        ")"
      ],
      "metadata": {
        "id": "0T8tLXVliZZL"
      },
      "execution_count": null,
      "outputs": []
    },
    {
      "cell_type": "code",
      "source": [
        "prompt.format(상품=\"신발\")"
      ],
      "metadata": {
        "id": "BmiORiUOif_l"
      },
      "execution_count": null,
      "outputs": []
    },
    {
      "cell_type": "code",
      "source": [
        "chat = ChatOpenAI(temperature=0)\n",
        "\n",
        "template=\"You are a helpful assisstant that tranlates {input_language} to {output_language}.\"\n",
        "system_message_prompt = SystemMessagePromptTemplate.from_template(template)\n",
        "human_template=\"{text}\"\n",
        "human_message_prompt = HumanMessagePromptTemplate.from_template(human_template)"
      ],
      "metadata": {
        "id": "s6dNO2vHh_6e"
      },
      "execution_count": null,
      "outputs": []
    },
    {
      "cell_type": "code",
      "source": [
        "from langchain.chains import LLMChain\n",
        "chain = LLMChain(llm=chat, prompt=prompt)"
      ],
      "metadata": {
        "id": "2M1DNN-whXH0"
      },
      "execution_count": null,
      "outputs": []
    },
    {
      "cell_type": "code",
      "source": [
        "prompt = PromptTemplate(\n",
        "    input_variables=[\"상품\"],\n",
        "    template=\"{상품} 만드는 회사 이름 추천해줘. 기억에 남는 한글 이름으로\",\n",
        ")"
      ],
      "metadata": {
        "id": "Y618vwH2hZ5L"
      },
      "execution_count": null,
      "outputs": []
    },
    {
      "cell_type": "code",
      "source": [
        "prompt.format(상품=\"신발\")"
      ],
      "metadata": {
        "id": "YP1zg9x_hex4"
      },
      "execution_count": null,
      "outputs": []
    },
    {
      "cell_type": "code",
      "source": [
        "chat = ChatOpenAI(temperature=0)\n",
        "\n",
        "template=\"You are a helpful assisstant that tranlates {input_language} to {output_language}.\"\n",
        "system_message_prompt = SystemMessagePromptTemplate.from_template(template)\n",
        "human_template=\"{text}\"\n",
        "human_message_prompt = HumanMessagePromptTemplate.from_template(human_template)"
      ],
      "metadata": {
        "id": "7socr586NLI0"
      },
      "execution_count": null,
      "outputs": []
    },
    {
      "cell_type": "code",
      "source": [
        "chat_prompt = ChatPromptTemplate.from_messages([system_message_prompt, human_message_prompt])\n",
        "\n",
        "\n",
        "chatchain = LLMChain(llm=chat, prompt=chat_prompt)\n",
        "chatchain.run(input_language=\"English\", output_language=\"Korean\", text=\"Thanks god TGIF!\")\n"
      ],
      "metadata": {
        "id": "87Vh0168tFb8"
      },
      "execution_count": null,
      "outputs": []
    },
    {
      "cell_type": "code",
      "source": [],
      "metadata": {
        "id": "Sqb1pbysNyvd"
      },
      "execution_count": null,
      "outputs": []
    },
    {
      "cell_type": "code",
      "source": [
        "#@title 3. Agents and Tools\n",
        "\n",
        "from langchain.agents import load_tools\n",
        "from langchain.agents import initialize_agent\n",
        "from langchain.agents import AgentType"
      ],
      "metadata": {
        "id": "v9z9u6ERwVGE"
      },
      "execution_count": null,
      "outputs": []
    },
    {
      "cell_type": "markdown",
      "source": [
        "* Tool: 특정 일을 하는 역할. 예) 구글 검색, 디비 조회, Python 실행/계산.\n",
        "* Agents: 어떤 툴을 어떤 순서로 실행할지 결정하는 역할 (LLM 이용)"
      ],
      "metadata": {
        "id": "9r_UgowVFwQa"
      }
    },
    {
      "cell_type": "code",
      "source": [
        "tools = load_tools([\"serpapi\", \"llm-math\"], llm=chat)\n",
        "# tools = load_tools([\"wikipedia\", \"llm-math\"], llm=chat)\n",
        "\n",
        "agent = initialize_agent(tools, llm=chat, agent=AgentType.ZERO_SHOT_REACT_DESCRIPTION, verbose=True)"
      ],
      "metadata": {
        "id": "gbj7YaXowZ9e"
      },
      "execution_count": null,
      "outputs": []
    },
    {
      "cell_type": "code",
      "source": [
        "agent.run(\"한국의 'New Jeans' 그룹 멤버의 인원 수는? 오늘 2023년 11월 17일 현재 전체 멤버들의 나이의 합은?\") # 한국의 'New Jeans' 그룹 멤버의 인원 수는? 오늘 2023년 5월 30일 현재 전체 멤버들의 나이의 합은 얼마인가요"
      ],
      "metadata": {
        "id": "7yigbo32wgU9"
      },
      "execution_count": null,
      "outputs": []
    },
    {
      "cell_type": "code",
      "source": [
        "len(agent.tools)"
      ],
      "metadata": {
        "id": "86K5GdsxXlBk"
      },
      "execution_count": null,
      "outputs": []
    },
    {
      "cell_type": "code",
      "source": [
        "print(agent.tools[0].description)\n",
        "print(agent.tools[1].description)"
      ],
      "metadata": {
        "id": "kSocSoYXXPD4"
      },
      "execution_count": null,
      "outputs": []
    },
    {
      "cell_type": "code",
      "source": [
        "#@title 4. Memory\n",
        "from langchain import ConversationChain\n",
        "\n",
        "conversation = ConversationChain(llm=chat, verbose=True)\n",
        "conversation.predict(input=\"인공지능에서 Transformer가 뭐야?\")"
      ],
      "metadata": {
        "id": "EtyIuMxgwxVu"
      },
      "execution_count": null,
      "outputs": []
    },
    {
      "cell_type": "code",
      "source": [
        "conversation.predict(input=\"RNN하고 차이 설명해줘.\")"
      ],
      "metadata": {
        "id": "gnLZBRh7xRti"
      },
      "execution_count": null,
      "outputs": []
    },
    {
      "cell_type": "code",
      "source": [
        "conversation.predict(input=\"Seq2Seq 와도 차이점을 비교해줘.\")"
      ],
      "metadata": {
        "id": "r_Dmp2GGV-VB"
      },
      "execution_count": null,
      "outputs": []
    },
    {
      "cell_type": "code",
      "source": [
        "conversation.memory"
      ],
      "metadata": {
        "id": "2gqYHOycxYD4"
      },
      "execution_count": null,
      "outputs": []
    },
    {
      "cell_type": "markdown",
      "source": [
        "* ConversationBufferMemory : 대화 기록(기본)\n",
        "* ConversationBufferWindowMemory : 마지막 n개의 대화만 기억\n",
        "* Entity Memory : 개체에 대한 정보를 저장\n",
        "* Conversation Knowledge Graph Memory: 개체의 triple 저장: (sam, 좋아하는 색, 파랑)\n",
        "* ConversationSummaryMemory : 대화의 요약본을 저장\n",
        "* ConversationSummaryBufferMemory : 대화 요약본 + 마지막 n토큰 기억\n",
        "* ConversationTokenBufferMemory : 마지막 n토큰 기억\n",
        "* VectorStore-Backed Memory : 벡터DB에 정보 저장"
      ],
      "metadata": {
        "id": "hje--LpkIT-y"
      }
    },
    {
      "cell_type": "code",
      "source": [
        "#@title 5. Document Loaders\n",
        "from langchain.document_loaders import WebBaseLoader\n",
        "\n",
        "loader = WebBaseLoader(web_path=\"https://ko.wikipedia.org/wiki/NewJeans\")\n",
        "\n",
        "documents = loader.load()"
      ],
      "metadata": {
        "id": "t8O5mJppxioA"
      },
      "execution_count": null,
      "outputs": []
    },
    {
      "cell_type": "code",
      "source": [
        "from langchain.text_splitter import CharacterTextSplitter\n",
        "text_splitter = CharacterTextSplitter(chunk_size=1000, chunk_overlap=0)\n",
        "docs = text_splitter.split_documents(documents)\n",
        "len(docs)\n",
        "\n",
        "# 4096 token = 3000 English word"
      ],
      "metadata": {
        "id": "YaZaMHGk068I"
      },
      "execution_count": null,
      "outputs": []
    },
    {
      "cell_type": "code",
      "source": [
        "print(docs[-1].page_content)"
      ],
      "metadata": {
        "id": "J-PtGql21Tcu"
      },
      "execution_count": null,
      "outputs": []
    },
    {
      "cell_type": "markdown",
      "source": [
        "---\n",
        "* Web Page\n",
        "* PDF\n",
        "* Email\n",
        "* Twitter\n",
        "* DataFrame (pandas)\n",
        "* YouTube\n",
        "* Notion\n",
        "* Google Drive\n",
        "* Powerpoint, Word,\n",
        "* ...\n",
        "---"
      ],
      "metadata": {
        "id": "4BV_oVXgczmx"
      }
    },
    {
      "cell_type": "code",
      "source": [
        "#@title 6. Summarization\n",
        "from langchain.chains.summarize import load_summarize_chain\n",
        "chain = load_summarize_chain(chat, chain_type=\"map_reduce\", verbose=True)\n",
        "chain.run(docs[:-1])\n"
      ],
      "metadata": {
        "id": "Zw0nJwZ95nHc"
      },
      "execution_count": null,
      "outputs": []
    },
    {
      "cell_type": "markdown",
      "source": [
        "* \"stuff\": LLM 한번에 다 보냄. 길면 오류남\n",
        "* \"map_reduce\": 나눠서 요약, 전체 요약본 다시 요약\n",
        "* \"refine\": (요약 + 다음 문서) => 요약\n",
        "* \"map_rerank\": 점수매겨서 중요한거로 요약"
      ],
      "metadata": {
        "id": "5esXqkOiOMt3"
      }
    },
    {
      "cell_type": "code",
      "source": [
        "#@title 7. Embeddings and VectorStore\n",
        "from langchain.embeddings import HuggingFaceEmbeddings\n",
        "from langchain.embeddings import OpenAIEmbeddings\n",
        "\n",
        "# embeddings = OpenAIEmbeddings()\n",
        "embeddings = HuggingFaceEmbeddings()\n",
        "\n",
        "from langchain.indexes import VectorstoreIndexCreator\n",
        "from langchain.vectorstores import FAISS\n",
        "\n",
        "# from langchain.text_splitter import RecursiveCharacterTextSplitter\n",
        "# text_splitter = RecursiveCharacterTextSplitter(chunk_size=1000, chunk_overlap=0)\n",
        "\n",
        "index = VectorstoreIndexCreator(\n",
        "    vectorstore_cls=FAISS,\n",
        "    embedding=embeddings,\n",
        "    # text_splitter=text_splitter,\n",
        "    ).from_loaders([loader])\n",
        "\n",
        "# 파일로 저장\n",
        "index.vectorstore.save_local(\"faiss-nj\")"
      ],
      "metadata": {
        "id": "eWJ_mQeH1UiX"
      },
      "execution_count": null,
      "outputs": []
    },
    {
      "cell_type": "markdown",
      "source": [
        "* Embedding : LLM에 input(text)를 넣었을때 나오는 특징 벡터 - Neural Network의 특정 메모리를 읽어서 만들고, 보통 512개 이상의 float로 만들어짐.\n",
        "* 의미상 비슷한 input이 들어갔을때, 나오는 특징 벡터가 유사한 특징을 갖고, 거리상 가깝다.\n",
        "* OpenAI에서 text를 넣으면 Embedding을 돌려주는 API를 제공한다. (다만 비용 발생)\n",
        "* 로컬에서 유사한 알고리즘을 돌릴수 있다. (다만 똑같은 벡터는 아니고, openAI 임베딩과는 비교할수 없다)\n",
        "* HuggingFaceEmbeddings 사용하면 로컬에서 돌릴수 있고, GPU 있다면 가속도 지원함.\n",
        "* Vector Database는 Embedding 벡터와 텍스트를 저장하는 DB\n",
        "  * Pinecone 서비스 (유료, 무료 제한적)\n",
        "  * FAISS (페이스북, 오픈소스, 로컬)\n",
        "  * Embeddings -> 텍스트를 저장\n",
        "  * Embeddings로 검색할수 있으며, 거리상 가장 가까운 항목을 가져올수 있음. (거리를 구하는 방법은 여러가지)\n",
        "  * 유사한 의미를 갖는 텍스트에 대한 Embedding 벡터는 거리상 가깝다."
      ],
      "metadata": {
        "id": "5HKEfHRnP-zK"
      }
    },
    {
      "cell_type": "code",
      "source": [
        "index.query(\"뉴진스의 데뷔곡은?\", llm=chat, verbose=True)"
      ],
      "metadata": {
        "id": "Mdu-vJAJ3QzS"
      },
      "execution_count": null,
      "outputs": []
    },
    {
      "cell_type": "code",
      "source": [
        "index.query(\"뉴진스의 데뷔 멤버는?\", llm=chat, verbose=True)"
      ],
      "metadata": {
        "id": "re-GBQWg3zLf"
      },
      "execution_count": null,
      "outputs": []
    },
    {
      "cell_type": "code",
      "source": [
        "index.query(\"멤버의 나이는?\", llm=chat, verbose=True)"
      ],
      "metadata": {
        "id": "wp4PL4NM4Vu4"
      },
      "execution_count": null,
      "outputs": []
    },
    {
      "cell_type": "code",
      "source": [
        "index.query(\"멤버의 나이는? (오늘은 2023년 11월 18일)\", llm=chat, verbose=True)"
      ],
      "metadata": {
        "id": "7wQbSBzr4cGI"
      },
      "execution_count": null,
      "outputs": []
    },
    {
      "cell_type": "code",
      "source": [
        "#@title FAISS 벡터DB 디스크에서 불러오기\n",
        "from langchain.indexes.vectorstore import VectorStoreIndexWrapper\n",
        "\n",
        "fdb = FAISS.load_local(\"faiss-nj\", embeddings)\n",
        "index2 = VectorStoreIndexWrapper(vectorstore=fdb)"
      ],
      "metadata": {
        "id": "fg0Wr3UD4qW2"
      },
      "execution_count": null,
      "outputs": []
    },
    {
      "cell_type": "code",
      "source": [
        "index2.query(\"뉴진스의 데뷔 멤버는?\", llm=chat, verbose=True)"
      ],
      "metadata": {
        "id": "rJ6uUMETOeco"
      },
      "execution_count": null,
      "outputs": []
    },
    {
      "cell_type": "code",
      "source": [],
      "metadata": {
        "id": "3ZI7CR03RgOb"
      },
      "execution_count": null,
      "outputs": []
    }
  ]
}