{
  "nbformat": 4,
  "nbformat_minor": 0,
  "metadata": {
    "colab": {
      "provenance": [],
      "include_colab_link": true
    },
    "kernelspec": {
      "name": "python3",
      "display_name": "Python 3"
    },
    "language_info": {
      "name": "python"
    }
  },
  "cells": [
    {
      "cell_type": "markdown",
      "metadata": {
        "id": "view-in-github",
        "colab_type": "text"
      },
      "source": [
        "<a href=\"https://colab.research.google.com/github/JSJeong-me/GPT-Web/blob/main/142-Langchain_Exercise.ipynb\" target=\"_parent\"><img src=\"https://colab.research.google.com/assets/colab-badge.svg\" alt=\"Open In Colab\"/></a>"
      ]
    },
    {
      "cell_type": "markdown",
      "source": [
        "## 환경설정\n",
        "a) 필요한 라이브러리 설치하기\n",
        "- langchain과 openai 패키지를 설치합니다"
      ],
      "metadata": {
        "id": "zkuAzT3-WZRv"
      }
    },
    {
      "cell_type": "code",
      "execution_count": null,
      "metadata": {
        "id": "JLwy2CFyHLiR"
      },
      "outputs": [],
      "source": [
        "!pip install langchain\n",
        "!pip install openai"
      ]
    },
    {
      "cell_type": "markdown",
      "source": [
        "b) OpenAI API 키 설정하기\n",
        "- export를 통해 환경변수를 설정하거나\n",
        "- 파라미터로 openai_api_key를 전달할 수 있음"
      ],
      "metadata": {
        "id": "z7AggsexWj9A"
      }
    },
    {
      "cell_type": "code",
      "source": [
        "!export OPENAI_API_KEY=\"YOUR-API-KEY\"\n",
        "\n",
        "\n",
        "from langchain.llms import OpenAI\n",
        "\n",
        "api_key = \"YOUR-API-KEY\"\n",
        "llm = OpenAI(openai_api_key = api_key)"
      ],
      "metadata": {
        "id": "iubYeRFQHdDI"
      },
      "execution_count": null,
      "outputs": []
    },
    {
      "cell_type": "markdown",
      "source": [
        "## 1) LLM 호출하기"
      ],
      "metadata": {
        "id": "qCzp7Ix4W26e"
      }
    },
    {
      "cell_type": "markdown",
      "source": [
        "a) ChatOpenAI (ChatGPT) 호출하기"
      ],
      "metadata": {
        "id": "d4xNRve8XA-C"
      }
    },
    {
      "cell_type": "code",
      "source": [
        "from langchain.llms import OpenAI\n",
        "from langchain.chat_models import ChatOpenAI\n",
        "\n",
        "chat_model = ChatOpenAI(openai_api_key=api_key)\n",
        "chat_model.predict(\"잠이 안 올 때는 어떻게 하면 좋을지 대답해줘\")"
      ],
      "metadata": {
        "colab": {
          "base_uri": "https://localhost:8080/",
          "height": 346
        },
        "id": "ErhRuEm5IGGg",
        "outputId": "b533f481-349b-4240-ecef-e32842152f7f"
      },
      "execution_count": null,
      "outputs": [
        {
          "output_type": "execute_result",
          "data": {
            "text/plain": [
              "'잠이 안 올 때는 다음의 방법들을 시도해 볼 수 있습니다:\\n\\n1. 수면 환경 조성: 어둡고 조용하며 편안한 공간에서 잠을 잘 수 있도록 환경을 조성해보세요. 잠을 잘 수 있는 매트리스와 베개를 사용하고, 방을 시원하게 유지하는 것도 도움이 될 수 있습니다.\\n\\n2. 스트레스 관리: 스트레스는 잠을 방해하는 주요 요인 중 하나입니다. 스트레스 관리 기술을 사용하여 긴장을 풀고 마음을 안정시키는 것이 중요합니다. 심호흡, 명상, 요가, 규칙적인 운동 등을 통해 스트레스를 줄일 수 있습니다.\\n\\n3. 규칙적인 수면 패턴 유지: 규칙적인 수면 패턴을 유지하는 것이 중요합니다. 매일 같은 시간에 잠들고 일어나는 습관을 만들어보세요. 이를 통해 몸이 자연스럽게 수면을 필요로 하는 시간에 잠이 오도록 도와줄 수 있습니다.\\n\\n4. 카페인 섭취 제한: 카페인은 수면을 방해할 수 있는 자극제입니다. 잠이 오지 않을 때는 커피, 차, 초콜릿 등 카페인이 들어있는 음료나 음식의 섭취를 제한해보세요.\\n\\n5. 수면 전 루틴: 수면 전에 침실에서 진행하는 편안한 활동을 도입해보세요. 온수 목욕, 책 읽기, 음악 감상 등 수면을 위한 편안한 루틴을 만들어 두면 잠이 오는 데 도움이 될 수 있습니다.\\n\\n6. 수면 음식과 음료: 일부 음식과 음료는 수면을 도와줄 수 있습니다. 예를 들어, 따뜻한 우유, 차, 카모마일 티 등은 수면을 촉진할 수 있는 성분이 있을 수 있으니 시도해보세요.\\n\\n7. 활동 제한: 수면 전에 강도 높은 운동이나 활동적인 활동을 자제하는 것이 좋습니다. 몸을 편안하게 만들고 긴장을 푸는 것이 수면을 촉진하는 데 도움이 될 수 있습니다.\\n\\n8. 전자기기 사용 제한: 수면 전에 전자기기 사용을 제한하는 것이 좋습니다. 스마트폰, 태블릿, 컴퓨터 등의 블루 라이트는 수면을 방해할 수 있으므로 수면 1시간 전에는 사용을 자제해보세요.\\n\\n이러한 방법들을 조합하여 잠을 잘 수 있도록 노력해보세요. 하지만 만약 잠이 오지 않고 지속적으로 수면 문제가 발생한다면, 전문가의 도움을 받는 것도 좋은 선택일 수 있습니다.'"
            ],
            "application/vnd.google.colaboratory.intrinsic+json": {
              "type": "string"
            }
          },
          "metadata": {},
          "execution_count": 5
        }
      ]
    },
    {
      "cell_type": "markdown",
      "source": [
        "b) Message 객체를 활용하여 ChatGPT 호출하기"
      ],
      "metadata": {
        "id": "ZEQGZGZxXNRO"
      }
    },
    {
      "cell_type": "code",
      "source": [
        "from langchain.schema import HumanMessage\n",
        "\n",
        "text = \"잠이 안 올 때는 어떻게 하면 좋을지 대답해줘\"\n",
        "messages = [HumanMessage(content=text)]\n",
        "chat_model.predict_messages(messages, temperature = 0.1)"
      ],
      "metadata": {
        "colab": {
          "base_uri": "https://localhost:8080/"
        },
        "id": "fTLjJ3Uoa2Sm",
        "outputId": "ff05064a-4998-4f3d-ad27-33a2731b367d"
      },
      "execution_count": null,
      "outputs": [
        {
          "output_type": "execute_result",
          "data": {
            "text/plain": [
              "AIMessage(content='잠이 안 올 때는 다음과 같은 방법을 시도해 볼 수 있습니다:\\n\\n1. 규칙적인 수면 패턴 유지: 매일 같은 시간에 일어나고, 같은 시간에 잠들도록 노력해보세요. 이렇게 하면 몸이 자연스럽게 수면 시간에 맞춰 조절되어 잠이 올 확률이 높아집니다.\\n\\n2. 편안한 환경 조성: 조용하고 어두운 방에서 잠을 자도록 하세요. 잠자리는 편안하고 청결한 상태여야 합니다. 또한, 온도와 습도를 조절하여 편안한 환경을 만들어 주세요.\\n\\n3. 스트레스 관리: 스트레스는 잠을 방해하는 주요 요인 중 하나입니다. 스트레스를 관리하기 위해 심호흡, 명상, 요가 등의 휴식 기법을 시도해보세요. 또한, 스트레스를 유발하는 요인을 최소화하고 긍정적인 생각을 유지하는 것도 중요합니다.\\n\\n4. 활동과 운동: 일상적인 활동과 운동은 잠을 도와줄 수 있습니다. 하루에 적절한 운동을 하여 체력을 소모하고, 스트레스를 해소할 수 있도록 노력해보세요. 다만, 운동은 수면 직전에 하지 않도록 주의해야 합니다.\\n\\n5. 수면 전 루틴: 잠이 오기 전에 수면 전 루틴을 만들어보세요. 예를 들어, 책을 읽거나 차를 마시는 등의 행동을 수면 전에 꾸준히 반복하면서 몸과 마음을 수면 상태로 조절할 수 있습니다.\\n\\n6. 음식과 음료 섭취: 수면에 영향을 줄 수 있는 음식과 음료를 피하거나 제한해보세요. 카페인이나 알코올은 수면을 방해할 수 있으므로, 수면 전 몇 시간 동안은 섭취를 자제하는 것이 좋습니다.\\n\\n7. 전자기기 사용 제한: 수면 전에는 전자기기 사용을 최소화하거나 사용을 중단하는 것이 좋습니다. 블루라이트는 수면 호르몬인 멜라토닌 분비를 방해할 수 있으므로, 수면 1시간 전부터는 전자기기 사용을 자제하는 것이 좋습니다.\\n\\n8. 수면 보조제 사용: 위의 방법들이 효과가 없을 경우, 의사와 상담하여 수면 보조제를 사용해볼 수도 있습니다. 하지만, 의사의 지시에 따라 사용하고, 오용하지 않도록 주의해야 합니다.\\n\\n잠이 오지 않을 때는 자신에게 맞는 방법을 찾아 시도해보세요. 만약 지속적인 수면 문제가 있다면 의사와 상담하여 전문적인 도움을 받는 것이 좋습니다.', additional_kwargs={}, example=False)"
            ]
          },
          "metadata": {},
          "execution_count": 6
        }
      ]
    },
    {
      "cell_type": "markdown",
      "source": [
        "## 2) Prompt Template 작성하기"
      ],
      "metadata": {
        "id": "R2a9X9dlXVLH"
      }
    },
    {
      "cell_type": "markdown",
      "source": [
        "a) 기본 formatting 활용하기"
      ],
      "metadata": {
        "id": "fFEgfV3CY_IO"
      }
    },
    {
      "cell_type": "code",
      "source": [
        "from langchain.prompts import PromptTemplate\n",
        "\n",
        "my_template = \"\"\"아래의 질문에 대해 한 줄로 간결하고 친절하게 답변하세요.\n",
        "질문: {question}\"\"\"\n",
        "\n",
        "prompt = PromptTemplate.from_template(my_template)\n",
        "prompt.format(question=\"잠이 안 올 때는 어떻게 하면 좋을지 대답해줘\")\n",
        "\n",
        "chat_model.predict(prompt.format(question=\"잠이 안 올 때는 어떻게 하면 좋을지 대답해줘\"))"
      ],
      "metadata": {
        "colab": {
          "base_uri": "https://localhost:8080/",
          "height": 54
        },
        "id": "HL8MiOXtdr4j",
        "outputId": "d0de9845-68c3-4598-8b70-98380424c88a"
      },
      "execution_count": null,
      "outputs": [
        {
          "output_type": "execute_result",
          "data": {
            "text/plain": [
              "'잠이 안 올 때는 휴대폰이나 컴퓨터를 사용하지 않고, 편안한 환경에서 명상이나 음악 감상 등을 해보세요.'"
            ],
            "application/vnd.google.colaboratory.intrinsic+json": {
              "type": "string"
            }
          },
          "metadata": {},
          "execution_count": 10
        }
      ]
    },
    {
      "cell_type": "markdown",
      "source": [
        "b) ChatMessageTemplate 활용하기"
      ],
      "metadata": {
        "id": "bfT6X_0WZBVq"
      }
    },
    {
      "cell_type": "code",
      "source": [
        "from langchain.prompts.chat import (\n",
        "    ChatPromptTemplate,\n",
        "    SystemMessagePromptTemplate,\n",
        "    HumanMessagePromptTemplate,\n",
        ")\n",
        "\n",
        "#시스템 역할 지정하기\n",
        "template = \"\"\"\n",
        "You are a helpful assistant to help teenagers learn {output_language}.\n",
        "Answer the question in <{output_language}> within 1~2 sentences.\n",
        "YOU MUST USE <{output_language}> TO ANSWER THE QUESTION.\n",
        "Question:\"\"\"\n",
        "\n",
        "system_message_prompt = SystemMessagePromptTemplate.from_template(template)\n",
        "human_template = \"{text}\"\n",
        "human_message_prompt = HumanMessagePromptTemplate.from_template(human_template)\n",
        "\n",
        "chat_prompt = ChatPromptTemplate.from_messages([system_message_prompt, human_message_prompt])\n",
        "\n",
        "chat_prompt.format_messages(output_language=\"English\",\n",
        "                            text=\"잠이 안 올 때는 어떻게 하면 좋을지 대답해줘\")"
      ],
      "metadata": {
        "colab": {
          "base_uri": "https://localhost:8080/"
        },
        "id": "FH9qUNqHZE9n",
        "outputId": "185b273c-9ad6-44bf-d5b1-cea175e2989a"
      },
      "execution_count": null,
      "outputs": [
        {
          "output_type": "execute_result",
          "data": {
            "text/plain": [
              "[SystemMessage(content='\\nYou are a helpful assistant to help teenagers learn English.\\nAnswer the question in <English> within 1~2 sentences.\\nYOU MUST USE <English> TO ANSWER THE QUESTION.\\nQuestion:', additional_kwargs={}),\n",
              " HumanMessage(content='잠이 안 올 때는 어떻게 하면 좋을지 대답해줘', additional_kwargs={}, example=False)]"
            ]
          },
          "metadata": {},
          "execution_count": 35
        }
      ]
    },
    {
      "cell_type": "code",
      "source": [
        "query = chat_prompt.format_messages(input_language=\"한국어\",\n",
        "                            output_language=\"영어\",\n",
        "                            text=\"잠이 안 올 때는 어떻게 하면 좋을지 대답해줘\")\n",
        "\n",
        "chat_model.predict_messages(query)"
      ],
      "metadata": {
        "colab": {
          "base_uri": "https://localhost:8080/"
        },
        "id": "jmWDALf1ZO2u",
        "outputId": "4a757a92-06d8-4be4-f176-5b0f69b62bbd"
      },
      "execution_count": null,
      "outputs": [
        {
          "output_type": "execute_result",
          "data": {
            "text/plain": [
              "AIMessage(content=\"When you can't sleep, try deep breathing exercises or listening to calming music to help relax your mind and body.\", additional_kwargs={}, example=False)"
            ]
          },
          "metadata": {},
          "execution_count": 36
        }
      ]
    },
    {
      "cell_type": "code",
      "source": [
        "query = chat_prompt.format_messages(output_language=\"Chinese\",\n",
        "                            text=\"잠이 안 올 때는 어떻게 하면 좋을지 대답해줘\")\n",
        "\n",
        "chat_model.predict_messages(query)"
      ],
      "metadata": {
        "colab": {
          "base_uri": "https://localhost:8080/"
        },
        "id": "jdyKP_YOaqqf",
        "outputId": "2f747b86-992e-4656-c26f-254e231f62bb"
      },
      "execution_count": null,
      "outputs": [
        {
          "output_type": "execute_result",
          "data": {
            "text/plain": [
              "AIMessage(content='可以尝试喝杯温牛奶、放松身心、避免使用电子设备，帮助入睡。', additional_kwargs={}, example=False)"
            ]
          },
          "metadata": {},
          "execution_count": 38
        }
      ]
    },
    {
      "cell_type": "markdown",
      "source": [
        "## 3) OutputParser 활용하기"
      ],
      "metadata": {
        "id": "8LeltbKDeln0"
      }
    },
    {
      "cell_type": "code",
      "source": [
        "from langchain.schema import BaseOutputParser\n",
        "\n",
        "class CommaSeparatedListOutputParser(BaseOutputParser):\n",
        "    \"\"\"LLM 아웃풋에 있는 ','를 분리해서 리턴하는 파서.\"\"\"\n",
        "\n",
        "\n",
        "    def parse(self, text: str):\n",
        "        return text.strip().split(\", \")\n",
        "\n",
        "CommaSeparatedListOutputParser().parse(\"아기, 여우\")"
      ],
      "metadata": {
        "colab": {
          "base_uri": "https://localhost:8080/"
        },
        "id": "aSGTruZ_bUCZ",
        "outputId": "24100a94-5021-4f76-a3ab-3cb51faa32cd"
      },
      "execution_count": null,
      "outputs": [
        {
          "output_type": "execute_result",
          "data": {
            "text/plain": [
              "['아기', '여우']"
            ]
          },
          "metadata": {},
          "execution_count": 39
        }
      ]
    },
    {
      "cell_type": "markdown",
      "source": [
        "## 4) LLMChain으로 조합하기\n",
        "All-In-One !!!!\n",
        "\n"
      ],
      "metadata": {
        "id": "OanOEvqGcUFJ"
      }
    },
    {
      "cell_type": "code",
      "source": [
        "from langchain.chat_models import ChatOpenAI\n",
        "from langchain.prompts.chat import (\n",
        "    ChatPromptTemplate,\n",
        "    SystemMessagePromptTemplate,\n",
        "    HumanMessagePromptTemplate,\n",
        ")\n",
        "from langchain.chains import LLMChain\n",
        "from langchain.schema import BaseOutputParser\n",
        "\n",
        "class CommaSeparatedListOutputParser(BaseOutputParser):\n",
        "    \"\"\"LLM 아웃풋에 있는 ','를 분리해서 리턴하는 파서.\"\"\"\n",
        "\n",
        "\n",
        "    def parse(self, text: str):\n",
        "        return text.strip().split(\", \")\n",
        "\n",
        "template = \"\"\"\n",
        "너는 5세 아이의 낱말놀이를 도와주는 AI야.\n",
        "아이가 어떤 카테고리에 해당하는 개체들을 말해달라고 <질문>을 하면\n",
        "해당 카테고리에 해당하는 단어들을 5개 나열해야 해.\n",
        "이때 각 단어는 반드시 comma(,)로 분리해서 대답해주고, 이외의 말은 하지 마.\n",
        "\n",
        "질문:\"\"\"\n",
        "system_message_prompt = SystemMessagePromptTemplate.from_template(template)\n",
        "human_template = \"{text}\"\n",
        "human_message_prompt = HumanMessagePromptTemplate.from_template(human_template)\n",
        "\n",
        "chat_prompt = ChatPromptTemplate.from_messages([system_message_prompt, human_message_prompt])\n",
        "\n",
        "chain = LLMChain(\n",
        "    llm=ChatOpenAI(openai_api_key = api_key),\n",
        "    prompt=chat_prompt,\n",
        "    output_parser=CommaSeparatedListOutputParser()\n",
        ")\n",
        "chain.run(\"동물에 대해 공부하고 싶어\")"
      ],
      "metadata": {
        "colab": {
          "base_uri": "https://localhost:8080/"
        },
        "id": "ykSTgvHsedI0",
        "outputId": "7053bb27-b832-45e3-8af2-d597abbee00c"
      },
      "execution_count": null,
      "outputs": [
        {
          "output_type": "execute_result",
          "data": {
            "text/plain": [
              "['강아지', '고양이', '사자', '코끼리', '원숭이']"
            ]
          },
          "metadata": {},
          "execution_count": 42
        }
      ]
    },
    {
      "cell_type": "markdown",
      "source": [
        "끝 👏👏👏"
      ],
      "metadata": {
        "id": "LpIpIkzZhIwa"
      }
    }
  ]
}