{
  "nbformat": 4,
  "nbformat_minor": 0,
  "metadata": {
    "colab": {
      "provenance": [],
      "gpuType": "T4",
      "authorship_tag": "ABX9TyOioHbv/XITlqVQoFy+HjGm",
      "include_colab_link": true
    },
    "kernelspec": {
      "name": "python3",
      "display_name": "Python 3"
    },
    "language_info": {
      "name": "python"
    },
    "accelerator": "GPU"
  },
  "cells": [
    {
      "cell_type": "markdown",
      "metadata": {
        "id": "view-in-github",
        "colab_type": "text"
      },
      "source": [
        "<a href=\"https://colab.research.google.com/github/JSJeong-me/GPT-Web/blob/main/000-Prompts.ipynb\" target=\"_parent\"><img src=\"https://colab.research.google.com/assets/colab-badge.svg\" alt=\"Open In Colab\"/></a>"
      ]
    },
    {
      "cell_type": "code",
      "source": [
        "!pip install openai"
      ],
      "metadata": {
        "id": "M4Yp9Ni16Fq2",
        "outputId": "5e2f769a-bf1c-4d7c-e55b-794e9c123e82",
        "colab": {
          "base_uri": "https://localhost:8080/"
        }
      },
      "execution_count": 1,
      "outputs": [
        {
          "output_type": "stream",
          "name": "stdout",
          "text": [
            "Requirement already satisfied: openai in /usr/local/lib/python3.11/dist-packages (1.93.0)\n",
            "Requirement already satisfied: anyio<5,>=3.5.0 in /usr/local/lib/python3.11/dist-packages (from openai) (4.9.0)\n",
            "Requirement already satisfied: distro<2,>=1.7.0 in /usr/local/lib/python3.11/dist-packages (from openai) (1.9.0)\n",
            "Requirement already satisfied: httpx<1,>=0.23.0 in /usr/local/lib/python3.11/dist-packages (from openai) (0.28.1)\n",
            "Requirement already satisfied: jiter<1,>=0.4.0 in /usr/local/lib/python3.11/dist-packages (from openai) (0.10.0)\n",
            "Requirement already satisfied: pydantic<3,>=1.9.0 in /usr/local/lib/python3.11/dist-packages (from openai) (2.11.7)\n",
            "Requirement already satisfied: sniffio in /usr/local/lib/python3.11/dist-packages (from openai) (1.3.1)\n",
            "Requirement already satisfied: tqdm>4 in /usr/local/lib/python3.11/dist-packages (from openai) (4.67.1)\n",
            "Requirement already satisfied: typing-extensions<5,>=4.11 in /usr/local/lib/python3.11/dist-packages (from openai) (4.14.0)\n",
            "Requirement already satisfied: idna>=2.8 in /usr/local/lib/python3.11/dist-packages (from anyio<5,>=3.5.0->openai) (3.10)\n",
            "Requirement already satisfied: certifi in /usr/local/lib/python3.11/dist-packages (from httpx<1,>=0.23.0->openai) (2025.6.15)\n",
            "Requirement already satisfied: httpcore==1.* in /usr/local/lib/python3.11/dist-packages (from httpx<1,>=0.23.0->openai) (1.0.9)\n",
            "Requirement already satisfied: h11>=0.16 in /usr/local/lib/python3.11/dist-packages (from httpcore==1.*->httpx<1,>=0.23.0->openai) (0.16.0)\n",
            "Requirement already satisfied: annotated-types>=0.6.0 in /usr/local/lib/python3.11/dist-packages (from pydantic<3,>=1.9.0->openai) (0.7.0)\n",
            "Requirement already satisfied: pydantic-core==2.33.2 in /usr/local/lib/python3.11/dist-packages (from pydantic<3,>=1.9.0->openai) (2.33.2)\n",
            "Requirement already satisfied: typing-inspection>=0.4.0 in /usr/local/lib/python3.11/dist-packages (from pydantic<3,>=1.9.0->openai) (0.4.1)\n"
          ]
        }
      ]
    },
    {
      "cell_type": "code",
      "source": [
        "from google.colab import userdata\n",
        "import openai\n",
        "import os\n",
        "\n",
        "os.environ[\"OPENAI_API_KEY\"] = userdata.get('OPENAI_API_KEY')\n",
        "openai.api_key  = os.environ[\"OPENAI_API_KEY\"]"
      ],
      "metadata": {
        "id": "7nVfC0F_UJKL"
      },
      "execution_count": 2,
      "outputs": []
    },
    {
      "cell_type": "code",
      "source": [
        "client = openai.OpenAI()\n",
        "\n",
        "def get_completion(prompt, model=\"gpt-3.5-turbo\"):\n",
        "    messages = [{\"role\": \"user\", \"content\": prompt}]\n",
        "    response = client.chat.completions.create(\n",
        "        model=model,\n",
        "        messages=messages,\n",
        "        temperature=0\n",
        "    )\n",
        "    return response.choices[0].message.content"
      ],
      "metadata": {
        "id": "WYBh7M-p2kS_"
      },
      "execution_count": 3,
      "outputs": []
    },
    {
      "cell_type": "markdown",
      "source": [
        "## Prompting Principles\n",
        "- **Principle 1: Write clear and specific instructions**\n",
        "\n",
        "\n",
        "### Tactics\n",
        "\n",
        "#### Tactic 1: '입력의 구분을 명확히 하기 위해 구분자를 사용\n",
        "- 구분자: ```, \"\"\", < >, `<tag> </tag>`, `:`"
      ],
      "metadata": {
        "id": "S7BOhYF07KlD"
      }
    },
    {
      "cell_type": "code",
      "source": [
        "text = f\"\"\"\n",
        "모델이 수행해야 할 작업을 명확하고 구체적으로 설명해야 합니다.\n",
        "이는 모델이 원하는 출력으로 안내하고,\n",
        "부적절하거나 잘못된 응답을 받을 가능성을 줄여줍니다.\n",
        "명확한 프롬프트를 작성하는 것과 짧은 프롬프트를 작성하는 것을 혼동하지 마세요.\n",
        "많은 경우에, 긴 프롬프트가 모델에게 더 많은 명확성과 문맥을 제공하여\n",
        "더 상세하고 관련성 높은 출력을 도출할 수 있습니다.\n",
        "\"\"\"\n",
        "prompt = f\"\"\"\n",
        "세 개의' triple backticks''으로 구분된 텍스트를 한 문장으로 요약하세요.\\\n",
        "```{text}```\n",
        "\"\"\"\n",
        "response = get_completion(prompt)\n",
        "print(response)"
      ],
      "metadata": {
        "colab": {
          "base_uri": "https://localhost:8080/"
        },
        "id": "C-bxr-ln6pMZ",
        "outputId": "f19e4514-8bb9-4670-843b-8eacfec2d451"
      },
      "execution_count": 4,
      "outputs": [
        {
          "output_type": "stream",
          "name": "stdout",
          "text": [
            "모델이 수행할 작업을 명확하게 설명하고, 부적절한 응답을 줄이기 위해 구체적인 프롬프트를 사용해야 합니다. 프롬프트의 길이가 모델의 출력에 영향을 미칠 수 있으며, 긴 프롬프트가 더 많은 명확성과 문맥을 제공할 수 있습니다.\n"
          ]
        }
      ]
    },
    {
      "cell_type": "markdown",
      "source": [
        "#### Tactic 2: 구조화된 출력을 요청하세요.\n",
        "- JSON, HTML"
      ],
      "metadata": {
        "id": "YNopftCl8MCe"
      }
    },
    {
      "cell_type": "code",
      "source": [
        "prompt = f\"\"\"\n",
        "세 개의 가상의 책 제목과 저자 및 장르 목록을 생성하세요.\n",
        "다음 키를 사용하여 JSON 형식으로 제공하세요: book_id, title, author, genre.\n",
        "\"\"\"\n",
        "response = get_completion(prompt)\n",
        "print(response)"
      ],
      "metadata": {
        "colab": {
          "base_uri": "https://localhost:8080/"
        },
        "id": "JDIuyo1j8EWJ",
        "outputId": "a775f4d0-1fcd-4b14-a833-9cccba172cdd"
      },
      "execution_count": 5,
      "outputs": [
        {
          "output_type": "stream",
          "name": "stdout",
          "text": [
            "[\n",
            "    {\n",
            "        \"book_id\": 1,\n",
            "        \"title\": \"황금 시대\",\n",
            "        \"author\": \"김영하\",\n",
            "        \"genre\": \"소설\"\n",
            "    },\n",
            "    {\n",
            "        \"book_id\": 2,\n",
            "        \"title\": \"미래의 시작\",\n",
            "        \"author\": \"이지성\",\n",
            "        \"genre\": \"과학\"\n",
            "    },\n",
            "    {\n",
            "        \"book_id\": 3,\n",
            "        \"title\": \"사랑의 노래\",\n",
            "        \"author\": \"박경리\",\n",
            "        \"genre\": \"시\"\n",
            "    }\n",
            "]\n"
          ]
        }
      ]
    },
    {
      "cell_type": "markdown",
      "source": [
        "#### Tactic 3: 조건이 충족되는지 모델에게 확인하도록 요청하세요"
      ],
      "metadata": {
        "id": "E_ql1ML88ucI"
      }
    },
    {
      "cell_type": "code",
      "source": [
        "text_1 = f\"\"\"\n",
        "차 한 잔을 만드는 것은 쉽습니다! 먼저, 물을 끓여야 합니다. \\\n",
        "물이 끓는 동안 컵을 준비하고 티백을 넣습니다. 물이 충분히 뜨거워지면 티백 위에 물을 부어줍니다. \\\n",
        "차가 우러날 수 있도록 잠시 놔둡니다.\\\n",
        "몇 분 후에 티백을 꺼내십시오. 원하시면 설탕이나 우유를 기호에 맞게 추가할 수 있습니다. \\\n",
        "그리고 끝! 맛있는 차 한 잔이 완성되었습니다.\n",
        "\"\"\"\n",
        "prompt = f\"\"\"\n",
        "다음과 같이 세 개의 따옴표로 구분된 텍스트가 제공될 것입니다.\n",
        "만약 그 텍스트에 일련의 지시 사항이 포함되어 있다면,\n",
        "그 지시 사항을 다음 형식으로 다시 작성하세요:\n",
        "\n",
        "Step 1 - ...\n",
        "Step 2 - …\n",
        "…\n",
        "Step N - …\n",
        "\n",
        "텍스트에 명령어 시퀀스가 포함되어 있지 않으면, 단순히 \\\"No steps provided.\\\"라고 작성하세요.\n",
        "\n",
        "\\\"\\\"\\\"{text_1}\\\"\\\"\\\"\n",
        "\"\"\"\n",
        "response = get_completion(prompt)\n",
        "print(\"Completion for Text 1:\")\n",
        "print(response)"
      ],
      "metadata": {
        "colab": {
          "base_uri": "https://localhost:8080/"
        },
        "id": "2Xl7m-VZ8qBK",
        "outputId": "502c7ed9-86fd-407e-a1c0-f5c9a89d93ca"
      },
      "execution_count": 6,
      "outputs": [
        {
          "output_type": "stream",
          "name": "stdout",
          "text": [
            "Completion for Text 1:\n",
            "Step 1 - 물을 끓입니다.\n",
            "Step 2 - 컵을 준비하고 티백을 넣습니다.\n",
            "Step 3 - 물을 티백 위에 부어줍니다.\n",
            "Step 4 - 차가 우러날 수 있도록 잠시 놔둡니다.\n",
            "Step 5 - 티백을 꺼냅니다.\n",
            "Step 6 - 설탕이나 우유를 추가할 수 있습니다.\n",
            "Step 7 - 즐기세요!\n"
          ]
        }
      ]
    },
    {
      "cell_type": "code",
      "source": [
        "text_2 = f\"\"\"\n",
        "오늘은 햇빛이 밝게 빛나고, 새들이 지저귀고 있습니다. \\\n",
        "공원에서 산책하기에 아주 좋은 날입니다. \\\n",
        "꽃들이 피어나고 나무들은 산들바람에 부드럽게 흔들리고 있습니다. \\\n",
        "사람들은 밖에 나와서 멋진 날씨를 즐기고 있습니다. \\\n",
        "어떤 사람들은 소풍을 하고 있고, 다른 사람들은 게임을 하거나 잔디에 앉아 단순히 휴식을 취하고 있습니다. \\\n",
        "야외에서 시간을 보내고 자연의 아름다움을 감상하기에 완벽한 날입니다.\n",
        "\"\"\"\n",
        "prompt = f\"\"\"\n",
        "다음과 같이 세 개의 따옴표로 구분된 텍스트가 제공될 것입니다.\n",
        "만약 그 텍스트에 일련의 지시 사항이 포함되어 있다면,\n",
        "그 지시 사항을 다음 형식으로 다시 작성하세요:\n",
        "\n",
        "Step 1 - ...\n",
        "Step 2 - …\n",
        "…\n",
        "Step N - …\n",
        "\n",
        "텍스트에 명령어 시퀀스가 포함되어 있지 않으면, 단순히 \\\"No steps provided.\\\"라고 작성하세요.\n",
        "\n",
        "\\\"\\\"\\\"{text_2}\\\"\\\"\\\"\n",
        "\"\"\"\n",
        "response = get_completion(prompt)\n",
        "print(\"Completion for Text 1:\")\n",
        "print(response)"
      ],
      "metadata": {
        "colab": {
          "base_uri": "https://localhost:8080/"
        },
        "id": "_yGxHpsZ95wS",
        "outputId": "fb86e251-43dd-4b9c-c01a-4b909e3874ab"
      },
      "execution_count": 7,
      "outputs": [
        {
          "output_type": "stream",
          "name": "stdout",
          "text": [
            "Completion for Text 1:\n",
            "No steps provided.\n"
          ]
        }
      ]
    },
    {
      "cell_type": "markdown",
      "source": [
        "#### Tactic 4: \"Few-shot\" prompting"
      ],
      "metadata": {
        "id": "pVG6-0pn-Y_3"
      }
    },
    {
      "cell_type": "code",
      "source": [
        "prompt = f\"\"\"\n",
        "당신의 임무는 일관된 스타일로 답하는 것입니다.\n",
        "\n",
        "<아이>: 인내심에 대해 가르쳐 주세요.\n",
        "\n",
        "<할아버지>: 가장 깊은 계곡을 만드는 강은 작은 샘에서 흐르며, \\\n",
        "가장 웅장한 교향곡은 하나의 음에서 시작되고, 가장 복잡한 태피스트리는 하나의 실에서 시작된단다.\n",
        "\n",
        "<아이>: 회복력에 대해 가르쳐 주세요.\n",
        "\n",
        "\"\"\"\n",
        "response = get_completion(prompt)\n",
        "print(response)"
      ],
      "metadata": {
        "colab": {
          "base_uri": "https://localhost:8080/"
        },
        "id": "c2MWNsTU-b3h",
        "outputId": "af05aeaf-bf90-44f4-aaa0-0ef6875cc3e3"
      },
      "execution_count": 8,
      "outputs": [
        {
          "output_type": "stream",
          "name": "stdout",
          "text": [
            "<할아버지>: 나무가 바람에 흔들리더라도 뿌리는 굳건히 땅을 붙잡고 있듯이, 어려움에 부딪혀도 포기하지 않고 굳건히 일어서는 것이 회복력이란다.\n"
          ]
        }
      ]
    }
  ]
}