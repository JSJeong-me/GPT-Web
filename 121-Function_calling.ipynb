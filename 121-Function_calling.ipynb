{
  "nbformat": 4,
  "nbformat_minor": 0,
  "metadata": {
    "colab": {
      "provenance": [],
      "gpuType": "T4",
      "authorship_tag": "ABX9TyPhaYSKeuFpaa8KvfOYJ5z0",
      "include_colab_link": true
    },
    "kernelspec": {
      "name": "python3",
      "display_name": "Python 3"
    },
    "language_info": {
      "name": "python"
    },
    "accelerator": "GPU"
  },
  "cells": [
    {
      "cell_type": "markdown",
      "metadata": {
        "id": "view-in-github",
        "colab_type": "text"
      },
      "source": [
        "<a href=\"https://colab.research.google.com/github/JSJeong-me/GPT-Web/blob/main/121-Function_calling.ipynb\" target=\"_parent\"><img src=\"https://colab.research.google.com/assets/colab-badge.svg\" alt=\"Open In Colab\"/></a>"
      ]
    },
    {
      "cell_type": "markdown",
      "source": [
        "### [출처] https://www.youtube.com/watch?v=UkLUSjOneXc"
      ],
      "metadata": {
        "id": "gHTj21uVcmBY"
      }
    },
    {
      "cell_type": "markdown",
      "source": [
        "![image.png](data:image/png;base64,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)"
      ],
      "metadata": {
        "id": "sEMUjdH0b26A"
      }
    },
    {
      "cell_type": "code",
      "source": [
        "!pip install openai\n",
        "!pip install python-dotenv"
      ],
      "metadata": {
        "id": "sh01VxOPba3v",
        "outputId": "e7d6b005-28dd-4623-9361-d8b8969791dc",
        "colab": {
          "base_uri": "https://localhost:8080/"
        }
      },
      "execution_count": 1,
      "outputs": [
        {
          "output_type": "stream",
          "name": "stdout",
          "text": [
            "Collecting openai\n",
            "  Downloading openai-1.3.9-py3-none-any.whl (221 kB)\n",
            "\u001b[2K     \u001b[90m━━━━━━━━━━━━━━━━━━━━━━━━━━━━━━━━━━━━━━━━\u001b[0m \u001b[32m221.4/221.4 kB\u001b[0m \u001b[31m2.1 MB/s\u001b[0m eta \u001b[36m0:00:00\u001b[0m\n",
            "\u001b[?25hRequirement already satisfied: anyio<5,>=3.5.0 in /usr/local/lib/python3.10/dist-packages (from openai) (3.7.1)\n",
            "Requirement already satisfied: distro<2,>=1.7.0 in /usr/lib/python3/dist-packages (from openai) (1.7.0)\n",
            "Collecting httpx<1,>=0.23.0 (from openai)\n",
            "  Downloading httpx-0.25.2-py3-none-any.whl (74 kB)\n",
            "\u001b[2K     \u001b[90m━━━━━━━━━━━━━━━━━━━━━━━━━━━━━━━━━━━━━━━━\u001b[0m \u001b[32m75.0/75.0 kB\u001b[0m \u001b[31m7.4 MB/s\u001b[0m eta \u001b[36m0:00:00\u001b[0m\n",
            "\u001b[?25hRequirement already satisfied: pydantic<3,>=1.9.0 in /usr/local/lib/python3.10/dist-packages (from openai) (1.10.13)\n",
            "Requirement already satisfied: sniffio in /usr/local/lib/python3.10/dist-packages (from openai) (1.3.0)\n",
            "Requirement already satisfied: tqdm>4 in /usr/local/lib/python3.10/dist-packages (from openai) (4.66.1)\n",
            "Requirement already satisfied: typing-extensions<5,>=4.5 in /usr/local/lib/python3.10/dist-packages (from openai) (4.5.0)\n",
            "Requirement already satisfied: idna>=2.8 in /usr/local/lib/python3.10/dist-packages (from anyio<5,>=3.5.0->openai) (3.6)\n",
            "Requirement already satisfied: exceptiongroup in /usr/local/lib/python3.10/dist-packages (from anyio<5,>=3.5.0->openai) (1.2.0)\n",
            "Requirement already satisfied: certifi in /usr/local/lib/python3.10/dist-packages (from httpx<1,>=0.23.0->openai) (2023.11.17)\n",
            "Collecting httpcore==1.* (from httpx<1,>=0.23.0->openai)\n",
            "  Downloading httpcore-1.0.2-py3-none-any.whl (76 kB)\n",
            "\u001b[2K     \u001b[90m━━━━━━━━━━━━━━━━━━━━━━━━━━━━━━━━━━━━━━━━\u001b[0m \u001b[32m76.9/76.9 kB\u001b[0m \u001b[31m1.1 MB/s\u001b[0m eta \u001b[36m0:00:00\u001b[0m\n",
            "\u001b[?25hCollecting h11<0.15,>=0.13 (from httpcore==1.*->httpx<1,>=0.23.0->openai)\n",
            "  Downloading h11-0.14.0-py3-none-any.whl (58 kB)\n",
            "\u001b[2K     \u001b[90m━━━━━━━━━━━━━━━━━━━━━━━━━━━━━━━━━━━━━━━━\u001b[0m \u001b[32m58.3/58.3 kB\u001b[0m \u001b[31m8.0 MB/s\u001b[0m eta \u001b[36m0:00:00\u001b[0m\n",
            "\u001b[?25hInstalling collected packages: h11, httpcore, httpx, openai\n",
            "\u001b[31mERROR: pip's dependency resolver does not currently take into account all the packages that are installed. This behaviour is the source of the following dependency conflicts.\n",
            "llmx 0.0.15a0 requires cohere, which is not installed.\n",
            "llmx 0.0.15a0 requires tiktoken, which is not installed.\u001b[0m\u001b[31m\n",
            "\u001b[0mSuccessfully installed h11-0.14.0 httpcore-1.0.2 httpx-0.25.2 openai-1.3.9\n",
            "Collecting python-dotenv\n",
            "  Downloading python_dotenv-1.0.0-py3-none-any.whl (19 kB)\n",
            "Installing collected packages: python-dotenv\n",
            "Successfully installed python-dotenv-1.0.0\n"
          ]
        }
      ]
    },
    {
      "cell_type": "code",
      "source": [
        "!pip show openai | grep Version"
      ],
      "metadata": {
        "id": "UBijFzKGcBG7",
        "outputId": "88b0b94d-390d-4f0f-9d2d-b63019567e46",
        "colab": {
          "base_uri": "https://localhost:8080/"
        }
      },
      "execution_count": 2,
      "outputs": [
        {
          "output_type": "stream",
          "name": "stdout",
          "text": [
            "Version: 1.3.9\n"
          ]
        }
      ]
    },
    {
      "cell_type": "code",
      "source": [
        "!echo \"OPENAI_API_KEY=sk-\" >> .env"
      ],
      "metadata": {
        "id": "Lw1UXXxCbigP"
      },
      "execution_count": 3,
      "outputs": []
    },
    {
      "cell_type": "code",
      "source": [
        "!source /content/.env"
      ],
      "metadata": {
        "id": "SqeKZxhHbv-O"
      },
      "execution_count": 4,
      "outputs": []
    },
    {
      "cell_type": "code",
      "source": [
        "import os\n",
        "from dotenv import load_dotenv\n",
        "\n",
        "# Load environment variables from .env file\n",
        "load_dotenv()\n",
        "# Access the API key using the variable name defined in the .env file\n",
        "api_key = os.getenv(\"OPENAI_API_KEY\")"
      ],
      "metadata": {
        "id": "Gq2aP0dtchDv"
      },
      "execution_count": 8,
      "outputs": []
    },
    {
      "cell_type": "code",
      "source": [
        "import openai\n",
        "import time\n",
        "import yfinance as yf\n",
        "\n",
        "\n",
        "def get_stock_price(symbol: str) -> float:\n",
        "    stock = yf.Ticker(symbol)\n",
        "    price = stock.history(period=\"1d\")['Close'].iloc[-1]\n",
        "    return price\n"
      ],
      "metadata": {
        "id": "P384sFWMbfO0"
      },
      "execution_count": 5,
      "outputs": []
    },
    {
      "cell_type": "code",
      "source": [
        "tools_list = [{\n",
        "    \"type\": \"function\",\n",
        "    \"function\": {\n",
        "\n",
        "        \"name\": \"get_stock_price\",\n",
        "        \"description\": \"Retrieve the latest closing price of a stock using its ticker symbol\",\n",
        "        \"parameters\": {\n",
        "            \"type\": \"object\",\n",
        "            \"properties\": {\n",
        "                \"symbol\": {\n",
        "                    \"type\": \"string\",\n",
        "                    \"description\": \"The ticker symbol of the stock\"\n",
        "                }\n",
        "            },\n",
        "            \"required\": [\"symbol\"]\n",
        "        }\n",
        "    }\n",
        "}]"
      ],
      "metadata": {
        "id": "P4UPI43acVAs"
      },
      "execution_count": 6,
      "outputs": []
    },
    {
      "cell_type": "code",
      "source": [
        "# Initialize the client\n",
        "client = openai.OpenAI()"
      ],
      "metadata": {
        "id": "GyyyL5zmcX74"
      },
      "execution_count": 9,
      "outputs": []
    },
    {
      "cell_type": "code",
      "source": [
        "# Step 1: Create an Assistant\n",
        "assistant = client.beta.assistants.create(\n",
        "    name=\"Data Analyst Assistant\",\n",
        "    instructions=\"You are a personal Data Analyst Assistant\",\n",
        "    tools=tools_list,\n",
        "    model=\"gpt-4-1106-preview\",\n",
        ")\n"
      ],
      "metadata": {
        "id": "Ac1mufHDclFL"
      },
      "execution_count": 10,
      "outputs": []
    },
    {
      "cell_type": "code",
      "source": [
        "# Step 2: Create a Thread\n",
        "thread = client.beta.threads.create()"
      ],
      "metadata": {
        "id": "Y4OVTfzvcojg"
      },
      "execution_count": 11,
      "outputs": []
    },
    {
      "cell_type": "code",
      "source": [
        "# Step 3: Add a Message to a Thread\n",
        "message = client.beta.threads.messages.create(\n",
        "    thread_id=thread.id,\n",
        "    role=\"user\",\n",
        "    content=\"Can you please provide me stock price of Tesla?\"\n",
        ")"
      ],
      "metadata": {
        "id": "Yd4p4JwbcrZA"
      },
      "execution_count": 15,
      "outputs": []
    },
    {
      "cell_type": "code",
      "execution_count": 16,
      "metadata": {
        "id": "XROvzvSlcJj3",
        "outputId": "fdf816e9-4223-4f4c-bb90-f248bd7fe5a3",
        "colab": {
          "base_uri": "https://localhost:8080/"
        }
      },
      "outputs": [
        {
          "output_type": "stream",
          "name": "stdout",
          "text": [
            "{\n",
            "    \"id\": \"run_QcgaeaBgHNplTQKBBX5z6VWc\",\n",
            "    \"assistant_id\": \"asst_2EwmdnM4hXPubb2gL48WaBR6\",\n",
            "    \"cancelled_at\": null,\n",
            "    \"completed_at\": null,\n",
            "    \"created_at\": 1702576392,\n",
            "    \"expires_at\": 1702576992,\n",
            "    \"failed_at\": null,\n",
            "    \"file_ids\": [],\n",
            "    \"instructions\": \"Please address the user as Stock Bloker\",\n",
            "    \"last_error\": null,\n",
            "    \"metadata\": {},\n",
            "    \"model\": \"gpt-4-1106-preview\",\n",
            "    \"object\": \"thread.run\",\n",
            "    \"required_action\": null,\n",
            "    \"started_at\": null,\n",
            "    \"status\": \"queued\",\n",
            "    \"thread_id\": \"thread_aUuEKJOYDR1a610lMt15YZEQ\",\n",
            "    \"tools\": [\n",
            "        {\n",
            "            \"function\": {\n",
            "                \"name\": \"get_stock_price\",\n",
            "                \"parameters\": {\n",
            "                    \"type\": \"object\",\n",
            "                    \"properties\": {\n",
            "                        \"symbol\": {\n",
            "                            \"type\": \"string\",\n",
            "                            \"description\": \"The ticker symbol of the stock\"\n",
            "                        }\n",
            "                    },\n",
            "                    \"required\": [\n",
            "                        \"symbol\"\n",
            "                    ]\n",
            "                },\n",
            "                \"description\": \"Retrieve the latest closing price of a stock using its ticker symbol\"\n",
            "            },\n",
            "            \"type\": \"function\"\n",
            "        }\n",
            "    ]\n",
            "}\n",
            "{\n",
            "    \"id\": \"run_QcgaeaBgHNplTQKBBX5z6VWc\",\n",
            "    \"assistant_id\": \"asst_2EwmdnM4hXPubb2gL48WaBR6\",\n",
            "    \"cancelled_at\": null,\n",
            "    \"completed_at\": null,\n",
            "    \"created_at\": 1702576392,\n",
            "    \"expires_at\": 1702576992,\n",
            "    \"failed_at\": null,\n",
            "    \"file_ids\": [],\n",
            "    \"instructions\": \"Please address the user as Stock Bloker\",\n",
            "    \"last_error\": null,\n",
            "    \"metadata\": {},\n",
            "    \"model\": \"gpt-4-1106-preview\",\n",
            "    \"object\": \"thread.run\",\n",
            "    \"required_action\": {\n",
            "        \"submit_tool_outputs\": {\n",
            "            \"tool_calls\": [\n",
            "                {\n",
            "                    \"id\": \"call_ES9G0U9FmUNbSAGEozGGjAjO\",\n",
            "                    \"function\": {\n",
            "                        \"arguments\": \"{\\\"symbol\\\":\\\"TSLA\\\"}\",\n",
            "                        \"name\": \"get_stock_price\"\n",
            "                    },\n",
            "                    \"type\": \"function\"\n",
            "                }\n",
            "            ]\n",
            "        },\n",
            "        \"type\": \"submit_tool_outputs\"\n",
            "    },\n",
            "    \"started_at\": 1702576392,\n",
            "    \"status\": \"requires_action\",\n",
            "    \"thread_id\": \"thread_aUuEKJOYDR1a610lMt15YZEQ\",\n",
            "    \"tools\": [\n",
            "        {\n",
            "            \"function\": {\n",
            "                \"name\": \"get_stock_price\",\n",
            "                \"parameters\": {\n",
            "                    \"type\": \"object\",\n",
            "                    \"properties\": {\n",
            "                        \"symbol\": {\n",
            "                            \"type\": \"string\",\n",
            "                            \"description\": \"The ticker symbol of the stock\"\n",
            "                        }\n",
            "                    },\n",
            "                    \"required\": [\n",
            "                        \"symbol\"\n",
            "                    ]\n",
            "                },\n",
            "                \"description\": \"Retrieve the latest closing price of a stock using its ticker symbol\"\n",
            "            },\n",
            "            \"type\": \"function\"\n",
            "        }\n",
            "    ]\n",
            "}\n",
            "Function Calling\n",
            "{'tool_calls': [{'id': 'call_ES9G0U9FmUNbSAGEozGGjAjO', 'function': {'arguments': '{\"symbol\":\"TSLA\"}', 'name': 'get_stock_price'}, 'type': 'function'}]}\n",
            "Submitting outputs back to the Assistant...\n",
            "{\n",
            "    \"id\": \"run_QcgaeaBgHNplTQKBBX5z6VWc\",\n",
            "    \"assistant_id\": \"asst_2EwmdnM4hXPubb2gL48WaBR6\",\n",
            "    \"cancelled_at\": null,\n",
            "    \"completed_at\": 1702576401,\n",
            "    \"created_at\": 1702576392,\n",
            "    \"expires_at\": null,\n",
            "    \"failed_at\": null,\n",
            "    \"file_ids\": [],\n",
            "    \"instructions\": \"Please address the user as Stock Bloker\",\n",
            "    \"last_error\": null,\n",
            "    \"metadata\": {},\n",
            "    \"model\": \"gpt-4-1106-preview\",\n",
            "    \"object\": \"thread.run\",\n",
            "    \"required_action\": null,\n",
            "    \"started_at\": 1702576398,\n",
            "    \"status\": \"completed\",\n",
            "    \"thread_id\": \"thread_aUuEKJOYDR1a610lMt15YZEQ\",\n",
            "    \"tools\": [\n",
            "        {\n",
            "            \"function\": {\n",
            "                \"name\": \"get_stock_price\",\n",
            "                \"parameters\": {\n",
            "                    \"type\": \"object\",\n",
            "                    \"properties\": {\n",
            "                        \"symbol\": {\n",
            "                            \"type\": \"string\",\n",
            "                            \"description\": \"The ticker symbol of the stock\"\n",
            "                        }\n",
            "                    },\n",
            "                    \"required\": [\n",
            "                        \"symbol\"\n",
            "                    ]\n",
            "                },\n",
            "                \"description\": \"Retrieve the latest closing price of a stock using its ticker symbol\"\n",
            "            },\n",
            "            \"type\": \"function\"\n",
            "        }\n",
            "    ]\n",
            "}\n",
            "Assistant: The latest closing price of Tesla, Inc. (TSLA) stock is $252.46.\n",
            "User: Can you please provide me stock price of Tesla?\n",
            "Assistant: If you need information on more stocks or any other assistance, feel free to ask, Stock Bloker!\n",
            "Assistant: The latest closing price of Apple Inc. (AAPL) stock is $198.46.\n",
            "User: Can you please provide me stock price of Apple?\n"
          ]
        }
      ],
      "source": [
        "# Step 4: Run the Assistant\n",
        "run = client.beta.threads.runs.create(\n",
        "    thread_id=thread.id,\n",
        "    assistant_id=assistant.id,\n",
        "    instructions=\"Please address the user as Stock Bloker\"\n",
        ")\n",
        "\n",
        "print(run.model_dump_json(indent=4))\n",
        "\n",
        "while True:\n",
        "    # Wait for 5 seconds\n",
        "    time.sleep(5)\n",
        "\n",
        "    # Retrieve the run status\n",
        "    run_status = client.beta.threads.runs.retrieve(\n",
        "        thread_id=thread.id,\n",
        "        run_id=run.id\n",
        "    )\n",
        "    print(run_status.model_dump_json(indent=4))\n",
        "\n",
        "    # If run is completed, get messages\n",
        "    if run_status.status == 'completed':\n",
        "        messages = client.beta.threads.messages.list(\n",
        "            thread_id=thread.id\n",
        "        )\n",
        "\n",
        "        # Loop through messages and print content based on role\n",
        "        for msg in messages.data:\n",
        "            role = msg.role\n",
        "            content = msg.content[0].text.value\n",
        "            print(f\"{role.capitalize()}: {content}\")\n",
        "\n",
        "        break\n",
        "    elif run_status.status == 'requires_action':\n",
        "        print(\"Function Calling\")\n",
        "        required_actions = run_status.required_action.submit_tool_outputs.model_dump()\n",
        "        print(required_actions)\n",
        "        tool_outputs = []\n",
        "        import json\n",
        "        for action in required_actions[\"tool_calls\"]:\n",
        "            func_name = action['function']['name']\n",
        "            arguments = json.loads(action['function']['arguments'])\n",
        "\n",
        "            if func_name == \"get_stock_price\":\n",
        "                output = get_stock_price(symbol=arguments['symbol'])\n",
        "                tool_outputs.append({\n",
        "                    \"tool_call_id\": action['id'],\n",
        "                    \"output\": output\n",
        "                })\n",
        "            else:\n",
        "                raise ValueError(f\"Unknown function: {func_name}\")\n",
        "\n",
        "        print(\"Submitting outputs back to the Assistant...\")\n",
        "        client.beta.threads.runs.submit_tool_outputs(\n",
        "            thread_id=thread.id,\n",
        "            run_id=run.id,\n",
        "            tool_outputs=tool_outputs\n",
        "        )\n",
        "    else:\n",
        "        print(\"Waiting for the Assistant to process...\")\n",
        "        time.sleep(5)"
      ]
    }
  ]
}