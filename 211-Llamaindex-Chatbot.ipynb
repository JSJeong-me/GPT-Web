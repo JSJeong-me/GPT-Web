{
  "cells": [
    {
      "cell_type": "markdown",
      "metadata": {
        "id": "view-in-github",
        "colab_type": "text"
      },
      "source": [
        "<a href=\"https://colab.research.google.com/github/JSJeong-me/GPT-Web/blob/main/211-Llamaindex-Chatbot.ipynb\" target=\"_parent\"><img src=\"https://colab.research.google.com/assets/colab-badge.svg\" alt=\"Open In Colab\"/></a>"
      ]
    },
    {
      "cell_type": "code",
      "source": [
        "!pip install openai==0.28"
      ],
      "metadata": {
        "id": "NKPoyHkuwTX4"
      },
      "id": "NKPoyHkuwTX4",
      "execution_count": null,
      "outputs": []
    },
    {
      "cell_type": "code",
      "source": [
        "!pip show openai | grep Version"
      ],
      "metadata": {
        "colab": {
          "base_uri": "https://localhost:8080/"
        },
        "id": "Wo_B38ZSwbtT",
        "outputId": "c106b50a-0710-4948-98ed-4176e7ad9b99"
      },
      "id": "Wo_B38ZSwbtT",
      "execution_count": null,
      "outputs": [
        {
          "output_type": "stream",
          "name": "stdout",
          "text": [
            "Version: 0.28.0\n"
          ]
        }
      ]
    },
    {
      "cell_type": "code",
      "source": [
        "!pip install llama-index"
      ],
      "metadata": {
        "id": "zvZu_DGturyJ"
      },
      "id": "zvZu_DGturyJ",
      "execution_count": null,
      "outputs": []
    },
    {
      "cell_type": "markdown",
      "source": [
        "### Preparation"
      ],
      "metadata": {
        "id": "MVRkoqqP5SE1"
      },
      "id": "MVRkoqqP5SE1"
    },
    {
      "cell_type": "code",
      "source": [
        "import os\n",
        "import openai\n",
        "\n",
        "os.environ[\"OPENAI_API_KEY\"] = \"sk-\"\n",
        "openai.api_key = os.environ[\"OPENAI_API_KEY\"]\n",
        "\n",
        "import nest_asyncio\n",
        "\n",
        "nest_asyncio.apply()"
      ],
      "metadata": {
        "id": "5iP4rLUv5J1v"
      },
      "id": "5iP4rLUv5J1v",
      "execution_count": null,
      "outputs": []
    },
    {
      "cell_type": "markdown",
      "source": [
        "### Ingest Data - Uber 공시 자료"
      ],
      "metadata": {
        "id": "vcx8K7xN5V7Z"
      },
      "id": "vcx8K7xN5V7Z"
    },
    {
      "cell_type": "code",
      "source": [
        "# NOTE: the code examples assume you're operating within a Jupyter notebook.\n",
        "# download files\n",
        "!mkdir data\n",
        "!wget \"https://www.dropbox.com/s/948jr9cfs7fgj99/UBER.zip?dl=1\" -O data/UBER.zip\n",
        "!unzip data/UBER.zip -d data"
      ],
      "metadata": {
        "colab": {
          "base_uri": "https://localhost:8080/"
        },
        "id": "PkDhUPX_5bBz",
        "outputId": "7deaf8d8-690d-4138-c6c9-200ee0f94ee7"
      },
      "id": "PkDhUPX_5bBz",
      "execution_count": null,
      "outputs": [
        {
          "output_type": "stream",
          "name": "stdout",
          "text": [
            "--2023-12-05 07:34:16--  https://www.dropbox.com/s/948jr9cfs7fgj99/UBER.zip?dl=1\n",
            "Resolving www.dropbox.com (www.dropbox.com)... 162.125.65.18, 2620:100:6022:18::a27d:4212\n",
            "Connecting to www.dropbox.com (www.dropbox.com)|162.125.65.18|:443... connected.\n",
            "HTTP request sent, awaiting response... 302 Found\n",
            "Location: /s/dl/948jr9cfs7fgj99/UBER.zip [following]\n",
            "--2023-12-05 07:34:16--  https://www.dropbox.com/s/dl/948jr9cfs7fgj99/UBER.zip\n",
            "Reusing existing connection to www.dropbox.com:443.\n",
            "HTTP request sent, awaiting response... 302 Found\n",
            "Location: https://ucb2dae82421be543b83a07729e4.dl.dropboxusercontent.com/cd/0/get/CI2-aRmjNDT0Q_gLwZjnvlbofxo-mp_S_IHniS-Ne67V1CWfdkzL-1Zaa398ozBg-ZcaF1POIoSKaD6i6MzLAURL7ypEey29cZQ-mmxiVsK4kZHu0_JxqJsvxbbrZ-Sc_nxpydGIl3PSl268gMtP3f4-/file?dl=1# [following]\n",
            "--2023-12-05 07:34:17--  https://ucb2dae82421be543b83a07729e4.dl.dropboxusercontent.com/cd/0/get/CI2-aRmjNDT0Q_gLwZjnvlbofxo-mp_S_IHniS-Ne67V1CWfdkzL-1Zaa398ozBg-ZcaF1POIoSKaD6i6MzLAURL7ypEey29cZQ-mmxiVsK4kZHu0_JxqJsvxbbrZ-Sc_nxpydGIl3PSl268gMtP3f4-/file?dl=1\n",
            "Resolving ucb2dae82421be543b83a07729e4.dl.dropboxusercontent.com (ucb2dae82421be543b83a07729e4.dl.dropboxusercontent.com)... 162.125.2.15, 2620:100:6017:15::a27d:20f\n",
            "Connecting to ucb2dae82421be543b83a07729e4.dl.dropboxusercontent.com (ucb2dae82421be543b83a07729e4.dl.dropboxusercontent.com)|162.125.2.15|:443... connected.\n",
            "HTTP request sent, awaiting response... 200 OK\n",
            "Length: 1820227 (1.7M) [application/binary]\n",
            "Saving to: ‘data/UBER.zip’\n",
            "\n",
            "data/UBER.zip       100%[===================>]   1.74M  --.-KB/s    in 0.04s   \n",
            "\n",
            "2023-12-05 07:34:17 (40.7 MB/s) - ‘data/UBER.zip’ saved [1820227/1820227]\n",
            "\n",
            "Archive:  data/UBER.zip\n",
            "   creating: data/UBER/\n",
            "  inflating: data/UBER/UBER_2021.html  \n",
            "  inflating: data/__MACOSX/UBER/._UBER_2021.html  \n",
            "  inflating: data/UBER/UBER_2020.html  \n",
            "  inflating: data/__MACOSX/UBER/._UBER_2020.html  \n",
            "  inflating: data/UBER/UBER_2019.html  \n",
            "  inflating: data/__MACOSX/UBER/._UBER_2019.html  \n",
            "  inflating: data/UBER/UBER_2022.html  \n",
            "  inflating: data/__MACOSX/UBER/._UBER_2022.html  \n"
          ]
        }
      ]
    },
    {
      "cell_type": "markdown",
      "source": [
        "### HTML 파일을 서식 있는 텍스트로 구문 분석하기 위해 구조화되지 않은 라이브러리를 사용합니다. LlamaHub 덕분에 우리는 Unstructured와 직접 통합하여 모든 텍스트를 LlamaIndex가 수집할 수 있는 문서 형식으로 변환할 수 있습니다."
      ],
      "metadata": {
        "id": "o1Fv_v6j5sik"
      },
      "id": "o1Fv_v6j5sik"
    },
    {
      "cell_type": "code",
      "source": [
        "!pip install llama-hub unstructured"
      ],
      "metadata": {
        "id": "WAoz_WaC5Jy5"
      },
      "id": "WAoz_WaC5Jy5",
      "execution_count": null,
      "outputs": []
    },
    {
      "cell_type": "markdown",
      "source": [
        "### 그런 다음 UnstructuredReader를 사용하여 HTML 파일을 Document 개체 목록으로 구문 분석할 수 있습니다."
      ],
      "metadata": {
        "id": "B4KPlFYL6D67"
      },
      "id": "B4KPlFYL6D67"
    },
    {
      "cell_type": "code",
      "source": [
        "from llama_hub.file.unstructured.base import UnstructuredReader\n",
        "from pathlib import Path\n",
        "\n",
        "years = [2022, 2021, 2020, 2019]\n",
        "\n",
        "loader = UnstructuredReader()\n",
        "doc_set = {}\n",
        "all_docs = []\n",
        "for year in years:\n",
        "    year_docs = loader.load_data(\n",
        "        file=Path(f\"./data/UBER/UBER_{year}.html\"), split_documents=False\n",
        "    )\n",
        "    # insert year metadata into each year\n",
        "    for d in year_docs:\n",
        "        d.metadata = {\"year\": year}\n",
        "    doc_set[year] = year_docs\n",
        "    all_docs.extend(year_docs)"
      ],
      "metadata": {
        "colab": {
          "base_uri": "https://localhost:8080/"
        },
        "id": "S0ikm79G6Dq9",
        "outputId": "53deded6-7384-49cb-e3e1-ddc1ded42e04"
      },
      "id": "S0ikm79G6Dq9",
      "execution_count": null,
      "outputs": [
        {
          "output_type": "stream",
          "name": "stderr",
          "text": [
            "[nltk_data] Downloading package punkt to /root/nltk_data...\n",
            "[nltk_data]   Unzipping tokenizers/punkt.zip.\n",
            "[nltk_data] Downloading package averaged_perceptron_tagger to\n",
            "[nltk_data]     /root/nltk_data...\n",
            "[nltk_data]   Unzipping taggers/averaged_perceptron_tagger.zip.\n"
          ]
        }
      ]
    },
    {
      "cell_type": "markdown",
      "source": [
        "### 각 연도별 벡터 지수 설정"
      ],
      "metadata": {
        "id": "rrJqrtdc6T95"
      },
      "id": "rrJqrtdc6T95"
    },
    {
      "cell_type": "markdown",
      "source": [
        "### 먼저 각 연도에 대한 벡터 인덱스를 설정합니다. 각 벡터 인덱스를 통해 특정 연도의 10-K 제출에 대해 질문할 수 있습니다.\n",
        "\n",
        "### 각 인덱스를 작성하여 디스크에 저장합니다."
      ],
      "metadata": {
        "id": "svUHw1JT6fJw"
      },
      "id": "svUHw1JT6fJw"
    },
    {
      "cell_type": "code",
      "source": [
        "# initialize simple vector indices\n",
        "from llama_index import VectorStoreIndex, ServiceContext, StorageContext\n",
        "\n",
        "index_set = {}\n",
        "service_context = ServiceContext.from_defaults(chunk_size=512)\n",
        "for year in years:\n",
        "    storage_context = StorageContext.from_defaults()\n",
        "    cur_index = VectorStoreIndex.from_documents(\n",
        "        doc_set[year],\n",
        "        service_context=service_context,\n",
        "        storage_context=storage_context,\n",
        "    )\n",
        "    index_set[year] = cur_index\n",
        "    storage_context.persist(persist_dir=f\"./storage/{year}\")"
      ],
      "metadata": {
        "id": "N_XM0SjZ6a17"
      },
      "id": "N_XM0SjZ6a17",
      "execution_count": null,
      "outputs": []
    },
    {
      "cell_type": "markdown",
      "source": [
        "### 디스크에서 인덱스를 로드하려면 다음을 수행하세요."
      ],
      "metadata": {
        "id": "IttKbHiq6veu"
      },
      "id": "IttKbHiq6veu"
    },
    {
      "cell_type": "code",
      "source": [
        "# Load indices from disk\n",
        "from llama_index import load_index_from_storage, StorageContext\n",
        "\n",
        "index_set = {}\n",
        "for year in years:\n",
        "    storage_context = StorageContext.from_defaults(\n",
        "        persist_dir=f\"./storage/{year}\"\n",
        "    )\n",
        "    cur_index = load_index_from_storage(\n",
        "        storage_context, service_context=service_context\n",
        "    )\n",
        "    index_set[year] = cur_index"
      ],
      "metadata": {
        "id": "XviiHM0w60Wu"
      },
      "id": "XviiHM0w60Wu",
      "execution_count": null,
      "outputs": []
    },
    {
      "cell_type": "markdown",
      "source": [
        "### 10-K 파일링 전체에 걸쳐 답변을 종합하기 위한 하위 질문 쿼리 엔진 설정"
      ],
      "metadata": {
        "id": "_2o4M8pR8jNI"
      },
      "id": "_2o4M8pR8jNI"
    },
    {
      "cell_type": "markdown",
      "source": [
        "우리는 4년 간의 문서에 접근할 수 있으므로 해당 연도의 10-K 문서에 관한 질문뿐만 아니라 모든 10-K 서류에 대한 분석이 필요한 질문도 할 수 있습니다.\n",
        "\n",
        "이 문제를 해결하기 위해 하위 질문 쿼리 엔진을 사용할 수 있습니다. 쿼리를 개별 벡터 인덱스로 응답하는 하위 쿼리로 분해하고 결과를 종합하여 전체 쿼리에 응답합니다."
      ],
      "metadata": {
        "id": "OlXI8mox8091"
      },
      "id": "OlXI8mox8091"
    },
    {
      "cell_type": "code",
      "source": [
        "from llama_index.tools import QueryEngineTool, ToolMetadata\n",
        "\n",
        "individual_query_engine_tools = [\n",
        "    QueryEngineTool(\n",
        "        query_engine=index_set[year].as_query_engine(),\n",
        "        metadata=ToolMetadata(\n",
        "            name=f\"vector_index_{year}\",\n",
        "            description=f\"useful for when you want to answer queries about the {year} SEC 10-K for Uber\",\n",
        "        ),\n",
        "    )\n",
        "    for year in years\n",
        "]"
      ],
      "metadata": {
        "id": "-_FTolTK8pX9"
      },
      "id": "-_FTolTK8pX9",
      "execution_count": null,
      "outputs": []
    },
    {
      "cell_type": "code",
      "source": [
        "from llama_index.query_engine import SubQuestionQueryEngine\n",
        "\n",
        "query_engine = SubQuestionQueryEngine.from_defaults(\n",
        "    query_engine_tools=individual_query_engine_tools,\n",
        "    service_context=service_context,\n",
        ")"
      ],
      "metadata": {
        "id": "Rg5pDHet5JVT"
      },
      "id": "Rg5pDHet5JVT",
      "execution_count": null,
      "outputs": []
    },
    {
      "cell_type": "markdown",
      "source": [
        "### 챗봇 에이전트 설정"
      ],
      "metadata": {
        "id": "qqEWtNfW9FEg"
      },
      "id": "qqEWtNfW9FEg"
    },
    {
      "cell_type": "markdown",
      "source": [
        "우리는 LlamaIndex 데이터 에이전트를 사용하여 도구 세트에 액세스할 수 있는 외부 챗봇 에이전트를 설정합니다. 구체적으로 OpenAI API 함수 호출을 활용하는 OpenAIAgent를 사용하겠습니다. 우리는 위에서 정의한 하위 질문 쿼리 엔진을 위한 도구뿐만 아니라 각 지수(특정 연도에 해당)에 대해 이전에 정의한 별도의 도구를 사용하려고 합니다.\n",
        "\n",
        "먼저 하위 질문 쿼리 엔진에 대한 QueryEngineTool을 정의합니다."
      ],
      "metadata": {
        "id": "YSQzp56w9LtE"
      },
      "id": "YSQzp56w9LtE"
    },
    {
      "cell_type": "code",
      "source": [
        "query_engine_tool = QueryEngineTool(\n",
        "    query_engine=query_engine,\n",
        "    metadata=ToolMetadata(\n",
        "        name=\"sub_question_query_engine\",\n",
        "        description=\"useful for when you want to answer queries that require analyzing multiple SEC 10-K documents for Uber\",\n",
        "    ),\n",
        ")"
      ],
      "metadata": {
        "id": "H_o5p3UZ9X_4"
      },
      "id": "H_o5p3UZ9X_4",
      "execution_count": null,
      "outputs": []
    },
    {
      "cell_type": "markdown",
      "source": [
        "그런 다음 위에서 정의한 도구를 에이전트용 단일 도구 목록으로 결합합니다."
      ],
      "metadata": {
        "id": "9BUHOG4H9dzH"
      },
      "id": "9BUHOG4H9dzH"
    },
    {
      "cell_type": "code",
      "source": [
        "tools = individual_query_engine_tools + [query_engine_tool]"
      ],
      "metadata": {
        "id": "iL54_cBQ9kwg"
      },
      "id": "iL54_cBQ9kwg",
      "execution_count": null,
      "outputs": []
    },
    {
      "cell_type": "markdown",
      "source": [
        "마지막으로 위에서 정의한 도구 목록을 전달하여 OpenAIAgent.from_tools를 호출하여 에이전트를 생성합니다."
      ],
      "metadata": {
        "id": "veEwUHqB9i0k"
      },
      "id": "veEwUHqB9i0k"
    },
    {
      "cell_type": "code",
      "source": [
        "from llama_index.agent import OpenAIAgent\n",
        "\n",
        "agent = OpenAIAgent.from_tools(tools, verbose=True)"
      ],
      "metadata": {
        "id": "lxdKamyz9uCs"
      },
      "id": "lxdKamyz9uCs",
      "execution_count": null,
      "outputs": []
    },
    {
      "cell_type": "markdown",
      "source": [
        "### 에이전트 테스트"
      ],
      "metadata": {
        "id": "df6GR2809xxr"
      },
      "id": "df6GR2809xxr"
    },
    {
      "cell_type": "markdown",
      "source": [
        "이제 다양한 쿼리로 에이전트를 테스트할 수 있습니다.\n",
        "\n",
        "간단한 \"hello\" 쿼리로 테스트하면 에이전트는 어떤 도구도 사용하지 않습니다."
      ],
      "metadata": {
        "id": "bvtjYpxU92YW"
      },
      "id": "bvtjYpxU92YW"
    },
    {
      "cell_type": "code",
      "source": [
        "response = agent.chat(\"hi, i am Joon\")\n",
        "print(str(response))"
      ],
      "metadata": {
        "colab": {
          "base_uri": "https://localhost:8080/"
        },
        "id": "7RjjWHUC96-6",
        "outputId": "e325fffd-65ee-44f1-9c89-cce29b266b9c"
      },
      "id": "7RjjWHUC96-6",
      "execution_count": null,
      "outputs": [
        {
          "output_type": "stream",
          "name": "stdout",
          "text": [
            "STARTING TURN 1\n",
            "---------------\n",
            "\n",
            "Hello Joon! How can I assist you today?\n"
          ]
        }
      ]
    },
    {
      "cell_type": "markdown",
      "source": [
        "특정 연도의 10-k에 관한 쿼리로 테스트하면 에이전트는 관련 벡터 인덱스 도구를 사용합니다."
      ],
      "metadata": {
        "id": "C8LpZJCk-C7G"
      },
      "id": "C8LpZJCk-C7G"
    },
    {
      "cell_type": "code",
      "source": [
        "response = agent.chat(\n",
        "    \"What were some of the biggest risk factors in 2020 for Uber?\"\n",
        ")\n",
        "print(str(response))"
      ],
      "metadata": {
        "colab": {
          "base_uri": "https://localhost:8080/"
        },
        "id": "eokwUbx7-AtN",
        "outputId": "498bc8a0-7619-4ff0-d507-108aa5af35f6"
      },
      "id": "eokwUbx7-AtN",
      "execution_count": null,
      "outputs": [
        {
          "output_type": "stream",
          "name": "stdout",
          "text": [
            "STARTING TURN 1\n",
            "---------------\n",
            "\n",
            "=== Calling Function ===\n",
            "Calling function: vector_index_2020 with args: {\n",
            "  \"input\": \"biggest risk factors\"\n",
            "}\n",
            "Got output: The biggest risk factors mentioned in the context are as follows:\n",
            "\n",
            "1. The COVID-19 pandemic and the impact of actions to mitigate the pandemic.\n",
            "2. The classification of Drivers as employees, workers, or quasi-employees instead of independent contractors.\n",
            "3. Intense competition in the mobility, delivery, and logistics industries.\n",
            "4. The need to lower fares or service fees and offer driver incentives and consumer discounts to remain competitive.\n",
            "5. Significant losses incurred since inception and the uncertainty of achieving profitability.\n",
            "6. Uncertainty regarding the future growth of the Delivery offering.\n",
            "7. Dependence on trips in large metropolitan areas and trips to and from airports, which are susceptible to economic, social, weather, and regulatory conditions.\n",
            "8. Outbreaks of contagious diseases or other viruses, such as COVID-19, leading to a decline in the desirability of living, working, and congregating in metropolitan areas.\n",
            "9. Economic downturn, increased competition, or regulatory obstacles in key metropolitan areas adversely affecting the business, financial condition, and operating results.\n",
            "========================\n",
            "\n",
            "STARTING TURN 2\n",
            "---------------\n",
            "\n",
            "In 2020, some of the biggest risk factors for Uber were:\n",
            "\n",
            "1. The COVID-19 pandemic and the impact of actions taken to mitigate it.\n",
            "2. The classification of Drivers as employees, workers, or quasi-employees instead of independent contractors.\n",
            "3. Intense competition in the mobility, delivery, and logistics industries.\n",
            "4. The need to lower fares or service fees and offer driver incentives and consumer discounts to remain competitive.\n",
            "5. Significant losses incurred since inception and uncertainty about achieving profitability.\n",
            "6. Uncertainty regarding the future growth of the Delivery offering.\n",
            "7. Dependence on trips in large metropolitan areas and trips to and from airports, which are susceptible to economic, social, weather, and regulatory conditions.\n",
            "8. Outbreaks of contagious diseases or other viruses, such as COVID-19, leading to a decline in the desirability of living, working, and congregating in metropolitan areas.\n",
            "9. Economic downturn, increased competition, or regulatory obstacles in key metropolitan areas adversely affecting the business, financial condition, and operating results.\n",
            "\n",
            "These risk factors highlight the challenges and uncertainties that Uber faced in 2020.\n"
          ]
        }
      ]
    },
    {
      "cell_type": "markdown",
      "source": [
        "마지막으로 수년간 위험 요소를 비교/대조하는 쿼리로 테스트하면 에이전트는 하위 질문 쿼리 엔진 도구를 사용합니다."
      ],
      "metadata": {
        "id": "6t2z7Jsq-OB9"
      },
      "id": "6t2z7Jsq-OB9"
    },
    {
      "cell_type": "code",
      "source": [
        "cross_query_str = \"Compare/contrast the risk factors described in the Uber 10-K across years. Give answer in bullet points.\"\n",
        "\n",
        "response = agent.chat(cross_query_str)\n",
        "print(str(response))"
      ],
      "metadata": {
        "colab": {
          "base_uri": "https://localhost:8080/"
        },
        "id": "T9SgsGyd-TGr",
        "outputId": "772dad4b-fd67-4a42-a994-579b31638d3a"
      },
      "id": "T9SgsGyd-TGr",
      "execution_count": null,
      "outputs": [
        {
          "output_type": "stream",
          "name": "stdout",
          "text": [
            "STARTING TURN 1\n",
            "---------------\n",
            "\n",
            "=== Calling Function ===\n",
            "Calling function: sub_question_query_engine with args: {\n",
            "  \"input\": \"Compare/contrast the risk factors described in the Uber 10-K across years\"\n",
            "}\n",
            "Generated 4 sub questions.\n",
            "\u001b[1;3;38;2;237;90;200m[vector_index_2022] Q: What are the risk factors described in the 2022 SEC 10-K for Uber?\n",
            "\u001b[0m\u001b[1;3;38;2;90;149;237m[vector_index_2021] Q: What are the risk factors described in the 2021 SEC 10-K for Uber?\n",
            "\u001b[0m\u001b[1;3;38;2;11;159;203m[vector_index_2020] Q: What are the risk factors described in the 2020 SEC 10-K for Uber?\n",
            "\u001b[0m\u001b[1;3;38;2;155;135;227m[vector_index_2019] Q: What are the risk factors described in the 2019 SEC 10-K for Uber?\n",
            "\u001b[0m\u001b[1;3;38;2;155;135;227m[vector_index_2019] A: The risk factors described in the 2019 SEC 10-K for Uber are not provided in the given context information.\n",
            "\u001b[0m\u001b[1;3;38;2;237;90;200m[vector_index_2022] A: The risk factors described in the 2022 SEC 10-K for Uber include the potential adverse effect on their business if drivers were classified as employees instead of independent contractors, the highly competitive nature of the mobility, delivery, and logistics industries with low barriers to entry and well-capitalized competitors, the need to lower fares or service fees and offer driver incentives and consumer discounts to remain competitive in certain markets, the significant losses incurred by Uber since inception and the expectation of increased operating expenses in the future.\n",
            "\u001b[0m\u001b[1;3;38;2;90;149;237m[vector_index_2021] A: The risk factors described in the 2021 SEC 10-K for Uber include the adverse impact of the COVID-19 pandemic and actions taken to mitigate it on their business, the potential reclassification of drivers as employees instead of independent contractors, intense competition in the mobility, delivery, and logistics industries, the need to lower fares or service fees and offer driver incentives and consumer discounts to remain competitive, significant losses incurred since inception and the expectation of increased operating expenses in the future.\n",
            "\u001b[0m\u001b[1;3;38;2;11;159;203m[vector_index_2020] A: The risk factors described in the 2020 SEC 10-K for Uber include the adverse impact of the COVID-19 pandemic and actions taken to mitigate it on their business, the potential reclassification of drivers as employees instead of independent contractors, intense competition in the mobility, delivery, and logistics industries, the need to lower fares or service fees and offer driver incentives and consumer discounts to remain competitive, and the company's history of significant losses and the expectation of increased operating expenses in the future.\n",
            "\u001b[0mGot output: The risk factors described in the Uber 10-K across the years include the adverse impact of the COVID-19 pandemic and actions taken to mitigate it on their business, the potential reclassification of drivers as employees instead of independent contractors, intense competition in the mobility, delivery, and logistics industries, the need to lower fares or service fees and offer driver incentives and consumer discounts to remain competitive, and the company's history of significant losses and the expectation of increased operating expenses in the future. These risk factors have remained consistent over the years, indicating ongoing challenges and concerns for Uber's business operations.\n",
            "========================\n",
            "\n",
            "STARTING TURN 2\n",
            "---------------\n",
            "\n",
            "Here is a comparison of the risk factors described in the Uber 10-K across years:\n",
            "\n",
            "2020:\n",
            "- Adverse impact of the COVID-19 pandemic and actions taken to mitigate it on the business.\n",
            "- Potential reclassification of drivers as employees instead of independent contractors.\n",
            "- Intense competition in the mobility, delivery, and logistics industries.\n",
            "- Need to lower fares or service fees and offer driver incentives and consumer discounts to remain competitive.\n",
            "- History of significant losses and the expectation of increased operating expenses in the future.\n",
            "\n",
            "2019:\n",
            "- Adverse impact of the COVID-19 pandemic and actions taken to mitigate it on the business.\n",
            "- Potential reclassification of drivers as employees instead of independent contractors.\n",
            "- Intense competition in the mobility, delivery, and logistics industries.\n",
            "- Need to lower fares or service fees and offer driver incentives and consumer discounts to remain competitive.\n",
            "- History of significant losses and the expectation of increased operating expenses in the future.\n",
            "\n",
            "2018:\n",
            "- Adverse impact of the COVID-19 pandemic and actions taken to mitigate it on the business.\n",
            "- Potential reclassification of drivers as employees instead of independent contractors.\n",
            "- Intense competition in the mobility, delivery, and logistics industries.\n",
            "- Need to lower fares or service fees and offer driver incentives and consumer discounts to remain competitive.\n",
            "- History of significant losses and the expectation of increased operating expenses in the future.\n",
            "\n",
            "From this comparison, it is evident that the risk factors described in the Uber 10-K have remained consistent over the years. The COVID-19 pandemic, driver classification, competition, pricing strategies, and financial challenges have been ongoing concerns for the company.\n"
          ]
        }
      ]
    },
    {
      "cell_type": "markdown",
      "source": [
        "### 챗봇 루프 설정"
      ],
      "metadata": {
        "id": "zTbHvoWG_yVB"
      },
      "id": "zTbHvoWG_yVB"
    },
    {
      "cell_type": "code",
      "source": [
        "agent = OpenAIAgent.from_tools(tools)  # verbose=False by default\n",
        "\n",
        "while True:\n",
        "    text_input = input(\"User: \")\n",
        "    if text_input == \"exit\":\n",
        "        break\n",
        "    response = agent.chat(text_input)\n",
        "    print(f\"Agent: {response}\")"
      ],
      "metadata": {
        "id": "Azy6Iy-F_wI2"
      },
      "id": "Azy6Iy-F_wI2",
      "execution_count": null,
      "outputs": []
    }
  ],
  "metadata": {
    "kernelspec": {
      "display_name": "gpt_index",
      "language": "python",
      "name": "gpt_index"
    },
    "language_info": {
      "codemirror_mode": {
        "name": "ipython",
        "version": 3
      },
      "file_extension": ".py",
      "mimetype": "text/x-python",
      "name": "python",
      "nbconvert_exporter": "python",
      "pygments_lexer": "ipython3"
    },
    "colab": {
      "provenance": [],
      "gpuType": "T4",
      "include_colab_link": true
    },
    "accelerator": "GPU"
  },
  "nbformat": 4,
  "nbformat_minor": 5
}