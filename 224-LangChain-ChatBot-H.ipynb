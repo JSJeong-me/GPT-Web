{
  "cells": [
    {
      "cell_type": "markdown",
      "metadata": {
        "id": "view-in-github",
        "colab_type": "text"
      },
      "source": [
        "<a href=\"https://colab.research.google.com/github/JSJeong-me/GPT-Web/blob/main/224-LangChain-ChatBot-H.ipynb\" target=\"_parent\"><img src=\"https://colab.research.google.com/assets/colab-badge.svg\" alt=\"Open In Colab\"/></a>"
      ]
    },
    {
      "cell_type": "code",
      "source": [
        "import warnings\n",
        "warnings.filterwarnings(\"ignore\")"
      ],
      "metadata": {
        "id": "RrtwqJvSPc18"
      },
      "execution_count": 1,
      "outputs": []
    },
    {
      "cell_type": "code",
      "source": [
        "!pip install gradio\n",
        "!pip install langchain langchain_community\n",
        "!pip install -qU langchain-openai"
      ],
      "metadata": {
        "id": "NpiiZKJl0GDn"
      },
      "execution_count": null,
      "outputs": []
    },
    {
      "cell_type": "code",
      "source": [
        "from google.colab import userdata\n",
        "import os\n",
        "\n",
        "os.environ[\"OPENAI_API_KEY\"] = userdata.get('OPENAI_API_KEY')\n",
        "api_key = os.getenv(\"OPENAI_API_KEY\")"
      ],
      "metadata": {
        "id": "vaBtHL7d0app"
      },
      "execution_count": 3,
      "outputs": []
    },
    {
      "cell_type": "code",
      "source": [
        "import json\n",
        "from langchain_openai import ChatOpenAI\n",
        "from langchain_core.messages import HumanMessage, AIMessage\n",
        "import gradio as gr\n",
        "from datetime import datetime\n",
        "\n",
        "# Initialize the chat model\n",
        "llm = ChatOpenAI(model=\"gpt-3.5-turbo\")"
      ],
      "metadata": {
        "id": "AD1MXaBh4uoN"
      },
      "execution_count": 4,
      "outputs": []
    },
    {
      "cell_type": "markdown",
      "source": [
        "감정 분석 기능:\n",
        "유저의 메시지에 대한 감정 분석을 수행하여, 챗봇의 응답을 감정에 따라 조절할 수 있습니다."
      ],
      "metadata": {
        "id": "4M0fE3EJXdp7"
      }
    },
    {
      "cell_type": "code",
      "source": [
        "from textblob import TextBlob\n",
        "import gradio as gr\n",
        "from langchain.schema import HumanMessage, AIMessage\n",
        "\n",
        "def predict(message, history):\n",
        "    if history is None:\n",
        "        history = []\n",
        "\n",
        "    history_langchain_format = []\n",
        "    for human, ai in history:\n",
        "        history_langchain_format.append(HumanMessage(content=human))\n",
        "        history_langchain_format.append(AIMessage(content=ai))\n",
        "\n",
        "    # Adding only the current human message to the format history\n",
        "    history_langchain_format.append(HumanMessage(content=message))\n",
        "\n",
        "    # Generate GPT response\n",
        "    gpt_response = llm(history_langchain_format)\n",
        "\n",
        "    # Analyzing the sentiment of the human message\n",
        "    human_sentiment = TextBlob(message).sentiment\n",
        "    if human_sentiment.polarity < 0:\n",
        "        gpt_response.content = \"It's sad to hear such stories.\" + gpt_response.content\n",
        "\n",
        "    # Analyzing the sentiment of the AI response\n",
        "    ai_sentiment = TextBlob(gpt_response.content).sentiment\n",
        "    if ai_sentiment.polarity < 0:\n",
        "        gpt_response.content = gpt_response.content + \" I hope this helps.\"\n",
        "\n",
        "    # Append the human message and AI response to history\n",
        "    history.append((message, gpt_response.content))\n",
        "\n",
        "    return gpt_response.content, history\n",
        "\n",
        "# Define Gradio interface\n",
        "iface = gr.Interface(\n",
        "    fn=predict,\n",
        "    inputs=[\"text\", \"state\"],\n",
        "    outputs=[\"text\", \"state\"],\n",
        "    live=False  # Turn off streaming\n",
        ")\n",
        "\n",
        "# Launch the interface\n",
        "iface.launch(share=True)\n"
      ],
      "metadata": {
        "id": "zdcLB4mkYQyQ",
        "outputId": "74d03812-6637-4bd8-ce7c-a636f182938b",
        "colab": {
          "base_uri": "https://localhost:8080/",
          "height": 613
        }
      },
      "execution_count": 5,
      "outputs": [
        {
          "output_type": "stream",
          "name": "stdout",
          "text": [
            "Colab notebook detected. To show errors in colab notebook, set debug=True in launch()\n",
            "* Running on public URL: https://a6208108341f66bcde.gradio.live\n",
            "\n",
            "This share link expires in 72 hours. For free permanent hosting and GPU upgrades, run `gradio deploy` from the terminal in the working directory to deploy to Hugging Face Spaces (https://huggingface.co/spaces)\n"
          ]
        },
        {
          "output_type": "display_data",
          "data": {
            "text/plain": [
              "<IPython.core.display.HTML object>"
            ],
            "text/html": [
              "<div><iframe src=\"https://a6208108341f66bcde.gradio.live\" width=\"100%\" height=\"500\" allow=\"autoplay; camera; microphone; clipboard-read; clipboard-write;\" frameborder=\"0\" allowfullscreen></iframe></div>"
            ]
          },
          "metadata": {}
        },
        {
          "output_type": "execute_result",
          "data": {
            "text/plain": []
          },
          "metadata": {},
          "execution_count": 5
        }
      ]
    }
  ],
  "metadata": {
    "kernelspec": {
      "display_name": "Python 3",
      "name": "python3"
    },
    "language_info": {
      "codemirror_mode": {
        "name": "ipython",
        "version": 3
      },
      "file_extension": ".py",
      "mimetype": "text/x-python",
      "name": "python",
      "nbconvert_exporter": "python",
      "pygments_lexer": "ipython3",
      "version": "3.8.5"
    },
    "colab": {
      "provenance": [],
      "gpuType": "T4",
      "include_colab_link": true
    },
    "accelerator": "GPU"
  },
  "nbformat": 4,
  "nbformat_minor": 0
}