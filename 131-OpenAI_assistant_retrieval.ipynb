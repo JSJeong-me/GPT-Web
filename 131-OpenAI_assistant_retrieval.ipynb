{
  "cells": [
    {
      "cell_type": "markdown",
      "metadata": {
        "id": "view-in-github",
        "colab_type": "text"
      },
      "source": [
        "<a href=\"https://colab.research.google.com/github/JSJeong-me/GPT-Web/blob/main/131-OpenAI_assistant_retrieval.ipynb\" target=\"_parent\"><img src=\"https://colab.research.google.com/assets/colab-badge.svg\" alt=\"Open In Colab\"/></a>"
      ]
    },
    {
      "cell_type": "markdown",
      "source": [
        "### https://www.youtube.com/watch?v=vQhEiR2bNY8&t=11s"
      ],
      "metadata": {
        "id": "FQEjHdGRn6NQ"
      }
    },
    {
      "cell_type": "code",
      "execution_count": null,
      "metadata": {
        "id": "Tx76UZqHn4bD"
      },
      "outputs": [],
      "source": [
        "# Set up the client\n",
        "\n",
        "from openai import OpenAI\n",
        "import os\n",
        "\n",
        "client = OpenAI(\n",
        "    api_key=os.getenv(\"OPEN_AI_KEY\")\n",
        ")"
      ]
    },
    {
      "cell_type": "code",
      "execution_count": null,
      "metadata": {
        "id": "1j90diipn4bF"
      },
      "outputs": [],
      "source": [
        "# Declare the Assistant's ID\n",
        "\n",
        "assistant_id = \"YOUR_ASSISTANT_ID_HERE\""
      ]
    },
    {
      "cell_type": "code",
      "execution_count": null,
      "metadata": {
        "id": "5FAQ7BFRn4bG"
      },
      "outputs": [],
      "source": [
        "# Fetch the assistant\n",
        "\n",
        "assistant = client.beta.assistants.retrieve(\n",
        "    assistant_id=assistant_id\n",
        ")\n",
        "assistant"
      ]
    },
    {
      "cell_type": "code",
      "execution_count": null,
      "metadata": {
        "id": "t23hVWyVn4bG"
      },
      "outputs": [],
      "source": [
        "# Create a thread\n",
        "\n",
        "thread = client.beta.threads.create()\n",
        "thread"
      ]
    },
    {
      "cell_type": "code",
      "execution_count": null,
      "metadata": {
        "id": "mycF0PO_n4bH"
      },
      "outputs": [],
      "source": [
        "# Prompt the model to tell us all about the data provided\n",
        "\n",
        "run = client.beta.threads.runs.create(\n",
        "    thread_id=thread.id,\n",
        "    assistant_id=assistant.id,\n",
        "    instructions=\"What is the name of the second album?\"\n",
        ")\n",
        "run"
      ]
    },
    {
      "cell_type": "code",
      "execution_count": null,
      "metadata": {
        "id": "UotIzIYPn4bH"
      },
      "outputs": [],
      "source": [
        "# Wait until the job has finished completed\n",
        "# (you can re-run this step to check the completed_at state)\n",
        "\n",
        "run = client.beta.threads.runs.retrieve(\n",
        "    thread_id=thread.id,\n",
        "    run_id=run.id\n",
        ")\n",
        "run"
      ]
    },
    {
      "cell_type": "code",
      "execution_count": null,
      "metadata": {
        "id": "R3tcEtYun4bH"
      },
      "outputs": [],
      "source": [
        "# Show the latest message!\n",
        "\n",
        "messages = client.beta.threads.messages.list(\n",
        "    thread_id=thread.id\n",
        ")\n",
        "messages.data[0].content[0]"
      ]
    }
  ],
  "metadata": {
    "kernelspec": {
      "display_name": ".venv",
      "language": "python",
      "name": "python3"
    },
    "language_info": {
      "codemirror_mode": {
        "name": "ipython",
        "version": 3
      },
      "file_extension": ".py",
      "mimetype": "text/x-python",
      "name": "python",
      "nbconvert_exporter": "python",
      "pygments_lexer": "ipython3",
      "version": "3.11.6"
    },
    "colab": {
      "provenance": [],
      "include_colab_link": true
    }
  },
  "nbformat": 4,
  "nbformat_minor": 0
}